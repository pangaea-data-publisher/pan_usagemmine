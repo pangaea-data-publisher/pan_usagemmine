{
 "cells": [
  {
   "cell_type": "code",
   "execution_count": 1,
   "metadata": {},
   "outputs": [],
   "source": [
    "import pandas as pd"
   ]
  },
  {
   "cell_type": "code",
   "execution_count": 2,
   "metadata": {},
   "outputs": [],
   "source": [
    "myfile = 'www.pangaea.de-access-anon.log.bz2'"
   ]
  },
  {
   "cell_type": "code",
   "execution_count": 3,
   "metadata": {},
   "outputs": [],
   "source": [
    "logData = pd.read_csv(myfile, sep='\\s+',names=['hashed ID','pangea','delete1','t1','t2','log','status','size','delete2','device'],header=None)"
   ]
  },
  {
   "cell_type": "code",
   "execution_count": 4,
   "metadata": {},
   "outputs": [
    {
     "data": {
      "text/html": [
       "<div>\n",
       "<style scoped>\n",
       "    .dataframe tbody tr th:only-of-type {\n",
       "        vertical-align: middle;\n",
       "    }\n",
       "\n",
       "    .dataframe tbody tr th {\n",
       "        vertical-align: top;\n",
       "    }\n",
       "\n",
       "    .dataframe thead th {\n",
       "        text-align: right;\n",
       "    }\n",
       "</style>\n",
       "<table border=\"1\" class=\"dataframe\">\n",
       "  <thead>\n",
       "    <tr style=\"text-align: right;\">\n",
       "      <th></th>\n",
       "      <th>hashed ID</th>\n",
       "      <th>pangea</th>\n",
       "      <th>delete1</th>\n",
       "      <th>t1</th>\n",
       "      <th>t2</th>\n",
       "      <th>log</th>\n",
       "      <th>status</th>\n",
       "      <th>size</th>\n",
       "      <th>delete2</th>\n",
       "      <th>device</th>\n",
       "    </tr>\n",
       "  </thead>\n",
       "  <tbody>\n",
       "    <tr>\n",
       "      <td>0</td>\n",
       "      <td>68aa873d61a6586244b0892d7bca2573</td>\n",
       "      <td>http://www.pangaea.de</td>\n",
       "      <td>-</td>\n",
       "      <td>[30/Sep/2019:06:25:44</td>\n",
       "      <td>+0000]</td>\n",
       "      <td>GET /search?ie=UTF-8&amp;q=parameter%3A%22Bathysip...</td>\n",
       "      <td>301</td>\n",
       "      <td>178</td>\n",
       "      <td>-</td>\n",
       "      <td>Mozilla/5.0 (compatible; AhrefsBot/6.1; +http:...</td>\n",
       "    </tr>\n",
       "    <tr>\n",
       "      <td>1</td>\n",
       "      <td>a9b74a347fa53fceed817cec4dabe1b0</td>\n",
       "      <td>http://www.pangaea.de</td>\n",
       "      <td>-</td>\n",
       "      <td>[30/Sep/2019:06:25:54</td>\n",
       "      <td>+0000]</td>\n",
       "      <td>GET /search?ie=UTF-8&amp;q=PI%3Aemail%3Asinam%40ki...</td>\n",
       "      <td>301</td>\n",
       "      <td>178</td>\n",
       "      <td>-</td>\n",
       "      <td>Mozilla/5.0 (compatible; AhrefsBot/6.1; +http:...</td>\n",
       "    </tr>\n",
       "    <tr>\n",
       "      <td>2</td>\n",
       "      <td>55e11990b11106b85a85921f4369485e</td>\n",
       "      <td>https://www.pangaea.de</td>\n",
       "      <td>-</td>\n",
       "      <td>[30/Sep/2019:06:25:54</td>\n",
       "      <td>+0000]</td>\n",
       "      <td>GET /search?maxdate=2005-12-31T23%3A59%3A59&amp;mi...</td>\n",
       "      <td>301</td>\n",
       "      <td>519</td>\n",
       "      <td>-</td>\n",
       "      <td>Mozilla/5.0 (compatible; SemrushBot/6~bl; +htt...</td>\n",
       "    </tr>\n",
       "    <tr>\n",
       "      <td>3</td>\n",
       "      <td>75892c86ec3272b7fa79e0f2c375a9f5</td>\n",
       "      <td>https://www.pangaea.de</td>\n",
       "      <td>-</td>\n",
       "      <td>[30/Sep/2019:06:25:56</td>\n",
       "      <td>+0000]</td>\n",
       "      <td>GET /?maxdate=2005-12-31T23%3A59%3A59&amp;mindate=...</td>\n",
       "      <td>200</td>\n",
       "      <td>77428</td>\n",
       "      <td>-</td>\n",
       "      <td>Mozilla/5.0 (compatible; SemrushBot/6~bl; +htt...</td>\n",
       "    </tr>\n",
       "    <tr>\n",
       "      <td>4</td>\n",
       "      <td>112f467bd0b8740ee966059ac6ac9979</td>\n",
       "      <td>https://www.pangaea.de</td>\n",
       "      <td>-</td>\n",
       "      <td>[30/Sep/2019:06:26:00</td>\n",
       "      <td>+0000]</td>\n",
       "      <td>GET /nosupplement.php?uri=doi%3A10.1016%2Fs037...</td>\n",
       "      <td>200</td>\n",
       "      <td>2925</td>\n",
       "      <td>-</td>\n",
       "      <td>Mozilla/5.0 (compatible; SemrushBot/6~bl; +htt...</td>\n",
       "    </tr>\n",
       "  </tbody>\n",
       "</table>\n",
       "</div>"
      ],
      "text/plain": [
       "                          hashed ID                  pangea delete1  \\\n",
       "0  68aa873d61a6586244b0892d7bca2573   http://www.pangaea.de       -   \n",
       "1  a9b74a347fa53fceed817cec4dabe1b0   http://www.pangaea.de       -   \n",
       "2  55e11990b11106b85a85921f4369485e  https://www.pangaea.de       -   \n",
       "3  75892c86ec3272b7fa79e0f2c375a9f5  https://www.pangaea.de       -   \n",
       "4  112f467bd0b8740ee966059ac6ac9979  https://www.pangaea.de       -   \n",
       "\n",
       "                      t1      t2  \\\n",
       "0  [30/Sep/2019:06:25:44  +0000]   \n",
       "1  [30/Sep/2019:06:25:54  +0000]   \n",
       "2  [30/Sep/2019:06:25:54  +0000]   \n",
       "3  [30/Sep/2019:06:25:56  +0000]   \n",
       "4  [30/Sep/2019:06:26:00  +0000]   \n",
       "\n",
       "                                                 log  status   size delete2  \\\n",
       "0  GET /search?ie=UTF-8&q=parameter%3A%22Bathysip...     301    178       -   \n",
       "1  GET /search?ie=UTF-8&q=PI%3Aemail%3Asinam%40ki...     301    178       -   \n",
       "2  GET /search?maxdate=2005-12-31T23%3A59%3A59&mi...     301    519       -   \n",
       "3  GET /?maxdate=2005-12-31T23%3A59%3A59&mindate=...     200  77428       -   \n",
       "4  GET /nosupplement.php?uri=doi%3A10.1016%2Fs037...     200   2925       -   \n",
       "\n",
       "                                              device  \n",
       "0  Mozilla/5.0 (compatible; AhrefsBot/6.1; +http:...  \n",
       "1  Mozilla/5.0 (compatible; AhrefsBot/6.1; +http:...  \n",
       "2  Mozilla/5.0 (compatible; SemrushBot/6~bl; +htt...  \n",
       "3  Mozilla/5.0 (compatible; SemrushBot/6~bl; +htt...  \n",
       "4  Mozilla/5.0 (compatible; SemrushBot/6~bl; +htt...  "
      ]
     },
     "execution_count": 4,
     "metadata": {},
     "output_type": "execute_result"
    }
   ],
   "source": [
    "logData.head()"
   ]
  },
  {
   "cell_type": "code",
   "execution_count": 5,
   "metadata": {},
   "outputs": [],
   "source": [
    "logData['time']=logData['t1']+logData['t2']"
   ]
  },
  {
   "cell_type": "code",
   "execution_count": 6,
   "metadata": {},
   "outputs": [],
   "source": [
    "logDataModified = logData.drop(['delete1', 'delete2','t1','t2','pangea'], axis=1)"
   ]
  },
  {
   "cell_type": "code",
   "execution_count": 7,
   "metadata": {},
   "outputs": [
    {
     "data": {
      "text/html": [
       "<div>\n",
       "<style scoped>\n",
       "    .dataframe tbody tr th:only-of-type {\n",
       "        vertical-align: middle;\n",
       "    }\n",
       "\n",
       "    .dataframe tbody tr th {\n",
       "        vertical-align: top;\n",
       "    }\n",
       "\n",
       "    .dataframe thead th {\n",
       "        text-align: right;\n",
       "    }\n",
       "</style>\n",
       "<table border=\"1\" class=\"dataframe\">\n",
       "  <thead>\n",
       "    <tr style=\"text-align: right;\">\n",
       "      <th></th>\n",
       "      <th>hashed ID</th>\n",
       "      <th>log</th>\n",
       "      <th>status</th>\n",
       "      <th>size</th>\n",
       "      <th>device</th>\n",
       "      <th>time</th>\n",
       "    </tr>\n",
       "  </thead>\n",
       "  <tbody>\n",
       "    <tr>\n",
       "      <td>0</td>\n",
       "      <td>68aa873d61a6586244b0892d7bca2573</td>\n",
       "      <td>GET /search?ie=UTF-8&amp;q=parameter%3A%22Bathysip...</td>\n",
       "      <td>301</td>\n",
       "      <td>178</td>\n",
       "      <td>Mozilla/5.0 (compatible; AhrefsBot/6.1; +http:...</td>\n",
       "      <td>[30/Sep/2019:06:25:44+0000]</td>\n",
       "    </tr>\n",
       "    <tr>\n",
       "      <td>1</td>\n",
       "      <td>a9b74a347fa53fceed817cec4dabe1b0</td>\n",
       "      <td>GET /search?ie=UTF-8&amp;q=PI%3Aemail%3Asinam%40ki...</td>\n",
       "      <td>301</td>\n",
       "      <td>178</td>\n",
       "      <td>Mozilla/5.0 (compatible; AhrefsBot/6.1; +http:...</td>\n",
       "      <td>[30/Sep/2019:06:25:54+0000]</td>\n",
       "    </tr>\n",
       "    <tr>\n",
       "      <td>2</td>\n",
       "      <td>55e11990b11106b85a85921f4369485e</td>\n",
       "      <td>GET /search?maxdate=2005-12-31T23%3A59%3A59&amp;mi...</td>\n",
       "      <td>301</td>\n",
       "      <td>519</td>\n",
       "      <td>Mozilla/5.0 (compatible; SemrushBot/6~bl; +htt...</td>\n",
       "      <td>[30/Sep/2019:06:25:54+0000]</td>\n",
       "    </tr>\n",
       "    <tr>\n",
       "      <td>3</td>\n",
       "      <td>75892c86ec3272b7fa79e0f2c375a9f5</td>\n",
       "      <td>GET /?maxdate=2005-12-31T23%3A59%3A59&amp;mindate=...</td>\n",
       "      <td>200</td>\n",
       "      <td>77428</td>\n",
       "      <td>Mozilla/5.0 (compatible; SemrushBot/6~bl; +htt...</td>\n",
       "      <td>[30/Sep/2019:06:25:56+0000]</td>\n",
       "    </tr>\n",
       "    <tr>\n",
       "      <td>4</td>\n",
       "      <td>112f467bd0b8740ee966059ac6ac9979</td>\n",
       "      <td>GET /nosupplement.php?uri=doi%3A10.1016%2Fs037...</td>\n",
       "      <td>200</td>\n",
       "      <td>2925</td>\n",
       "      <td>Mozilla/5.0 (compatible; SemrushBot/6~bl; +htt...</td>\n",
       "      <td>[30/Sep/2019:06:26:00+0000]</td>\n",
       "    </tr>\n",
       "    <tr>\n",
       "      <td>...</td>\n",
       "      <td>...</td>\n",
       "      <td>...</td>\n",
       "      <td>...</td>\n",
       "      <td>...</td>\n",
       "      <td>...</td>\n",
       "      <td>...</td>\n",
       "    </tr>\n",
       "    <tr>\n",
       "      <td>3874083</td>\n",
       "      <td>6cfe6735394bde66910dd1d72a849848</td>\n",
       "      <td>GET /?count=10&amp;q=parameter%3A%22Bartonella+bir...</td>\n",
       "      <td>200</td>\n",
       "      <td>61170</td>\n",
       "      <td>Mozilla/5.0 (compatible; MJ12bot/v1.4.8; http:...</td>\n",
       "      <td>[25/Nov/2019:06:26:08+0000]</td>\n",
       "    </tr>\n",
       "    <tr>\n",
       "      <td>3874084</td>\n",
       "      <td>6cfe6735394bde66910dd1d72a849848</td>\n",
       "      <td>GET /search?ie=UTF-8&amp;count=10&amp;q=parameter:%22B...</td>\n",
       "      <td>301</td>\n",
       "      <td>178</td>\n",
       "      <td>Mozilla/5.0 (compatible; MJ12bot/v1.4.8; http:...</td>\n",
       "      <td>[25/Nov/2019:06:26:09+0000]</td>\n",
       "    </tr>\n",
       "    <tr>\n",
       "      <td>3874085</td>\n",
       "      <td>6cfe6735394bde66910dd1d72a849848</td>\n",
       "      <td>GET /search?ie=UTF-8&amp;count=10&amp;q=parameter:%22B...</td>\n",
       "      <td>301</td>\n",
       "      <td>357</td>\n",
       "      <td>Mozilla/5.0 (compatible; MJ12bot/v1.4.8; http:...</td>\n",
       "      <td>[25/Nov/2019:06:26:11+0000]</td>\n",
       "    </tr>\n",
       "    <tr>\n",
       "      <td>3874086</td>\n",
       "      <td>6cfe6735394bde66910dd1d72a849848</td>\n",
       "      <td>GET /search?ie=UTF-8&amp;count=10&amp;q=parameter:%22B...</td>\n",
       "      <td>301</td>\n",
       "      <td>178</td>\n",
       "      <td>Mozilla/5.0 (compatible; MJ12bot/v1.4.8; http:...</td>\n",
       "      <td>[25/Nov/2019:06:26:17+0000]</td>\n",
       "    </tr>\n",
       "    <tr>\n",
       "      <td>3874087</td>\n",
       "      <td>6cfe6735394bde66910dd1d72a849848</td>\n",
       "      <td>GET /search?ie=UTF-8&amp;count=10&amp;q=parameter:%22B...</td>\n",
       "      <td>301</td>\n",
       "      <td>178</td>\n",
       "      <td>Mozilla/5.0 (compatible; MJ12bot/v1.4.8; http:...</td>\n",
       "      <td>[25/Nov/2019:06:26:22+0000]</td>\n",
       "    </tr>\n",
       "  </tbody>\n",
       "</table>\n",
       "<p>3874088 rows × 6 columns</p>\n",
       "</div>"
      ],
      "text/plain": [
       "                                hashed ID  \\\n",
       "0        68aa873d61a6586244b0892d7bca2573   \n",
       "1        a9b74a347fa53fceed817cec4dabe1b0   \n",
       "2        55e11990b11106b85a85921f4369485e   \n",
       "3        75892c86ec3272b7fa79e0f2c375a9f5   \n",
       "4        112f467bd0b8740ee966059ac6ac9979   \n",
       "...                                   ...   \n",
       "3874083  6cfe6735394bde66910dd1d72a849848   \n",
       "3874084  6cfe6735394bde66910dd1d72a849848   \n",
       "3874085  6cfe6735394bde66910dd1d72a849848   \n",
       "3874086  6cfe6735394bde66910dd1d72a849848   \n",
       "3874087  6cfe6735394bde66910dd1d72a849848   \n",
       "\n",
       "                                                       log  status   size  \\\n",
       "0        GET /search?ie=UTF-8&q=parameter%3A%22Bathysip...     301    178   \n",
       "1        GET /search?ie=UTF-8&q=PI%3Aemail%3Asinam%40ki...     301    178   \n",
       "2        GET /search?maxdate=2005-12-31T23%3A59%3A59&mi...     301    519   \n",
       "3        GET /?maxdate=2005-12-31T23%3A59%3A59&mindate=...     200  77428   \n",
       "4        GET /nosupplement.php?uri=doi%3A10.1016%2Fs037...     200   2925   \n",
       "...                                                    ...     ...    ...   \n",
       "3874083  GET /?count=10&q=parameter%3A%22Bartonella+bir...     200  61170   \n",
       "3874084  GET /search?ie=UTF-8&count=10&q=parameter:%22B...     301    178   \n",
       "3874085  GET /search?ie=UTF-8&count=10&q=parameter:%22B...     301    357   \n",
       "3874086  GET /search?ie=UTF-8&count=10&q=parameter:%22B...     301    178   \n",
       "3874087  GET /search?ie=UTF-8&count=10&q=parameter:%22B...     301    178   \n",
       "\n",
       "                                                    device  \\\n",
       "0        Mozilla/5.0 (compatible; AhrefsBot/6.1; +http:...   \n",
       "1        Mozilla/5.0 (compatible; AhrefsBot/6.1; +http:...   \n",
       "2        Mozilla/5.0 (compatible; SemrushBot/6~bl; +htt...   \n",
       "3        Mozilla/5.0 (compatible; SemrushBot/6~bl; +htt...   \n",
       "4        Mozilla/5.0 (compatible; SemrushBot/6~bl; +htt...   \n",
       "...                                                    ...   \n",
       "3874083  Mozilla/5.0 (compatible; MJ12bot/v1.4.8; http:...   \n",
       "3874084  Mozilla/5.0 (compatible; MJ12bot/v1.4.8; http:...   \n",
       "3874085  Mozilla/5.0 (compatible; MJ12bot/v1.4.8; http:...   \n",
       "3874086  Mozilla/5.0 (compatible; MJ12bot/v1.4.8; http:...   \n",
       "3874087  Mozilla/5.0 (compatible; MJ12bot/v1.4.8; http:...   \n",
       "\n",
       "                                time  \n",
       "0        [30/Sep/2019:06:25:44+0000]  \n",
       "1        [30/Sep/2019:06:25:54+0000]  \n",
       "2        [30/Sep/2019:06:25:54+0000]  \n",
       "3        [30/Sep/2019:06:25:56+0000]  \n",
       "4        [30/Sep/2019:06:26:00+0000]  \n",
       "...                              ...  \n",
       "3874083  [25/Nov/2019:06:26:08+0000]  \n",
       "3874084  [25/Nov/2019:06:26:09+0000]  \n",
       "3874085  [25/Nov/2019:06:26:11+0000]  \n",
       "3874086  [25/Nov/2019:06:26:17+0000]  \n",
       "3874087  [25/Nov/2019:06:26:22+0000]  \n",
       "\n",
       "[3874088 rows x 6 columns]"
      ]
     },
     "execution_count": 7,
     "metadata": {},
     "output_type": "execute_result"
    }
   ],
   "source": [
    "logDataModified"
   ]
  },
  {
   "cell_type": "code",
   "execution_count": 8,
   "metadata": {},
   "outputs": [],
   "source": [
    "def string_check(log):\n",
    "    if 'parameter' in str(log):\n",
    "        return True \n",
    "    else :\n",
    "        return False"
   ]
  },
  {
   "cell_type": "code",
   "execution_count": 9,
   "metadata": {},
   "outputs": [],
   "source": [
    "boolSearch = logDataModified['log'].apply(lambda x: string_check(x))"
   ]
  },
  {
   "cell_type": "code",
   "execution_count": 10,
   "metadata": {},
   "outputs": [],
   "source": [
    "searchData = logDataModified[boolSearch]"
   ]
  },
  {
   "cell_type": "code",
   "execution_count": 74,
   "metadata": {},
   "outputs": [],
   "source": [
    "p = (searchData['log'])"
   ]
  },
  {
   "cell_type": "code",
   "execution_count": 75,
   "metadata": {},
   "outputs": [
    {
     "name": "stderr",
     "output_type": "stream",
     "text": [
      "/opt/anaconda3/lib/python3.7/site-packages/ipykernel_launcher.py:1: FutureWarning: The signature of `Series.to_csv` was aligned to that of `DataFrame.to_csv`, and argument 'header' will change its default value from False to True: please pass an explicit value to suppress this warning.\n",
      "  \"\"\"Entry point for launching an IPython kernel.\n"
     ]
    }
   ],
   "source": [
    "p.to_csv('p')"
   ]
  },
  {
   "cell_type": "code",
   "execution_count": 76,
   "metadata": {},
   "outputs": [],
   "source": [
    "pr = pd.read_csv('p',names=['index','log'])"
   ]
  },
  {
   "cell_type": "code",
   "execution_count": 83,
   "metadata": {},
   "outputs": [
    {
     "data": {
      "text/plain": [
       "'GET /?q=parameter:%22Dinophyta%22 HTTP/1.1'"
      ]
     },
     "execution_count": 83,
     "metadata": {},
     "output_type": "execute_result"
    }
   ],
   "source": [
    "pr['log'][90]"
   ]
  },
  {
   "cell_type": "code",
   "execution_count": null,
   "metadata": {},
   "outputs": [],
   "source": []
  }
 ],
 "metadata": {
  "kernelspec": {
   "display_name": "Python 3",
   "language": "python",
   "name": "python3"
  },
  "language_info": {
   "codemirror_mode": {
    "name": "ipython",
    "version": 3
   },
   "file_extension": ".py",
   "mimetype": "text/x-python",
   "name": "python",
   "nbconvert_exporter": "python",
   "pygments_lexer": "ipython3",
   "version": "3.7.4"
  }
 },
 "nbformat": 4,
 "nbformat_minor": 2
}
