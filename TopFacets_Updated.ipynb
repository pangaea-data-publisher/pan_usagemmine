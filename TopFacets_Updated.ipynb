{
 "cells": [
  {
   "cell_type": "code",
   "execution_count": 1,
   "metadata": {},
   "outputs": [],
   "source": [
    "import pandas as pd\n",
    "import re\n",
    "from datetime import datetime\n",
    "import pytz\n",
    "from urllib.parse import urlparse,unquote\n",
    "from urllib.parse import parse_qs"
   ]
  },
  {
   "cell_type": "code",
   "execution_count": 2,
   "metadata": {},
   "outputs": [],
   "source": [
    "import os\n",
    "current_file = os.getcwd()\n",
    "myfile = os.path.join(current_file, 'www.pangaea.de-access-anon.log.bz2')"
   ]
  },
  {
   "cell_type": "code",
   "execution_count": 3,
   "metadata": {},
   "outputs": [],
   "source": [
    "logData = pd.read_csv(myfile,\n",
    "    sep=r'\\s(?=(?:[^\"]*\"[^\"]*\")*[^\"]*$)(?![^\\[]*\\])',\n",
    "    engine='python',\n",
    "    na_values='-',\n",
    "    header=None,\n",
    "    usecols=[0, 3, 4, 5, 7, 8],encoding=\"utf-8\",\n",
    "    names=['ip', 'time', 'request', 'status', 'referer', 'user_agent'])"
   ]
  },
  {
   "cell_type": "code",
   "execution_count": 4,
   "metadata": {},
   "outputs": [],
   "source": [
    "def url_parse(x):\n",
    "    return unquote(x)"
   ]
  },
  {
   "cell_type": "code",
   "execution_count": 5,
   "metadata": {},
   "outputs": [],
   "source": [
    "logData['request'] = logData['request'].apply(url_parse )"
   ]
  },
  {
   "cell_type": "code",
   "execution_count": 6,
   "metadata": {},
   "outputs": [
    {
     "data": {
      "text/html": [
       "<div>\n",
       "<style scoped>\n",
       "    .dataframe tbody tr th:only-of-type {\n",
       "        vertical-align: middle;\n",
       "    }\n",
       "\n",
       "    .dataframe tbody tr th {\n",
       "        vertical-align: top;\n",
       "    }\n",
       "\n",
       "    .dataframe thead th {\n",
       "        text-align: right;\n",
       "    }\n",
       "</style>\n",
       "<table border=\"1\" class=\"dataframe\">\n",
       "  <thead>\n",
       "    <tr style=\"text-align: right;\">\n",
       "      <th></th>\n",
       "      <th>ip</th>\n",
       "      <th>time</th>\n",
       "      <th>request</th>\n",
       "      <th>status</th>\n",
       "      <th>referer</th>\n",
       "      <th>user_agent</th>\n",
       "    </tr>\n",
       "  </thead>\n",
       "  <tbody>\n",
       "    <tr>\n",
       "      <td>0</td>\n",
       "      <td>68aa873d61a6586244b0892d7bca2573</td>\n",
       "      <td>[30/Sep/2019:06:25:44 +0000]</td>\n",
       "      <td>\"GET /search?ie=UTF-8&amp;q=parameter:\"Bathysiphon...</td>\n",
       "      <td>301.0</td>\n",
       "      <td>\"-\"</td>\n",
       "      <td>\"Mozilla/5.0 (compatible; AhrefsBot/6.1; +http...</td>\n",
       "    </tr>\n",
       "  </tbody>\n",
       "</table>\n",
       "</div>"
      ],
      "text/plain": [
       "                                 ip                          time  \\\n",
       "0  68aa873d61a6586244b0892d7bca2573  [30/Sep/2019:06:25:44 +0000]   \n",
       "\n",
       "                                             request  status referer  \\\n",
       "0  \"GET /search?ie=UTF-8&q=parameter:\"Bathysiphon...   301.0     \"-\"   \n",
       "\n",
       "                                          user_agent  \n",
       "0  \"Mozilla/5.0 (compatible; AhrefsBot/6.1; +http...  "
      ]
     },
     "execution_count": 6,
     "metadata": {},
     "output_type": "execute_result"
    }
   ],
   "source": [
    "logData.head(1)"
   ]
  },
  {
   "cell_type": "code",
   "execution_count": 7,
   "metadata": {},
   "outputs": [
    {
     "data": {
      "text/html": [
       "<div>\n",
       "<style scoped>\n",
       "    .dataframe tbody tr th:only-of-type {\n",
       "        vertical-align: middle;\n",
       "    }\n",
       "\n",
       "    .dataframe tbody tr th {\n",
       "        vertical-align: top;\n",
       "    }\n",
       "\n",
       "    .dataframe thead th {\n",
       "        text-align: right;\n",
       "    }\n",
       "</style>\n",
       "<table border=\"1\" class=\"dataframe\">\n",
       "  <thead>\n",
       "    <tr style=\"text-align: right;\">\n",
       "      <th></th>\n",
       "      <th>ip</th>\n",
       "      <th>time</th>\n",
       "      <th>request</th>\n",
       "      <th>status</th>\n",
       "      <th>referer</th>\n",
       "      <th>user_agent</th>\n",
       "    </tr>\n",
       "  </thead>\n",
       "  <tbody>\n",
       "    <tr>\n",
       "      <td>0</td>\n",
       "      <td>68aa873d61a6586244b0892d7bca2573</td>\n",
       "      <td>[30/Sep/2019:06:25:44 +0000]</td>\n",
       "      <td>\"GET /search?ie=UTF-8&amp;q=parameter:\"Bathysiphon...</td>\n",
       "      <td>301</td>\n",
       "      <td>\"-\"</td>\n",
       "      <td>\"Mozilla/5.0 (compatible; AhrefsBot/6.1; +http...</td>\n",
       "    </tr>\n",
       "  </tbody>\n",
       "</table>\n",
       "</div>"
      ],
      "text/plain": [
       "                                 ip                          time  \\\n",
       "0  68aa873d61a6586244b0892d7bca2573  [30/Sep/2019:06:25:44 +0000]   \n",
       "\n",
       "                                             request  status referer  \\\n",
       "0  \"GET /search?ie=UTF-8&q=parameter:\"Bathysiphon...     301     \"-\"   \n",
       "\n",
       "                                          user_agent  \n",
       "0  \"Mozilla/5.0 (compatible; AhrefsBot/6.1; +http...  "
      ]
     },
     "execution_count": 7,
     "metadata": {},
     "output_type": "execute_result"
    }
   ],
   "source": [
    "logData['status'] = logData['status'].fillna(0) #convert non-finite values (NA or inf) to integer\n",
    "logData['status'] = logData['status'].astype(int)\n",
    "logData.head(1)"
   ]
  },
  {
   "cell_type": "code",
   "execution_count": 8,
   "metadata": {},
   "outputs": [],
   "source": [
    "logData['request']= logData['request'].apply(lambda x: re.sub(r'^\"|\"$', '', str(x)) )\n",
    "logData['user_agent']= logData['user_agent'].apply(lambda x: re.sub(r'^\"|\"$', '',str(x)) )\n",
    "logData['referer']= logData['referer'].apply(lambda x: re.sub(r'^\"|\"$', '',str(x)) )"
   ]
  },
  {
   "cell_type": "code",
   "execution_count": 9,
   "metadata": {},
   "outputs": [
    {
     "data": {
      "text/plain": [
       "(3874088, 6)"
      ]
     },
     "execution_count": 9,
     "metadata": {},
     "output_type": "execute_result"
    }
   ],
   "source": [
    "logData.shape"
   ]
  },
  {
   "cell_type": "code",
   "execution_count": 10,
   "metadata": {},
   "outputs": [
    {
     "data": {
      "text/html": [
       "<div>\n",
       "<style scoped>\n",
       "    .dataframe tbody tr th:only-of-type {\n",
       "        vertical-align: middle;\n",
       "    }\n",
       "\n",
       "    .dataframe tbody tr th {\n",
       "        vertical-align: top;\n",
       "    }\n",
       "\n",
       "    .dataframe thead th {\n",
       "        text-align: right;\n",
       "    }\n",
       "</style>\n",
       "<table border=\"1\" class=\"dataframe\">\n",
       "  <thead>\n",
       "    <tr style=\"text-align: right;\">\n",
       "      <th></th>\n",
       "      <th>ip</th>\n",
       "      <th>time</th>\n",
       "      <th>request</th>\n",
       "      <th>status</th>\n",
       "      <th>referer</th>\n",
       "      <th>user_agent</th>\n",
       "      <th>request_type</th>\n",
       "      <th>resource</th>\n",
       "    </tr>\n",
       "  </thead>\n",
       "  <tbody>\n",
       "    <tr>\n",
       "      <td>0</td>\n",
       "      <td>68aa873d61a6586244b0892d7bca2573</td>\n",
       "      <td>[30/Sep/2019:06:25:44 +0000]</td>\n",
       "      <td>GET /search?ie=UTF-8&amp;q=parameter:\"Bathysiphon+...</td>\n",
       "      <td>301</td>\n",
       "      <td>-</td>\n",
       "      <td>Mozilla/5.0 (compatible; AhrefsBot/6.1; +http:...</td>\n",
       "      <td>GET</td>\n",
       "      <td>/search?ie=UTF-8&amp;q=parameter:\"Bathysiphon+sp.\"</td>\n",
       "    </tr>\n",
       "  </tbody>\n",
       "</table>\n",
       "</div>"
      ],
      "text/plain": [
       "                                 ip                          time  \\\n",
       "0  68aa873d61a6586244b0892d7bca2573  [30/Sep/2019:06:25:44 +0000]   \n",
       "\n",
       "                                             request  status referer  \\\n",
       "0  GET /search?ie=UTF-8&q=parameter:\"Bathysiphon+...     301       -   \n",
       "\n",
       "                                          user_agent request_type  \\\n",
       "0  Mozilla/5.0 (compatible; AhrefsBot/6.1; +http:...          GET   \n",
       "\n",
       "                                         resource  \n",
       "0  /search?ie=UTF-8&q=parameter:\"Bathysiphon+sp.\"  "
      ]
     },
     "execution_count": 10,
     "metadata": {},
     "output_type": "execute_result"
    }
   ],
   "source": [
    "logData['request_type'] = logData['request'].str.split().str[0]\n",
    "logData['resource'] = logData['request'].str.split().str[1]\n",
    "logData.head(1)"
   ]
  },
  {
   "cell_type": "code",
   "execution_count": 11,
   "metadata": {},
   "outputs": [
    {
     "data": {
      "text/plain": [
       "(3063078, 8)"
      ]
     },
     "execution_count": 11,
     "metadata": {},
     "output_type": "execute_result"
    }
   ],
   "source": [
    "logData = logData[(logData.request_type == 'GET') & (logData.status == 200)]\n",
    "logData.shape"
   ]
  },
  {
   "cell_type": "code",
   "execution_count": 12,
   "metadata": {},
   "outputs": [
    {
     "data": {
      "text/html": [
       "<div>\n",
       "<style scoped>\n",
       "    .dataframe tbody tr th:only-of-type {\n",
       "        vertical-align: middle;\n",
       "    }\n",
       "\n",
       "    .dataframe tbody tr th {\n",
       "        vertical-align: top;\n",
       "    }\n",
       "\n",
       "    .dataframe thead th {\n",
       "        text-align: right;\n",
       "    }\n",
       "</style>\n",
       "<table border=\"1\" class=\"dataframe\">\n",
       "  <thead>\n",
       "    <tr style=\"text-align: right;\">\n",
       "      <th></th>\n",
       "      <th>ip</th>\n",
       "      <th>time</th>\n",
       "      <th>status</th>\n",
       "      <th>referer</th>\n",
       "      <th>user_agent</th>\n",
       "      <th>request_type</th>\n",
       "      <th>resource</th>\n",
       "    </tr>\n",
       "  </thead>\n",
       "  <tbody>\n",
       "    <tr>\n",
       "      <td>3</td>\n",
       "      <td>75892c86ec3272b7fa79e0f2c375a9f5</td>\n",
       "      <td>[30/Sep/2019:06:25:56 +0000]</td>\n",
       "      <td>200</td>\n",
       "      <td>-</td>\n",
       "      <td>Mozilla/5.0 (compatible; SemrushBot/6~bl; +htt...</td>\n",
       "      <td>GET</td>\n",
       "      <td>/?maxdate=2005-12-31T23:59:59&amp;mindate=2005-01-...</td>\n",
       "    </tr>\n",
       "  </tbody>\n",
       "</table>\n",
       "</div>"
      ],
      "text/plain": [
       "                                 ip                          time  status  \\\n",
       "3  75892c86ec3272b7fa79e0f2c375a9f5  [30/Sep/2019:06:25:56 +0000]     200   \n",
       "\n",
       "  referer                                         user_agent request_type  \\\n",
       "3       -  Mozilla/5.0 (compatible; SemrushBot/6~bl; +htt...          GET   \n",
       "\n",
       "                                            resource  \n",
       "3  /?maxdate=2005-12-31T23:59:59&mindate=2005-01-...  "
      ]
     },
     "execution_count": 12,
     "metadata": {},
     "output_type": "execute_result"
    }
   ],
   "source": [
    "logData=logData.drop('request', axis=1)\n",
    "logData.head(1)"
   ]
  },
  {
   "cell_type": "code",
   "execution_count": 13,
   "metadata": {},
   "outputs": [
    {
     "data": {
      "text/plain": [
       "(1858386, 7)"
      ]
     },
     "execution_count": 13,
     "metadata": {},
     "output_type": "execute_result"
    }
   ],
   "source": [
    "logData = logData[~logData['resource'].str.match(\n",
    "    r'^/media|^/static|^/admin|^/robots.txt$|^/favicon.ico$')]\n",
    "logData = logData[~logData['user_agent'].str.match(\n",
    "    r'.*?bot|.*?spider|.*?crawler|.*?slurp', flags=re.I).fillna(False)]\n",
    "logData.shape"
   ]
  },
  {
   "cell_type": "code",
   "execution_count": 14,
   "metadata": {},
   "outputs": [
    {
     "data": {
      "text/html": [
       "<div>\n",
       "<style scoped>\n",
       "    .dataframe tbody tr th:only-of-type {\n",
       "        vertical-align: middle;\n",
       "    }\n",
       "\n",
       "    .dataframe tbody tr th {\n",
       "        vertical-align: top;\n",
       "    }\n",
       "\n",
       "    .dataframe thead th {\n",
       "        text-align: right;\n",
       "    }\n",
       "</style>\n",
       "<table border=\"1\" class=\"dataframe\">\n",
       "  <thead>\n",
       "    <tr style=\"text-align: right;\">\n",
       "      <th></th>\n",
       "      <th>ip</th>\n",
       "      <th>time</th>\n",
       "      <th>status</th>\n",
       "      <th>referer</th>\n",
       "      <th>user_agent</th>\n",
       "      <th>request_type</th>\n",
       "      <th>resource</th>\n",
       "    </tr>\n",
       "  </thead>\n",
       "  <tbody>\n",
       "    <tr>\n",
       "      <td>9</td>\n",
       "      <td>eb6f30241bf7ff9bf1c6ddb6d5ea2d66</td>\n",
       "      <td>[30/Sep/2019:06:26:12 +0000]</td>\n",
       "      <td>200</td>\n",
       "      <td>https://doi.pangaea.de/10.1594/PANGAEA.890974</td>\n",
       "      <td>Mozilla/5.0 (Macintosh; Intel Mac OS X 10_14_6...</td>\n",
       "      <td>GET</td>\n",
       "      <td>/?q=SOCATv5</td>\n",
       "    </tr>\n",
       "  </tbody>\n",
       "</table>\n",
       "</div>"
      ],
      "text/plain": [
       "                                 ip                          time  status  \\\n",
       "9  eb6f30241bf7ff9bf1c6ddb6d5ea2d66  [30/Sep/2019:06:26:12 +0000]     200   \n",
       "\n",
       "                                         referer  \\\n",
       "9  https://doi.pangaea.de/10.1594/PANGAEA.890974   \n",
       "\n",
       "                                          user_agent request_type     resource  \n",
       "9  Mozilla/5.0 (Macintosh; Intel Mac OS X 10_14_6...          GET  /?q=SOCATv5  "
      ]
     },
     "execution_count": 14,
     "metadata": {},
     "output_type": "execute_result"
    }
   ],
   "source": [
    "logData.head(1)"
   ]
  },
  {
   "cell_type": "code",
   "execution_count": 15,
   "metadata": {},
   "outputs": [
    {
     "data": {
      "text/plain": [
       "(1335062, 7)"
      ]
     },
     "execution_count": 15,
     "metadata": {},
     "output_type": "execute_result"
    }
   ],
   "source": [
    "#https://doi.pangaea.de, https://www.pangaea.de\n",
    "#use referrel to filter out external requests - only request originated from the portal will be considered\n",
    "logData = logData[logData.referer.str.startswith('https://doi.pangaea.de') | logData.referer.str.startswith('https://www.pangaea.de')]\n",
    "logData.shape"
   ]
  },
  {
   "cell_type": "code",
   "execution_count": 16,
   "metadata": {},
   "outputs": [
    {
     "data": {
      "text/plain": [
       "(1234066, 7)"
      ]
     },
     "execution_count": 16,
     "metadata": {},
     "output_type": "execute_result"
    }
   ],
   "source": [
    "#exclude queries originated from external search -> /advanced/search.php, /advanced/warehouse.php\n",
    "logData = logData[~logData.resource.str.contains('/advanced/')]\n",
    "logData.shape"
   ]
  },
  {
   "cell_type": "code",
   "execution_count": 17,
   "metadata": {},
   "outputs": [],
   "source": [
    "logData['time']=logData['time'].apply(lambda x: datetime.strptime(x,'[%d/%b/%Y:%H:%M:%S +%f]').date())"
   ]
  },
  {
   "cell_type": "code",
   "execution_count": 18,
   "metadata": {},
   "outputs": [
    {
     "data": {
      "text/plain": [
       "(1234066, 7)"
      ]
     },
     "execution_count": 18,
     "metadata": {},
     "output_type": "execute_result"
    }
   ],
   "source": [
    "searchData =logData.copy()\n",
    "searchData.shape"
   ]
  },
  {
   "cell_type": "code",
   "execution_count": 19,
   "metadata": {},
   "outputs": [
    {
     "data": {
      "text/plain": [
       "(657, 7)"
      ]
     },
     "execution_count": 19,
     "metadata": {},
     "output_type": "execute_result"
    }
   ],
   "source": [
    "searchData= searchData[searchData.resource.str.contains('f.author') | searchData.resource.str.contains('f.basis') | searchData.resource.str.contains('f.campaign') | searchData.resource.str.contains('f.device') | searchData.resource.str.contains('f.location') | searchData.resource.str.contains('f.project') | searchData.resource.str.contains('f.pubyear') | searchData.resource.str.contains('f.topic')] .drop_duplicates()\n",
    "searchData.shape"
   ]
  },
  {
   "cell_type": "code",
   "execution_count": 20,
   "metadata": {},
   "outputs": [],
   "source": [
    "searchGroup = searchData.groupby(['time','ip'])\n",
    "xx = searchGroup.resource.unique()\n",
    "keyFacets = xx.apply(lambda x: re.findall(r'&?f.(pubyear|location|author|basis|campaign|device|project|topic)',str(x)))"
   ]
  },
  {
   "cell_type": "code",
   "execution_count": 21,
   "metadata": {},
   "outputs": [
    {
     "data": {
      "text/plain": [
       "time        ip                              \n",
       "2019-09-30  70f34bd78d8d0aa0620a64b3be826f42    [pubyear, location, pubyear, location, pubyear...\n",
       "            a094c47aff4ab6f29450d50321ee069d                                           [location]\n",
       "            b3d4a9cd0701141eda9934b2c4fae15d    [location, location, location, location, locat...\n",
       "2019-10-01  0a80b3058f5a8a4a846f3370e42d88fc                                  [location, pubyear]\n",
       "            70c31dd547a243f7e912265ca8be17d5                                  [campaign, project]\n",
       "                                                                      ...                        \n",
       "2019-11-23  41436894c83d5f7802d2adb1931a542f                                           [location]\n",
       "            b45af8174a0bc4981dd52c143dd9a415                                    [author, pubyear]\n",
       "2019-11-24  a672baf6cd4cfb14fe591223304894e6                                           [campaign]\n",
       "            b45af8174a0bc4981dd52c143dd9a415                                    [author, pubyear]\n",
       "2019-11-25  c362d0b38412eb3a8ac2d697dfb35308                                              [topic]\n",
       "Name: resource, Length: 239, dtype: object"
      ]
     },
     "execution_count": 21,
     "metadata": {},
     "output_type": "execute_result"
    }
   ],
   "source": [
    "keyFacets"
   ]
  },
  {
   "cell_type": "code",
   "execution_count": 22,
   "metadata": {},
   "outputs": [
    {
     "data": {
      "text/plain": [
       "[location]                                                        24\n",
       "[pubyear]                                                         23\n",
       "[author]                                                          21\n",
       "[project]                                                         20\n",
       "[topic, topic]                                                    12\n",
       "                                                                  ..\n",
       "[topic, pubyear, project]                                          1\n",
       "[location, author, author]                                         1\n",
       "[topic, location]                                                  1\n",
       "[topic, pubyear]                                                   1\n",
       "[topic, topic, topic, pubyear, topic, pubyear, topic, pubyear]     1\n",
       "Name: resource, Length: 82, dtype: int64"
      ]
     },
     "execution_count": 22,
     "metadata": {},
     "output_type": "execute_result"
    }
   ],
   "source": [
    "topKeyFacets = keyFacets.value_counts()\n",
    "topKeyFacets"
   ]
  },
  {
   "cell_type": "code",
   "execution_count": 23,
   "metadata": {},
   "outputs": [],
   "source": [
    "df = pd.DataFrame({'facet':topKeyFacets.index, 'count':topKeyFacets.values})"
   ]
  },
  {
   "cell_type": "code",
   "execution_count": 30,
   "metadata": {},
   "outputs": [],
   "source": [
    "df.to_csv('facet')"
   ]
  },
  {
   "cell_type": "code",
   "execution_count": null,
   "metadata": {},
   "outputs": [],
   "source": []
  },
  {
   "cell_type": "code",
   "execution_count": null,
   "metadata": {},
   "outputs": [],
   "source": []
  }
 ],
 "metadata": {
  "kernelspec": {
   "display_name": "Python 3",
   "language": "python",
   "name": "python3"
  },
  "language_info": {
   "codemirror_mode": {
    "name": "ipython",
    "version": 3
   },
   "file_extension": ".py",
   "mimetype": "text/x-python",
   "name": "python",
   "nbconvert_exporter": "python",
   "pygments_lexer": "ipython3",
   "version": "3.7.4"
  }
 },
 "nbformat": 4,
 "nbformat_minor": 2
}
