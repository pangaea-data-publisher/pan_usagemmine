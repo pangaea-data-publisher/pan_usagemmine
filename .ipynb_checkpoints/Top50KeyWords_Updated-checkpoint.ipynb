{
 "cells": [
  {
   "cell_type": "code",
   "execution_count": 1,
   "metadata": {},
   "outputs": [],
   "source": [
    "import pandas as pd\n",
    "import re\n",
    "from datetime import datetime\n",
    "import pytz\n",
    "from urllib.parse import urlparse\n",
    "from urllib.parse import parse_qs"
   ]
  },
  {
   "cell_type": "code",
   "execution_count": 2,
   "metadata": {},
   "outputs": [],
   "source": [
    "# datetime.datetime.strptime('13/Nov/2015:11:45:42','%Y-%m-%d:%H:%M:%S +%f')"
   ]
  },
  {
   "cell_type": "code",
   "execution_count": 3,
   "metadata": {},
   "outputs": [],
   "source": [
    "import os\n",
    "current_file = os.getcwd()\n",
    "myfile = os.path.join(current_file, 'www.pangaea.de-access-anon.log.bz2')"
   ]
  },
  {
   "cell_type": "code",
   "execution_count": 4,
   "metadata": {},
   "outputs": [],
   "source": [
    "#ref: https://mmas.github.io/read-apache-access-log-pandas\n",
    "logData = pd.read_csv(myfile,\n",
    "    sep=r'\\s(?=(?:[^\"]*\"[^\"]*\")*[^\"]*$)(?![^\\[]*\\])',\n",
    "    engine='python',\n",
    "    na_values='-',\n",
    "    header=None,\n",
    "    usecols=[0, 3, 4, 5, 7, 8],encoding=\"utf-8\",\n",
    "    names=['ip', 'time', 'request', 'status', 'referer', 'user_agent'])"
   ]
  },
  {
   "cell_type": "code",
   "execution_count": 5,
   "metadata": {},
   "outputs": [
    {
     "data": {
      "text/html": [
       "<div>\n",
       "<style scoped>\n",
       "    .dataframe tbody tr th:only-of-type {\n",
       "        vertical-align: middle;\n",
       "    }\n",
       "\n",
       "    .dataframe tbody tr th {\n",
       "        vertical-align: top;\n",
       "    }\n",
       "\n",
       "    .dataframe thead th {\n",
       "        text-align: right;\n",
       "    }\n",
       "</style>\n",
       "<table border=\"1\" class=\"dataframe\">\n",
       "  <thead>\n",
       "    <tr style=\"text-align: right;\">\n",
       "      <th></th>\n",
       "      <th>ip</th>\n",
       "      <th>time</th>\n",
       "      <th>request</th>\n",
       "      <th>status</th>\n",
       "      <th>referer</th>\n",
       "      <th>user_agent</th>\n",
       "    </tr>\n",
       "  </thead>\n",
       "  <tbody>\n",
       "    <tr>\n",
       "      <td>0</td>\n",
       "      <td>68aa873d61a6586244b0892d7bca2573</td>\n",
       "      <td>[30/Sep/2019:06:25:44 +0000]</td>\n",
       "      <td>\"GET /search?ie=UTF-8&amp;q=parameter%3A%22Bathysi...</td>\n",
       "      <td>301.0</td>\n",
       "      <td>\"-\"</td>\n",
       "      <td>\"Mozilla/5.0 (compatible; AhrefsBot/6.1; +http...</td>\n",
       "    </tr>\n",
       "  </tbody>\n",
       "</table>\n",
       "</div>"
      ],
      "text/plain": [
       "                                 ip                          time  \\\n",
       "0  68aa873d61a6586244b0892d7bca2573  [30/Sep/2019:06:25:44 +0000]   \n",
       "\n",
       "                                             request  status referer  \\\n",
       "0  \"GET /search?ie=UTF-8&q=parameter%3A%22Bathysi...   301.0     \"-\"   \n",
       "\n",
       "                                          user_agent  \n",
       "0  \"Mozilla/5.0 (compatible; AhrefsBot/6.1; +http...  "
      ]
     },
     "execution_count": 5,
     "metadata": {},
     "output_type": "execute_result"
    }
   ],
   "source": [
    "logData.head(1)\n",
    "# logData.to_csv('logData')"
   ]
  },
  {
   "cell_type": "code",
   "execution_count": 6,
   "metadata": {},
   "outputs": [
    {
     "data": {
      "text/html": [
       "<div>\n",
       "<style scoped>\n",
       "    .dataframe tbody tr th:only-of-type {\n",
       "        vertical-align: middle;\n",
       "    }\n",
       "\n",
       "    .dataframe tbody tr th {\n",
       "        vertical-align: top;\n",
       "    }\n",
       "\n",
       "    .dataframe thead th {\n",
       "        text-align: right;\n",
       "    }\n",
       "</style>\n",
       "<table border=\"1\" class=\"dataframe\">\n",
       "  <thead>\n",
       "    <tr style=\"text-align: right;\">\n",
       "      <th></th>\n",
       "      <th>ip</th>\n",
       "      <th>time</th>\n",
       "      <th>request</th>\n",
       "      <th>status</th>\n",
       "      <th>referer</th>\n",
       "      <th>user_agent</th>\n",
       "    </tr>\n",
       "  </thead>\n",
       "  <tbody>\n",
       "    <tr>\n",
       "      <td>0</td>\n",
       "      <td>68aa873d61a6586244b0892d7bca2573</td>\n",
       "      <td>[30/Sep/2019:06:25:44 +0000]</td>\n",
       "      <td>\"GET /search?ie=UTF-8&amp;q=parameter%3A%22Bathysi...</td>\n",
       "      <td>301</td>\n",
       "      <td>\"-\"</td>\n",
       "      <td>\"Mozilla/5.0 (compatible; AhrefsBot/6.1; +http...</td>\n",
       "    </tr>\n",
       "  </tbody>\n",
       "</table>\n",
       "</div>"
      ],
      "text/plain": [
       "                                 ip                          time  \\\n",
       "0  68aa873d61a6586244b0892d7bca2573  [30/Sep/2019:06:25:44 +0000]   \n",
       "\n",
       "                                             request  status referer  \\\n",
       "0  \"GET /search?ie=UTF-8&q=parameter%3A%22Bathysi...     301     \"-\"   \n",
       "\n",
       "                                          user_agent  \n",
       "0  \"Mozilla/5.0 (compatible; AhrefsBot/6.1; +http...  "
      ]
     },
     "execution_count": 6,
     "metadata": {},
     "output_type": "execute_result"
    }
   ],
   "source": [
    "logData['status'] = logData['status'].fillna(0) #convert non-finite values (NA or inf) to integer\n",
    "logData['status'] = logData['status'].astype(int)\n",
    "logData.head(1)"
   ]
  },
  {
   "cell_type": "code",
   "execution_count": 7,
   "metadata": {},
   "outputs": [],
   "source": [
    "logData['request']= logData['request'].apply(lambda x: re.sub(r'^\"|\"$', '', str(x)) )\n",
    "logData['user_agent']= logData['user_agent'].apply(lambda x: re.sub(r'^\"|\"$', '',str(x)) )\n",
    "logData['referer']= logData['referer'].apply(lambda x: re.sub(r'^\"|\"$', '',str(x)) )"
   ]
  },
  {
   "cell_type": "code",
   "execution_count": 8,
   "metadata": {},
   "outputs": [
    {
     "data": {
      "text/plain": [
       "(3874088, 6)"
      ]
     },
     "execution_count": 8,
     "metadata": {},
     "output_type": "execute_result"
    }
   ],
   "source": [
    "logData.shape"
   ]
  },
  {
   "cell_type": "code",
   "execution_count": 9,
   "metadata": {},
   "outputs": [
    {
     "data": {
      "text/html": [
       "<div>\n",
       "<style scoped>\n",
       "    .dataframe tbody tr th:only-of-type {\n",
       "        vertical-align: middle;\n",
       "    }\n",
       "\n",
       "    .dataframe tbody tr th {\n",
       "        vertical-align: top;\n",
       "    }\n",
       "\n",
       "    .dataframe thead th {\n",
       "        text-align: right;\n",
       "    }\n",
       "</style>\n",
       "<table border=\"1\" class=\"dataframe\">\n",
       "  <thead>\n",
       "    <tr style=\"text-align: right;\">\n",
       "      <th></th>\n",
       "      <th>ip</th>\n",
       "      <th>time</th>\n",
       "      <th>request</th>\n",
       "      <th>status</th>\n",
       "      <th>referer</th>\n",
       "      <th>user_agent</th>\n",
       "      <th>request_type</th>\n",
       "      <th>resource</th>\n",
       "    </tr>\n",
       "  </thead>\n",
       "  <tbody>\n",
       "    <tr>\n",
       "      <td>0</td>\n",
       "      <td>68aa873d61a6586244b0892d7bca2573</td>\n",
       "      <td>[30/Sep/2019:06:25:44 +0000]</td>\n",
       "      <td>GET /search?ie=UTF-8&amp;q=parameter%3A%22Bathysip...</td>\n",
       "      <td>301</td>\n",
       "      <td>-</td>\n",
       "      <td>Mozilla/5.0 (compatible; AhrefsBot/6.1; +http:...</td>\n",
       "      <td>GET</td>\n",
       "      <td>/search?ie=UTF-8&amp;q=parameter%3A%22Bathysiphon+...</td>\n",
       "    </tr>\n",
       "  </tbody>\n",
       "</table>\n",
       "</div>"
      ],
      "text/plain": [
       "                                 ip                          time  \\\n",
       "0  68aa873d61a6586244b0892d7bca2573  [30/Sep/2019:06:25:44 +0000]   \n",
       "\n",
       "                                             request  status referer  \\\n",
       "0  GET /search?ie=UTF-8&q=parameter%3A%22Bathysip...     301       -   \n",
       "\n",
       "                                          user_agent request_type  \\\n",
       "0  Mozilla/5.0 (compatible; AhrefsBot/6.1; +http:...          GET   \n",
       "\n",
       "                                            resource  \n",
       "0  /search?ie=UTF-8&q=parameter%3A%22Bathysiphon+...  "
      ]
     },
     "execution_count": 9,
     "metadata": {},
     "output_type": "execute_result"
    }
   ],
   "source": [
    "logData['request_type'] = logData['request'].str.split().str[0]\n",
    "logData['resource'] = logData['request'].str.split().str[1]\n",
    "logData.head(1)"
   ]
  },
  {
   "cell_type": "code",
   "execution_count": 10,
   "metadata": {},
   "outputs": [
    {
     "data": {
      "text/plain": [
       "(3063078, 8)"
      ]
     },
     "execution_count": 10,
     "metadata": {},
     "output_type": "execute_result"
    }
   ],
   "source": [
    "logData = logData[(logData.request_type == 'GET') & (logData.status == 200)]\n",
    "logData.shape"
   ]
  },
  {
   "cell_type": "code",
   "execution_count": 11,
   "metadata": {},
   "outputs": [
    {
     "data": {
      "text/html": [
       "<div>\n",
       "<style scoped>\n",
       "    .dataframe tbody tr th:only-of-type {\n",
       "        vertical-align: middle;\n",
       "    }\n",
       "\n",
       "    .dataframe tbody tr th {\n",
       "        vertical-align: top;\n",
       "    }\n",
       "\n",
       "    .dataframe thead th {\n",
       "        text-align: right;\n",
       "    }\n",
       "</style>\n",
       "<table border=\"1\" class=\"dataframe\">\n",
       "  <thead>\n",
       "    <tr style=\"text-align: right;\">\n",
       "      <th></th>\n",
       "      <th>ip</th>\n",
       "      <th>time</th>\n",
       "      <th>status</th>\n",
       "      <th>referer</th>\n",
       "      <th>user_agent</th>\n",
       "      <th>request_type</th>\n",
       "      <th>resource</th>\n",
       "    </tr>\n",
       "  </thead>\n",
       "  <tbody>\n",
       "    <tr>\n",
       "      <td>3</td>\n",
       "      <td>75892c86ec3272b7fa79e0f2c375a9f5</td>\n",
       "      <td>[30/Sep/2019:06:25:56 +0000]</td>\n",
       "      <td>200</td>\n",
       "      <td>-</td>\n",
       "      <td>Mozilla/5.0 (compatible; SemrushBot/6~bl; +htt...</td>\n",
       "      <td>GET</td>\n",
       "      <td>/?maxdate=2005-12-31T23%3A59%3A59&amp;mindate=2005...</td>\n",
       "    </tr>\n",
       "  </tbody>\n",
       "</table>\n",
       "</div>"
      ],
      "text/plain": [
       "                                 ip                          time  status  \\\n",
       "3  75892c86ec3272b7fa79e0f2c375a9f5  [30/Sep/2019:06:25:56 +0000]     200   \n",
       "\n",
       "  referer                                         user_agent request_type  \\\n",
       "3       -  Mozilla/5.0 (compatible; SemrushBot/6~bl; +htt...          GET   \n",
       "\n",
       "                                            resource  \n",
       "3  /?maxdate=2005-12-31T23%3A59%3A59&mindate=2005...  "
      ]
     },
     "execution_count": 11,
     "metadata": {},
     "output_type": "execute_result"
    }
   ],
   "source": [
    "logData=logData.drop('request', axis=1)\n",
    "logData.head(1)\n",
    "# logData['resource'].to_csv('logData')"
   ]
  },
  {
   "cell_type": "code",
   "execution_count": 12,
   "metadata": {},
   "outputs": [
    {
     "data": {
      "text/plain": [
       "(1858386, 7)"
      ]
     },
     "execution_count": 12,
     "metadata": {},
     "output_type": "execute_result"
    }
   ],
   "source": [
    "logData = logData[~logData['resource'].str.match(\n",
    "    r'^/media|^/static|^/admin|^/robots.txt$|^/favicon.ico$')]\n",
    "logData = logData[~logData['user_agent'].str.match(\n",
    "    r'.*?bot|.*?spider|.*?crawler|.*?slurp', flags=re.I).fillna(False)]\n",
    "logData.shape"
   ]
  },
  {
   "cell_type": "code",
   "execution_count": 13,
   "metadata": {},
   "outputs": [
    {
     "data": {
      "text/html": [
       "<div>\n",
       "<style scoped>\n",
       "    .dataframe tbody tr th:only-of-type {\n",
       "        vertical-align: middle;\n",
       "    }\n",
       "\n",
       "    .dataframe tbody tr th {\n",
       "        vertical-align: top;\n",
       "    }\n",
       "\n",
       "    .dataframe thead th {\n",
       "        text-align: right;\n",
       "    }\n",
       "</style>\n",
       "<table border=\"1\" class=\"dataframe\">\n",
       "  <thead>\n",
       "    <tr style=\"text-align: right;\">\n",
       "      <th></th>\n",
       "      <th>ip</th>\n",
       "      <th>time</th>\n",
       "      <th>status</th>\n",
       "      <th>referer</th>\n",
       "      <th>user_agent</th>\n",
       "      <th>request_type</th>\n",
       "      <th>resource</th>\n",
       "    </tr>\n",
       "  </thead>\n",
       "  <tbody>\n",
       "    <tr>\n",
       "      <td>9</td>\n",
       "      <td>eb6f30241bf7ff9bf1c6ddb6d5ea2d66</td>\n",
       "      <td>[30/Sep/2019:06:26:12 +0000]</td>\n",
       "      <td>200</td>\n",
       "      <td>https://doi.pangaea.de/10.1594/PANGAEA.890974</td>\n",
       "      <td>Mozilla/5.0 (Macintosh; Intel Mac OS X 10_14_6...</td>\n",
       "      <td>GET</td>\n",
       "      <td>/?q=SOCATv5</td>\n",
       "    </tr>\n",
       "    <tr>\n",
       "      <td>20</td>\n",
       "      <td>b66d6bd12d4aadc04d896d2d086e7572</td>\n",
       "      <td>[30/Sep/2019:06:26:42 +0000]</td>\n",
       "      <td>200</td>\n",
       "      <td>https://wiki.pangaea.de/wiki/Main_Page</td>\n",
       "      <td>Mozilla/5.0 (X11; Linux x86_64) AppleWebKit/53...</td>\n",
       "      <td>GET</td>\n",
       "      <td>/assets/layout-images/pangaea-logo.png</td>\n",
       "    </tr>\n",
       "  </tbody>\n",
       "</table>\n",
       "</div>"
      ],
      "text/plain": [
       "                                  ip                          time  status  \\\n",
       "9   eb6f30241bf7ff9bf1c6ddb6d5ea2d66  [30/Sep/2019:06:26:12 +0000]     200   \n",
       "20  b66d6bd12d4aadc04d896d2d086e7572  [30/Sep/2019:06:26:42 +0000]     200   \n",
       "\n",
       "                                          referer  \\\n",
       "9   https://doi.pangaea.de/10.1594/PANGAEA.890974   \n",
       "20         https://wiki.pangaea.de/wiki/Main_Page   \n",
       "\n",
       "                                           user_agent request_type  \\\n",
       "9   Mozilla/5.0 (Macintosh; Intel Mac OS X 10_14_6...          GET   \n",
       "20  Mozilla/5.0 (X11; Linux x86_64) AppleWebKit/53...          GET   \n",
       "\n",
       "                                  resource  \n",
       "9                              /?q=SOCATv5  \n",
       "20  /assets/layout-images/pangaea-logo.png  "
      ]
     },
     "execution_count": 13,
     "metadata": {},
     "output_type": "execute_result"
    }
   ],
   "source": [
    "logData.head(2)\n",
    "# logData['resource'].to_csv('logData')"
   ]
  },
  {
   "cell_type": "code",
   "execution_count": 14,
   "metadata": {},
   "outputs": [
    {
     "data": {
      "text/plain": [
       "(1335062, 7)"
      ]
     },
     "execution_count": 14,
     "metadata": {},
     "output_type": "execute_result"
    }
   ],
   "source": [
    "#https://doi.pangaea.de, https://www.pangaea.de\n",
    "#use referrel to filter out external requests - only request originated from the portal will be considered\n",
    "logData = logData[logData.referer.str.startswith('https://doi.pangaea.de') | logData.referer.str.startswith('https://www.pangaea.de')]\n",
    "logData.shape"
   ]
  },
  {
   "cell_type": "code",
   "execution_count": 15,
   "metadata": {},
   "outputs": [
    {
     "data": {
      "text/plain": [
       "(1234130, 7)"
      ]
     },
     "execution_count": 15,
     "metadata": {},
     "output_type": "execute_result"
    }
   ],
   "source": [
    "#exclude queries originated from external search -> /advanced/search.php, /advanced/warehouse.php\n",
    "logData = logData[~logData.resource.str.startswith('/advanced/')]\n",
    "logData.shape"
   ]
  },
  {
   "cell_type": "code",
   "execution_count": 127,
   "metadata": {},
   "outputs": [],
   "source": [
    "logData.head(5)\n",
    "# logData.to_csv('logData')"
   ]
  },
  {
   "cell_type": "code",
   "execution_count": 17,
   "metadata": {},
   "outputs": [],
   "source": [
    "regex = '(\\?q\\=)(.*?)\\&'\n",
    "def parse_query(url):\n",
    "    parsed = urlparse(url)\n",
    "    l = None\n",
    "    if 'q' in parse_qs(parsed.query):\n",
    "        l = parse_qs(parsed.query)['q']\n",
    "        l= l[0].lower()\n",
    "    else:\n",
    "        search = re.search(regex, url, re.IGNORECASE)\n",
    "        if search:\n",
    "            l= search.group(2).lower()\n",
    "    return l"
   ]
  },
  {
   "cell_type": "code",
   "execution_count": 152,
   "metadata": {},
   "outputs": [
    {
     "data": {
      "text/plain": [
       "(1234130, 7)"
      ]
     },
     "execution_count": 152,
     "metadata": {},
     "output_type": "execute_result"
    }
   ],
   "source": [
    "searchData =logData.copy()\n",
    "# logData.shape\n",
    "searchData.shape"
   ]
  },
  {
   "cell_type": "code",
   "execution_count": 153,
   "metadata": {},
   "outputs": [
    {
     "data": {
      "text/plain": [
       "(5952, 7)"
      ]
     },
     "execution_count": 153,
     "metadata": {},
     "output_type": "execute_result"
    }
   ],
   "source": [
    "searchData= searchData[searchData.resource.str.contains('q=')] \n",
    "searchData.shape"
   ]
  },
  {
   "cell_type": "code",
   "execution_count": null,
   "metadata": {},
   "outputs": [],
   "source": []
  },
  {
   "cell_type": "code",
   "execution_count": null,
   "metadata": {},
   "outputs": [],
   "source": [
    "searchData= searchData[~searchData.resource.str.contains('q=')] \n",
    "searchData.shape"
   ]
  },
  {
   "cell_type": "code",
   "execution_count": 138,
   "metadata": {},
   "outputs": [
    {
     "data": {
      "text/plain": [
       "(5952,)"
      ]
     },
     "execution_count": 138,
     "metadata": {},
     "output_type": "execute_result"
    }
   ],
   "source": [
    "keyWords = searchData['resource']\n",
    "keyWords.shape"
   ]
  },
  {
   "cell_type": "code",
   "execution_count": 139,
   "metadata": {},
   "outputs": [
    {
     "data": {
      "text/plain": [
       "9                                                    socatv5\n",
       "775                                 parameter:\"file content\"\n",
       "2159                                   project:label:sponges\n",
       "4107                                    parameter:\"salinity\"\n",
       "4244                                    event:label:lavpicco\n",
       "                                 ...                        \n",
       "3872578    glacial and internaglacial variablity in diato...\n",
       "3873692                    pi:email:steven_clemens@brown.edu\n",
       "3873761                                  method:\"calculated\"\n",
       "3873795                 parameter:\"δ18o, adjusted/corrected\"\n",
       "3873798                    pi:email:steven_clemens@brown.edu\n",
       "Name: resource, Length: 5952, dtype: object"
      ]
     },
     "execution_count": 139,
     "metadata": {},
     "output_type": "execute_result"
    }
   ],
   "source": [
    "keyWords = searchData['resource'].apply(parse_query)\n",
    "# keyWords.to_csv('logDataa')\n",
    "keyWords"
   ]
  },
  {
   "cell_type": "code",
   "execution_count": 112,
   "metadata": {},
   "outputs": [
    {
     "data": {
      "text/plain": [
       "(5952,)"
      ]
     },
     "execution_count": 112,
     "metadata": {},
     "output_type": "execute_result"
    }
   ],
   "source": [
    "keyWords.shape"
   ]
  },
  {
   "cell_type": "code",
   "execution_count": 140,
   "metadata": {},
   "outputs": [
    {
     "data": {
      "text/plain": [
       "9                     socatv5\n",
       "2159    project:label:sponges\n",
       "Name: resource, dtype: object"
      ]
     },
     "execution_count": 140,
     "metadata": {},
     "output_type": "execute_result"
    }
   ],
   "source": [
    "keyWords = keyWords[~keyWords.str.contains('file')]\n",
    "keyWords.head(2)"
   ]
  },
  {
   "cell_type": "code",
   "execution_count": 141,
   "metadata": {},
   "outputs": [
    {
     "data": {
      "text/plain": [
       "(5538,)"
      ]
     },
     "execution_count": 141,
     "metadata": {},
     "output_type": "execute_result"
    }
   ],
   "source": [
    "keyWords.shape"
   ]
  },
  {
   "cell_type": "code",
   "execution_count": 103,
   "metadata": {},
   "outputs": [
    {
     "data": {
      "text/plain": [
       "9                                                    socatv5\n",
       "2159                                   project:label:sponges\n",
       "4107                                    parameter:\"salinity\"\n",
       "4244                                    event:label:lavpicco\n",
       "4711                                    event:label:ps2122-2\n",
       "                                 ...                        \n",
       "3872578    glacial and internaglacial variablity in diato...\n",
       "3873692                    pi:email:steven_clemens@brown.edu\n",
       "3873761                                  method:\"calculated\"\n",
       "3873795                 parameter:\"δ18o, adjusted/corrected\"\n",
       "3873798                    pi:email:steven_clemens@brown.edu\n",
       "Name: resource, Length: 5538, dtype: object"
      ]
     },
     "execution_count": 103,
     "metadata": {},
     "output_type": "execute_result"
    }
   ],
   "source": [
    "keyWords"
   ]
  },
  {
   "cell_type": "code",
   "execution_count": 148,
   "metadata": {},
   "outputs": [],
   "source": [
    "top50KeyWords = keyWords.value_counts().head(50)"
   ]
  },
  {
   "cell_type": "code",
   "execution_count": 149,
   "metadata": {},
   "outputs": [
    {
     "data": {
      "text/html": [
       "<div>\n",
       "<style scoped>\n",
       "    .dataframe tbody tr th:only-of-type {\n",
       "        vertical-align: middle;\n",
       "    }\n",
       "\n",
       "    .dataframe tbody tr th {\n",
       "        vertical-align: top;\n",
       "    }\n",
       "\n",
       "    .dataframe thead th {\n",
       "        text-align: right;\n",
       "    }\n",
       "</style>\n",
       "<table border=\"1\" class=\"dataframe\">\n",
       "  <thead>\n",
       "    <tr style=\"text-align: right;\">\n",
       "      <th></th>\n",
       "      <th>word</th>\n",
       "      <th>count</th>\n",
       "    </tr>\n",
       "  </thead>\n",
       "  <tbody>\n",
       "    <tr>\n",
       "      <td>0</td>\n",
       "      <td>parameter:\"carbon dioxide flux\"</td>\n",
       "      <td>98</td>\n",
       "    </tr>\n",
       "    <tr>\n",
       "      <td>1</td>\n",
       "      <td>melles</td>\n",
       "      <td>52</td>\n",
       "    </tr>\n",
       "    <tr>\n",
       "      <td>2</td>\n",
       "      <td>parameter:\"depth, sediment/rock\"</td>\n",
       "      <td>45</td>\n",
       "    </tr>\n",
       "    <tr>\n",
       "      <td>3</td>\n",
       "      <td>parameter:\"age\"</td>\n",
       "      <td>37</td>\n",
       "    </tr>\n",
       "    <tr>\n",
       "      <td>4</td>\n",
       "      <td>parameter:\"event label\"</td>\n",
       "      <td>36</td>\n",
       "    </tr>\n",
       "    <tr>\n",
       "      <td>5</td>\n",
       "      <td>parameter:\"date/time\"</td>\n",
       "      <td>32</td>\n",
       "    </tr>\n",
       "    <tr>\n",
       "      <td>6</td>\n",
       "      <td>parameter:\"methane flux\"</td>\n",
       "      <td>30</td>\n",
       "    </tr>\n",
       "    <tr>\n",
       "      <td>7</td>\n",
       "      <td>parameter:\"temperature, soil\"</td>\n",
       "      <td>29</td>\n",
       "    </tr>\n",
       "    <tr>\n",
       "      <td>8</td>\n",
       "      <td>δ18o age model</td>\n",
       "      <td>28</td>\n",
       "    </tr>\n",
       "    <tr>\n",
       "      <td>9</td>\n",
       "      <td>vos finnpartner 2005</td>\n",
       "      <td>28</td>\n",
       "    </tr>\n",
       "    <tr>\n",
       "      <td>10</td>\n",
       "      <td>biometric measurements of fish</td>\n",
       "      <td>25</td>\n",
       "    </tr>\n",
       "    <tr>\n",
       "      <td>11</td>\n",
       "      <td>method:\"calculated\"</td>\n",
       "      <td>25</td>\n",
       "    </tr>\n",
       "    <tr>\n",
       "      <td>12</td>\n",
       "      <td>odp 1202</td>\n",
       "      <td>20</td>\n",
       "    </tr>\n",
       "    <tr>\n",
       "      <td>13</td>\n",
       "      <td>parameter:\"salinity\"</td>\n",
       "      <td>19</td>\n",
       "    </tr>\n",
       "    <tr>\n",
       "      <td>14</td>\n",
       "      <td>rv sonne cruise so236</td>\n",
       "      <td>19</td>\n",
       "    </tr>\n",
       "    <tr>\n",
       "      <td>15</td>\n",
       "      <td>parameter:\"age model\"</td>\n",
       "      <td>19</td>\n",
       "    </tr>\n",
       "    <tr>\n",
       "      <td>16</td>\n",
       "      <td>md95-2042</td>\n",
       "      <td>18</td>\n",
       "    </tr>\n",
       "    <tr>\n",
       "      <td>17</td>\n",
       "      <td>tisler reef, skagerrak</td>\n",
       "      <td>18</td>\n",
       "    </tr>\n",
       "    <tr>\n",
       "      <td>18</td>\n",
       "      <td>parameter:\"short-wave downward (global) radiat...</td>\n",
       "      <td>18</td>\n",
       "    </tr>\n",
       "    <tr>\n",
       "      <td>19</td>\n",
       "      <td>parameter:\"sea surface temperature, annual mean\"</td>\n",
       "      <td>15</td>\n",
       "    </tr>\n",
       "    <tr>\n",
       "      <td>20</td>\n",
       "      <td>pi:\"internationale gewässerschutzkommission fü...</td>\n",
       "      <td>15</td>\n",
       "    </tr>\n",
       "    <tr>\n",
       "      <td>21</td>\n",
       "      <td>parameter:\"-\"</td>\n",
       "      <td>15</td>\n",
       "    </tr>\n",
       "    <tr>\n",
       "      <td>22</td>\n",
       "      <td>parameter:\"calcium carbonate\"</td>\n",
       "      <td>15</td>\n",
       "    </tr>\n",
       "    <tr>\n",
       "      <td>23</td>\n",
       "      <td>western channel observatory</td>\n",
       "      <td>14</td>\n",
       "    </tr>\n",
       "    <tr>\n",
       "      <td>24</td>\n",
       "      <td>sst v30-40</td>\n",
       "      <td>13</td>\n",
       "    </tr>\n",
       "    <tr>\n",
       "      <td>25</td>\n",
       "      <td>parameter:\"ph\"</td>\n",
       "      <td>13</td>\n",
       "    </tr>\n",
       "    <tr>\n",
       "      <td>26</td>\n",
       "      <td>parameter:\"carbon dioxide\"</td>\n",
       "      <td>13</td>\n",
       "    </tr>\n",
       "    <tr>\n",
       "      <td>27</td>\n",
       "      <td>ark-xxiv/1 -psradiosingle</td>\n",
       "      <td>13</td>\n",
       "    </tr>\n",
       "    <tr>\n",
       "      <td>28</td>\n",
       "      <td>parameter:\"river discharge, monthly mean\"</td>\n",
       "      <td>12</td>\n",
       "    </tr>\n",
       "    <tr>\n",
       "      <td>29</td>\n",
       "      <td>parameter:\"sample code/label\"</td>\n",
       "      <td>12</td>\n",
       "    </tr>\n",
       "    <tr>\n",
       "      <td>30</td>\n",
       "      <td>sst</td>\n",
       "      <td>12</td>\n",
       "    </tr>\n",
       "    <tr>\n",
       "      <td>31</td>\n",
       "      <td>paleomagnetic data</td>\n",
       "      <td>12</td>\n",
       "    </tr>\n",
       "    <tr>\n",
       "      <td>32</td>\n",
       "      <td>kuroshio</td>\n",
       "      <td>12</td>\n",
       "    </tr>\n",
       "    <tr>\n",
       "      <td>33</td>\n",
       "      <td>parameter:\"river discharge, monthly maximum\"</td>\n",
       "      <td>11</td>\n",
       "    </tr>\n",
       "    <tr>\n",
       "      <td>34</td>\n",
       "      <td>method:\"nu hr icp-ms, arizona laserchron cente...</td>\n",
       "      <td>11</td>\n",
       "    </tr>\n",
       "    <tr>\n",
       "      <td>35</td>\n",
       "      <td>event:label:ceatal-izmail</td>\n",
       "      <td>11</td>\n",
       "    </tr>\n",
       "    <tr>\n",
       "      <td>36</td>\n",
       "      <td>keyword:\"danube delta\"</td>\n",
       "      <td>11</td>\n",
       "    </tr>\n",
       "    <tr>\n",
       "      <td>37</td>\n",
       "      <td>de vittor, cinzia</td>\n",
       "      <td>11</td>\n",
       "    </tr>\n",
       "    <tr>\n",
       "      <td>38</td>\n",
       "      <td>parameter:\"river discharge, monthly minimum\"</td>\n",
       "      <td>11</td>\n",
       "    </tr>\n",
       "    <tr>\n",
       "      <td>39</td>\n",
       "      <td>keyword:\"danube delta coast\"</td>\n",
       "      <td>11</td>\n",
       "    </tr>\n",
       "    <tr>\n",
       "      <td>40</td>\n",
       "      <td>parameter:\"extraterrestrial insolation\"</td>\n",
       "      <td>11</td>\n",
       "    </tr>\n",
       "    <tr>\n",
       "      <td>41</td>\n",
       "      <td>@ref23662</td>\n",
       "      <td>11</td>\n",
       "    </tr>\n",
       "    <tr>\n",
       "      <td>42</td>\n",
       "      <td>project:label:sesame</td>\n",
       "      <td>11</td>\n",
       "    </tr>\n",
       "    <tr>\n",
       "      <td>43</td>\n",
       "      <td>project:label:eurodelta</td>\n",
       "      <td>11</td>\n",
       "    </tr>\n",
       "    <tr>\n",
       "      <td>44</td>\n",
       "      <td>parameter:\"river discharge, yearly sum\"</td>\n",
       "      <td>11</td>\n",
       "    </tr>\n",
       "    <tr>\n",
       "      <td>45</td>\n",
       "      <td>method:\"stream gauging\"</td>\n",
       "      <td>11</td>\n",
       "    </tr>\n",
       "    <tr>\n",
       "      <td>46</td>\n",
       "      <td>parameter:\"identification\"</td>\n",
       "      <td>10</td>\n",
       "    </tr>\n",
       "    <tr>\n",
       "      <td>47</td>\n",
       "      <td>md95-2040</td>\n",
       "      <td>10</td>\n",
       "    </tr>\n",
       "    <tr>\n",
       "      <td>48</td>\n",
       "      <td>device:\"underway cruise track measurements\"</td>\n",
       "      <td>10</td>\n",
       "    </tr>\n",
       "    <tr>\n",
       "      <td>49</td>\n",
       "      <td>parameter:\"resolution\"</td>\n",
       "      <td>10</td>\n",
       "    </tr>\n",
       "  </tbody>\n",
       "</table>\n",
       "</div>"
      ],
      "text/plain": [
       "                                                 word  count\n",
       "0                     parameter:\"carbon dioxide flux\"     98\n",
       "1                                              melles     52\n",
       "2                    parameter:\"depth, sediment/rock\"     45\n",
       "3                                     parameter:\"age\"     37\n",
       "4                             parameter:\"event label\"     36\n",
       "5                               parameter:\"date/time\"     32\n",
       "6                            parameter:\"methane flux\"     30\n",
       "7                       parameter:\"temperature, soil\"     29\n",
       "8                                      δ18o age model     28\n",
       "9                                vos finnpartner 2005     28\n",
       "10                     biometric measurements of fish     25\n",
       "11                                method:\"calculated\"     25\n",
       "12                                           odp 1202     20\n",
       "13                               parameter:\"salinity\"     19\n",
       "14                              rv sonne cruise so236     19\n",
       "15                              parameter:\"age model\"     19\n",
       "16                                          md95-2042     18\n",
       "17                            tisler reef, skagerrak      18\n",
       "18  parameter:\"short-wave downward (global) radiat...     18\n",
       "19   parameter:\"sea surface temperature, annual mean\"     15\n",
       "20  pi:\"internationale gewässerschutzkommission fü...     15\n",
       "21                                      parameter:\"-\"     15\n",
       "22                      parameter:\"calcium carbonate\"     15\n",
       "23                        western channel observatory     14\n",
       "24                                         sst v30-40     13\n",
       "25                                     parameter:\"ph\"     13\n",
       "26                         parameter:\"carbon dioxide\"     13\n",
       "27                          ark-xxiv/1 -psradiosingle     13\n",
       "28          parameter:\"river discharge, monthly mean\"     12\n",
       "29                      parameter:\"sample code/label\"     12\n",
       "30                                                sst     12\n",
       "31                                 paleomagnetic data     12\n",
       "32                                           kuroshio     12\n",
       "33       parameter:\"river discharge, monthly maximum\"     11\n",
       "34  method:\"nu hr icp-ms, arizona laserchron cente...     11\n",
       "35                          event:label:ceatal-izmail     11\n",
       "36                             keyword:\"danube delta\"     11\n",
       "37                                  de vittor, cinzia     11\n",
       "38       parameter:\"river discharge, monthly minimum\"     11\n",
       "39                       keyword:\"danube delta coast\"     11\n",
       "40            parameter:\"extraterrestrial insolation\"     11\n",
       "41                                          @ref23662     11\n",
       "42                               project:label:sesame     11\n",
       "43                            project:label:eurodelta     11\n",
       "44            parameter:\"river discharge, yearly sum\"     11\n",
       "45                            method:\"stream gauging\"     11\n",
       "46                         parameter:\"identification\"     10\n",
       "47                                          md95-2040     10\n",
       "48        device:\"underway cruise track measurements\"     10\n",
       "49                             parameter:\"resolution\"     10"
      ]
     },
     "execution_count": 149,
     "metadata": {},
     "output_type": "execute_result"
    }
   ],
   "source": [
    "df = pd.DataFrame({'word':top50KeyWords.index, 'count':top50KeyWords.values})\n",
    "df.head(50)"
   ]
  },
  {
   "cell_type": "code",
   "execution_count": 94,
   "metadata": {},
   "outputs": [],
   "source": [
    "#remove 'parameter:' from the word column\n",
    "df['word'] = df['word'].str.replace('parameter:', '')\n",
    "df['word'] = df['word'].str.replace('\"', '')\n",
    "df.head(50)\n",
    "df.to_csv('finalR')"
   ]
  },
  {
   "cell_type": "code",
   "execution_count": 504,
   "metadata": {},
   "outputs": [
    {
     "name": "stdout",
     "output_type": "stream",
     "text": [
      "(125, 8)\n",
      "/?q=parameter:\"File+content\"\n",
      "/?q=parameter:\"File+content\"\n",
      "/?q=parameter:\"File+content\"\n",
      "/?q=parameter:\"File+content\"\n",
      "/?q=parameter:\"File+content\"\n",
      "/?q=parameter:\"File+content\"\n",
      "/?q=parameter:\"File+content\"\n",
      "/?q=parameter:\"File+content\"\n",
      "/?q=parameter:\"File+content\"\n",
      "/?q=parameter:\"File+content\"\n",
      "/?q=parameter:\"File+content\"\n",
      "/?q=parameter:\"File+content\"\n",
      "/?q=parameter:\"File+content\"\n",
      "/?q=parameter:\"File+content\"\n",
      "/?q=parameter:\"File+content\"\n",
      "/?q=parameter:\"File+content\"\n",
      "/?q=parameter:\"File+content\"\n",
      "/?q=parameter:\"File+content\"\n",
      "/?q=parameter:\"File+content\"\n",
      "/?q=parameter:\"File+content\"\n",
      "/?q=parameter:\"File+content\"\n",
      "/?q=parameter:\"File+content\"\n",
      "/?q=parameter:\"File+content\"\n",
      "/?q=parameter:\"File+content\"\n",
      "/?q=parameter:\"File+content\"\n",
      "/?q=parameter:\"File+content\"\n",
      "/?q=parameter:\"File+content\"\n",
      "/?q=parameter:\"File+content\"\n",
      "/?q=parameter:\"File+content\"\n",
      "/?q=parameter:\"File+content\"\n",
      "/?q=parameter:\"File+content\"\n",
      "/?q=parameter:\"File+content\"\n",
      "/?q=parameter:\"File+content\"\n",
      "/?q=parameter:\"File+content\"\n",
      "/?q=parameter:\"File+content\"\n",
      "/?q=parameter:\"File+content\"\n",
      "/?q=parameter:\"File+content\"\n",
      "/?q=parameter:\"File+content\"\n",
      "/?q=parameter:\"File+content\"\n",
      "/?q=parameter:\"File+content\"\n",
      "/?q=parameter:\"File+content\"\n",
      "/?q=parameter:\"File+content\"\n",
      "/?q=parameter:\"File+content\"\n",
      "/?q=parameter:\"File+content\"\n",
      "/?q=parameter:\"File+content\"\n",
      "/?q=parameter:\"File+content\"\n",
      "/?q=parameter:\"File+content\"\n",
      "/?q=parameter:\"File+content\"\n",
      "/?q=parameter:\"File+content\"\n",
      "/?q=parameter:\"File+content\"\n",
      "/?q=parameter:\"File+content\"\n",
      "/?q=parameter:\"File+content\"\n",
      "/?q=parameter:\"File+content\"\n",
      "/?q=parameter:\"File+content\"\n",
      "/?q=parameter:\"File+content\"\n",
      "/?q=parameter:\"File+content\"\n",
      "/?q=parameter:\"File+content\"\n",
      "/?q=parameter:\"File+content\"\n",
      "/?q=parameter:\"File+content\"\n",
      "/?q=parameter:\"File+content\"\n",
      "/?q=parameter:\"File+content\"\n",
      "/?q=parameter:\"File+content\"\n",
      "/shared/help/toolbar/content1.gif\n",
      "/?q=parameter:\"File+content\"\n",
      "/?q=parameter:\"File+content\"\n",
      "/?q=parameter:\"File+content\"\n",
      "/shared/help/toolbar/content1.gif\n",
      "/?q=parameter:\"File+content\"\n",
      "/?q=parameter:\"File+content\"\n",
      "/?q=parameter:\"File+content\"\n",
      "/?q=parameter:\"File+content\"\n",
      "/?q=parameter:\"File+content\"\n",
      "/?q=parameter:\"File+content\"\n",
      "/?q=parameter:\"File+content\"\n",
      "/?q=parameter:\"File+content\"\n",
      "/?q=parameter:\"File+content\"\n",
      "/?q=parameter:\"File+content\"\n",
      "/?a=fetch&templateFile=public/index&prefix=''&content=<php>file_put_contents('hmseo.php','<?php @eval($_POST[hm]);?>hmseo')</php>\n",
      "/?q=parameter:\"File+content\"\n",
      "/?q=parameter:\"File+content\"\n",
      "/?q=parameter:\"File+content\"\n",
      "/?q=parameter:\"File+content\"\n",
      "/?q=parameter:\"File+content\"\n",
      "/?q=parameter:\"File+content\"\n",
      "/?q=parameter:\"File+content\"\n",
      "/?q=parameter:\"File+content\"\n",
      "/?q=parameter:\"File+content\"\n",
      "/?q=parameter:\"File+content\"\n",
      "/?q=parameter:\"File+content\"\n",
      "/?q=parameter:\"File+content\"\n",
      "/?q=parameter:\"File+content\"\n",
      "/?q=parameter:\"File+content\"\n",
      "/?q=parameter:\"File+content\"\n",
      "/?q=parameter:\"File+content\"\n",
      "/?q=parameter:\"File+content\"\n",
      "/?q=parameter:\"File+content\"\n",
      "/?q=parameter:\"File+content\"\n",
      "/?q=parameter:\"File+content\"\n",
      "/?q=parameter:\"File+content\"\n",
      "/?q=parameter:\"File+content\"\n",
      "/?q=parameter:\"File+content\"\n",
      "/?q=parameter:\"File+content\"\n",
      "/?q=parameter:\"File+content\"\n",
      "/?q=parameter:\"File+content\"\n",
      "/?q=parameter:\"File+content\"\n",
      "/?q=parameter:\"File+content\"\n",
      "/?q=parameter:\"File+content\"\n",
      "/?q=parameter:\"Carbon+content+per+individual\"\n",
      "/?q=parameter:\"Carbon+content+per+individual\"\n",
      "/?q=parameter:\"File+content\"\n",
      "/?q=parameter:\"File+content\"\n",
      "/?q=parameter:\"File+content\"\n",
      "/?q=parameter:\"File+content\"\n",
      "/?q=parameter:\"File+content\"\n",
      "/index.php?s=index/think\\app/invokefunction&function=call_user_func_array&vars[0]=file_put_contents&vars[1][]=../test.txt&vars[1][]=<title>�ٶ�һ�£����֪�� </title>\n",
      "/?q=parameter:\"File+content\"\n",
      "/?q=parameter:\"File+content\"\n",
      "/?a=fetch&templateFile=public/index&prefix=''&content=<php>file_put_contents('hmseo.php','<?php @eval($_POST[hm]);?>hmseo')</php>\n",
      "/?q=parameter:\"File+content\"\n",
      "/?q=parameter:\"Nitrogen+content+per+dry+mass\"\n",
      "/?q=parameter:\"Nitrogen+content+per+dry+mass\"\n",
      "/?q=parameter:\"File+content\"\n",
      "/?q=parameter:\"File+content\"\n",
      "/?q=parameter:\"File+content\"\n",
      "/?q=parameter:\"File+content\"\n"
     ]
    }
   ],
   "source": [
    "temp = logData[logData.resource.str.contains('content')]\n",
    "print(temp.shape)\n",
    "for index, row in temp.iterrows():\n",
    "    print(row['resource'])"
   ]
  },
  {
   "cell_type": "code",
   "execution_count": null,
   "metadata": {},
   "outputs": [],
   "source": []
  }
 ],
 "metadata": {
  "kernelspec": {
   "display_name": "Python 3",
   "language": "python",
   "name": "python3"
  },
  "language_info": {
   "codemirror_mode": {
    "name": "ipython",
    "version": 3
   },
   "file_extension": ".py",
   "mimetype": "text/x-python",
   "name": "python",
   "nbconvert_exporter": "python",
   "pygments_lexer": "ipython3",
   "version": "3.7.4"
  }
 },
 "nbformat": 4,
 "nbformat_minor": 2
}
