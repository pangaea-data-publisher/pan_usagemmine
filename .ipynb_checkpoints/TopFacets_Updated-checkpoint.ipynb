{
 "cells": [
  {
   "cell_type": "code",
   "execution_count": 200,
   "metadata": {},
   "outputs": [],
   "source": [
    "import pandas as pd\n",
    "import re\n",
    "from datetime import datetime\n",
    "import pytz\n",
    "from urllib.parse import urlparse\n",
    "from urllib.parse import parse_qs"
   ]
  },
  {
   "cell_type": "code",
   "execution_count": 201,
   "metadata": {},
   "outputs": [],
   "source": [
    "import os\n",
    "current_file = os.getcwd()\n",
    "myfile = os.path.join(current_file, 'www.pangaea.de-access-anon.log.bz2')"
   ]
  },
  {
   "cell_type": "code",
   "execution_count": 202,
   "metadata": {},
   "outputs": [],
   "source": [
    "logData = pd.read_csv(myfile,\n",
    "    sep=r'\\s(?=(?:[^\"]*\"[^\"]*\")*[^\"]*$)(?![^\\[]*\\])',\n",
    "    engine='python',\n",
    "    na_values='-',\n",
    "    header=None,\n",
    "    usecols=[0, 3, 4, 5, 7, 8],encoding=\"utf-8\",\n",
    "    names=['ip', 'time', 'request', 'status', 'referer', 'user_agent'])"
   ]
  },
  {
   "cell_type": "code",
   "execution_count": 203,
   "metadata": {},
   "outputs": [
    {
     "data": {
      "text/html": [
       "<div>\n",
       "<style scoped>\n",
       "    .dataframe tbody tr th:only-of-type {\n",
       "        vertical-align: middle;\n",
       "    }\n",
       "\n",
       "    .dataframe tbody tr th {\n",
       "        vertical-align: top;\n",
       "    }\n",
       "\n",
       "    .dataframe thead th {\n",
       "        text-align: right;\n",
       "    }\n",
       "</style>\n",
       "<table border=\"1\" class=\"dataframe\">\n",
       "  <thead>\n",
       "    <tr style=\"text-align: right;\">\n",
       "      <th></th>\n",
       "      <th>ip</th>\n",
       "      <th>time</th>\n",
       "      <th>request</th>\n",
       "      <th>status</th>\n",
       "      <th>referer</th>\n",
       "      <th>user_agent</th>\n",
       "    </tr>\n",
       "  </thead>\n",
       "  <tbody>\n",
       "    <tr>\n",
       "      <td>0</td>\n",
       "      <td>68aa873d61a6586244b0892d7bca2573</td>\n",
       "      <td>[30/Sep/2019:06:25:44 +0000]</td>\n",
       "      <td>\"GET /search?ie=UTF-8&amp;q=parameter%3A%22Bathysi...</td>\n",
       "      <td>301.0</td>\n",
       "      <td>\"-\"</td>\n",
       "      <td>\"Mozilla/5.0 (compatible; AhrefsBot/6.1; +http...</td>\n",
       "    </tr>\n",
       "  </tbody>\n",
       "</table>\n",
       "</div>"
      ],
      "text/plain": [
       "                                 ip                          time  \\\n",
       "0  68aa873d61a6586244b0892d7bca2573  [30/Sep/2019:06:25:44 +0000]   \n",
       "\n",
       "                                             request  status referer  \\\n",
       "0  \"GET /search?ie=UTF-8&q=parameter%3A%22Bathysi...   301.0     \"-\"   \n",
       "\n",
       "                                          user_agent  \n",
       "0  \"Mozilla/5.0 (compatible; AhrefsBot/6.1; +http...  "
      ]
     },
     "execution_count": 203,
     "metadata": {},
     "output_type": "execute_result"
    }
   ],
   "source": [
    "logData.head(1)"
   ]
  },
  {
   "cell_type": "code",
   "execution_count": 204,
   "metadata": {},
   "outputs": [
    {
     "data": {
      "text/html": [
       "<div>\n",
       "<style scoped>\n",
       "    .dataframe tbody tr th:only-of-type {\n",
       "        vertical-align: middle;\n",
       "    }\n",
       "\n",
       "    .dataframe tbody tr th {\n",
       "        vertical-align: top;\n",
       "    }\n",
       "\n",
       "    .dataframe thead th {\n",
       "        text-align: right;\n",
       "    }\n",
       "</style>\n",
       "<table border=\"1\" class=\"dataframe\">\n",
       "  <thead>\n",
       "    <tr style=\"text-align: right;\">\n",
       "      <th></th>\n",
       "      <th>ip</th>\n",
       "      <th>time</th>\n",
       "      <th>request</th>\n",
       "      <th>status</th>\n",
       "      <th>referer</th>\n",
       "      <th>user_agent</th>\n",
       "    </tr>\n",
       "  </thead>\n",
       "  <tbody>\n",
       "    <tr>\n",
       "      <td>0</td>\n",
       "      <td>68aa873d61a6586244b0892d7bca2573</td>\n",
       "      <td>[30/Sep/2019:06:25:44 +0000]</td>\n",
       "      <td>\"GET /search?ie=UTF-8&amp;q=parameter%3A%22Bathysi...</td>\n",
       "      <td>301</td>\n",
       "      <td>\"-\"</td>\n",
       "      <td>\"Mozilla/5.0 (compatible; AhrefsBot/6.1; +http...</td>\n",
       "    </tr>\n",
       "  </tbody>\n",
       "</table>\n",
       "</div>"
      ],
      "text/plain": [
       "                                 ip                          time  \\\n",
       "0  68aa873d61a6586244b0892d7bca2573  [30/Sep/2019:06:25:44 +0000]   \n",
       "\n",
       "                                             request  status referer  \\\n",
       "0  \"GET /search?ie=UTF-8&q=parameter%3A%22Bathysi...     301     \"-\"   \n",
       "\n",
       "                                          user_agent  \n",
       "0  \"Mozilla/5.0 (compatible; AhrefsBot/6.1; +http...  "
      ]
     },
     "execution_count": 204,
     "metadata": {},
     "output_type": "execute_result"
    }
   ],
   "source": [
    "logData['status'] = logData['status'].fillna(0) #convert non-finite values (NA or inf) to integer\n",
    "logData['status'] = logData['status'].astype(int)\n",
    "logData.head(1)"
   ]
  },
  {
   "cell_type": "code",
   "execution_count": 205,
   "metadata": {},
   "outputs": [],
   "source": [
    "logData['request']= logData['request'].apply(lambda x: re.sub(r'^\"|\"$', '', str(x)) )\n",
    "logData['user_agent']= logData['user_agent'].apply(lambda x: re.sub(r'^\"|\"$', '',str(x)) )\n",
    "logData['referer']= logData['referer'].apply(lambda x: re.sub(r'^\"|\"$', '',str(x)) )"
   ]
  },
  {
   "cell_type": "code",
   "execution_count": 206,
   "metadata": {},
   "outputs": [
    {
     "data": {
      "text/plain": [
       "(3874088, 6)"
      ]
     },
     "execution_count": 206,
     "metadata": {},
     "output_type": "execute_result"
    }
   ],
   "source": [
    "logData.shape"
   ]
  },
  {
   "cell_type": "code",
   "execution_count": 207,
   "metadata": {},
   "outputs": [
    {
     "data": {
      "text/html": [
       "<div>\n",
       "<style scoped>\n",
       "    .dataframe tbody tr th:only-of-type {\n",
       "        vertical-align: middle;\n",
       "    }\n",
       "\n",
       "    .dataframe tbody tr th {\n",
       "        vertical-align: top;\n",
       "    }\n",
       "\n",
       "    .dataframe thead th {\n",
       "        text-align: right;\n",
       "    }\n",
       "</style>\n",
       "<table border=\"1\" class=\"dataframe\">\n",
       "  <thead>\n",
       "    <tr style=\"text-align: right;\">\n",
       "      <th></th>\n",
       "      <th>ip</th>\n",
       "      <th>time</th>\n",
       "      <th>request</th>\n",
       "      <th>status</th>\n",
       "      <th>referer</th>\n",
       "      <th>user_agent</th>\n",
       "      <th>request_type</th>\n",
       "      <th>resource</th>\n",
       "    </tr>\n",
       "  </thead>\n",
       "  <tbody>\n",
       "    <tr>\n",
       "      <td>0</td>\n",
       "      <td>68aa873d61a6586244b0892d7bca2573</td>\n",
       "      <td>[30/Sep/2019:06:25:44 +0000]</td>\n",
       "      <td>GET /search?ie=UTF-8&amp;q=parameter%3A%22Bathysip...</td>\n",
       "      <td>301</td>\n",
       "      <td>-</td>\n",
       "      <td>Mozilla/5.0 (compatible; AhrefsBot/6.1; +http:...</td>\n",
       "      <td>GET</td>\n",
       "      <td>/search?ie=UTF-8&amp;q=parameter%3A%22Bathysiphon+...</td>\n",
       "    </tr>\n",
       "  </tbody>\n",
       "</table>\n",
       "</div>"
      ],
      "text/plain": [
       "                                 ip                          time  \\\n",
       "0  68aa873d61a6586244b0892d7bca2573  [30/Sep/2019:06:25:44 +0000]   \n",
       "\n",
       "                                             request  status referer  \\\n",
       "0  GET /search?ie=UTF-8&q=parameter%3A%22Bathysip...     301       -   \n",
       "\n",
       "                                          user_agent request_type  \\\n",
       "0  Mozilla/5.0 (compatible; AhrefsBot/6.1; +http:...          GET   \n",
       "\n",
       "                                            resource  \n",
       "0  /search?ie=UTF-8&q=parameter%3A%22Bathysiphon+...  "
      ]
     },
     "execution_count": 207,
     "metadata": {},
     "output_type": "execute_result"
    }
   ],
   "source": [
    "logData['request_type'] = logData['request'].str.split().str[0]\n",
    "logData['resource'] = logData['request'].str.split().str[1]\n",
    "logData.head(1)"
   ]
  },
  {
   "cell_type": "code",
   "execution_count": 208,
   "metadata": {},
   "outputs": [
    {
     "data": {
      "text/plain": [
       "(3063078, 8)"
      ]
     },
     "execution_count": 208,
     "metadata": {},
     "output_type": "execute_result"
    }
   ],
   "source": [
    "logData = logData[(logData.request_type == 'GET') & (logData.status == 200)]\n",
    "logData.shape"
   ]
  },
  {
   "cell_type": "code",
   "execution_count": 209,
   "metadata": {},
   "outputs": [
    {
     "data": {
      "text/html": [
       "<div>\n",
       "<style scoped>\n",
       "    .dataframe tbody tr th:only-of-type {\n",
       "        vertical-align: middle;\n",
       "    }\n",
       "\n",
       "    .dataframe tbody tr th {\n",
       "        vertical-align: top;\n",
       "    }\n",
       "\n",
       "    .dataframe thead th {\n",
       "        text-align: right;\n",
       "    }\n",
       "</style>\n",
       "<table border=\"1\" class=\"dataframe\">\n",
       "  <thead>\n",
       "    <tr style=\"text-align: right;\">\n",
       "      <th></th>\n",
       "      <th>ip</th>\n",
       "      <th>time</th>\n",
       "      <th>status</th>\n",
       "      <th>referer</th>\n",
       "      <th>user_agent</th>\n",
       "      <th>request_type</th>\n",
       "      <th>resource</th>\n",
       "    </tr>\n",
       "  </thead>\n",
       "  <tbody>\n",
       "    <tr>\n",
       "      <td>3</td>\n",
       "      <td>75892c86ec3272b7fa79e0f2c375a9f5</td>\n",
       "      <td>[30/Sep/2019:06:25:56 +0000]</td>\n",
       "      <td>200</td>\n",
       "      <td>-</td>\n",
       "      <td>Mozilla/5.0 (compatible; SemrushBot/6~bl; +htt...</td>\n",
       "      <td>GET</td>\n",
       "      <td>/?maxdate=2005-12-31T23%3A59%3A59&amp;mindate=2005...</td>\n",
       "    </tr>\n",
       "  </tbody>\n",
       "</table>\n",
       "</div>"
      ],
      "text/plain": [
       "                                 ip                          time  status  \\\n",
       "3  75892c86ec3272b7fa79e0f2c375a9f5  [30/Sep/2019:06:25:56 +0000]     200   \n",
       "\n",
       "  referer                                         user_agent request_type  \\\n",
       "3       -  Mozilla/5.0 (compatible; SemrushBot/6~bl; +htt...          GET   \n",
       "\n",
       "                                            resource  \n",
       "3  /?maxdate=2005-12-31T23%3A59%3A59&mindate=2005...  "
      ]
     },
     "execution_count": 209,
     "metadata": {},
     "output_type": "execute_result"
    }
   ],
   "source": [
    "logData=logData.drop('request', axis=1)\n",
    "logData.head(1)"
   ]
  },
  {
   "cell_type": "code",
   "execution_count": 210,
   "metadata": {},
   "outputs": [
    {
     "data": {
      "text/plain": [
       "(1858386, 7)"
      ]
     },
     "execution_count": 210,
     "metadata": {},
     "output_type": "execute_result"
    }
   ],
   "source": [
    "logData = logData[~logData['resource'].str.match(\n",
    "    r'^/media|^/static|^/admin|^/robots.txt$|^/favicon.ico$')]\n",
    "logData = logData[~logData['user_agent'].str.match(\n",
    "    r'.*?bot|.*?spider|.*?crawler|.*?slurp', flags=re.I).fillna(False)]\n",
    "logData.shape"
   ]
  },
  {
   "cell_type": "code",
   "execution_count": 211,
   "metadata": {},
   "outputs": [
    {
     "data": {
      "text/html": [
       "<div>\n",
       "<style scoped>\n",
       "    .dataframe tbody tr th:only-of-type {\n",
       "        vertical-align: middle;\n",
       "    }\n",
       "\n",
       "    .dataframe tbody tr th {\n",
       "        vertical-align: top;\n",
       "    }\n",
       "\n",
       "    .dataframe thead th {\n",
       "        text-align: right;\n",
       "    }\n",
       "</style>\n",
       "<table border=\"1\" class=\"dataframe\">\n",
       "  <thead>\n",
       "    <tr style=\"text-align: right;\">\n",
       "      <th></th>\n",
       "      <th>ip</th>\n",
       "      <th>time</th>\n",
       "      <th>status</th>\n",
       "      <th>referer</th>\n",
       "      <th>user_agent</th>\n",
       "      <th>request_type</th>\n",
       "      <th>resource</th>\n",
       "    </tr>\n",
       "  </thead>\n",
       "  <tbody>\n",
       "    <tr>\n",
       "      <td>9</td>\n",
       "      <td>eb6f30241bf7ff9bf1c6ddb6d5ea2d66</td>\n",
       "      <td>[30/Sep/2019:06:26:12 +0000]</td>\n",
       "      <td>200</td>\n",
       "      <td>https://doi.pangaea.de/10.1594/PANGAEA.890974</td>\n",
       "      <td>Mozilla/5.0 (Macintosh; Intel Mac OS X 10_14_6...</td>\n",
       "      <td>GET</td>\n",
       "      <td>/?q=SOCATv5</td>\n",
       "    </tr>\n",
       "  </tbody>\n",
       "</table>\n",
       "</div>"
      ],
      "text/plain": [
       "                                 ip                          time  status  \\\n",
       "9  eb6f30241bf7ff9bf1c6ddb6d5ea2d66  [30/Sep/2019:06:26:12 +0000]     200   \n",
       "\n",
       "                                         referer  \\\n",
       "9  https://doi.pangaea.de/10.1594/PANGAEA.890974   \n",
       "\n",
       "                                          user_agent request_type     resource  \n",
       "9  Mozilla/5.0 (Macintosh; Intel Mac OS X 10_14_6...          GET  /?q=SOCATv5  "
      ]
     },
     "execution_count": 211,
     "metadata": {},
     "output_type": "execute_result"
    }
   ],
   "source": [
    "logData.head(1)"
   ]
  },
  {
   "cell_type": "code",
   "execution_count": 212,
   "metadata": {},
   "outputs": [
    {
     "data": {
      "text/plain": [
       "(1335062, 7)"
      ]
     },
     "execution_count": 212,
     "metadata": {},
     "output_type": "execute_result"
    }
   ],
   "source": [
    "#https://doi.pangaea.de, https://www.pangaea.de\n",
    "#use referrel to filter out external requests - only request originated from the portal will be considered\n",
    "logData = logData[logData.referer.str.startswith('https://doi.pangaea.de') | logData.referer.str.startswith('https://www.pangaea.de')]\n",
    "logData.shape"
   ]
  },
  {
   "cell_type": "code",
   "execution_count": 213,
   "metadata": {},
   "outputs": [
    {
     "data": {
      "text/plain": [
       "(1234130, 7)"
      ]
     },
     "execution_count": 213,
     "metadata": {},
     "output_type": "execute_result"
    }
   ],
   "source": [
    "#exclude queries originated from external search -> /advanced/search.php, /advanced/warehouse.php\n",
    "logData = logData[~logData.resource.str.startswith('/advanced/')]\n",
    "logData.shape"
   ]
  },
  {
   "cell_type": "code",
   "execution_count": 214,
   "metadata": {},
   "outputs": [],
   "source": [
    "logData['time']=logData['time'].apply(lambda x: datetime.strptime(x,'[%d/%b/%Y:%H:%M:%S +%f]').date())"
   ]
  },
  {
   "cell_type": "code",
   "execution_count": 215,
   "metadata": {},
   "outputs": [
    {
     "data": {
      "text/plain": [
       "(1234130, 7)"
      ]
     },
     "execution_count": 215,
     "metadata": {},
     "output_type": "execute_result"
    }
   ],
   "source": [
    "searchData =logData.copy()\n",
    "searchData.shape"
   ]
  },
  {
   "cell_type": "code",
   "execution_count": 216,
   "metadata": {},
   "outputs": [
    {
     "data": {
      "text/plain": [
       "(728, 7)"
      ]
     },
     "execution_count": 216,
     "metadata": {},
     "output_type": "execute_result"
    }
   ],
   "source": [
    "searchData= searchData[searchData.resource.str.contains('f.author') | searchData.resource.str.contains('f.basis') | searchData.resource.str.contains('f.campaign') | searchData.resource.str.contains('f.device') | searchData.resource.str.contains('f.location') | searchData.resource.str.contains('f.project') | searchData.resource.str.contains('f.pubyear') | searchData.resource.str.contains('f.topic')] \n",
    "searchData.shape\n",
    "# searchData.to_csv('searchData')\n",
    "#parseQuery"
   ]
  },
  {
   "cell_type": "code",
   "execution_count": 271,
   "metadata": {},
   "outputs": [
    {
     "ename": "TypeError",
     "evalue": "'DataFrame' object is not callable",
     "output_type": "error",
     "traceback": [
      "\u001b[0;31m---------------------------------------------------------------------------\u001b[0m",
      "\u001b[0;31mTypeError\u001b[0m                                 Traceback (most recent call last)",
      "\u001b[0;32m<ipython-input-271-342d0bc3bee2>\u001b[0m in \u001b[0;36m<module>\u001b[0;34m\u001b[0m\n\u001b[1;32m      1\u001b[0m \u001b[0msearchGroup\u001b[0m \u001b[0;34m=\u001b[0m \u001b[0msearchData\u001b[0m\u001b[0;34m.\u001b[0m\u001b[0mgroupby\u001b[0m\u001b[0;34m(\u001b[0m\u001b[0;34m[\u001b[0m\u001b[0;34m'time'\u001b[0m\u001b[0;34m,\u001b[0m\u001b[0;34m'ip'\u001b[0m\u001b[0;34m]\u001b[0m\u001b[0;34m)\u001b[0m\u001b[0;34m\u001b[0m\u001b[0;34m\u001b[0m\u001b[0m\n\u001b[1;32m      2\u001b[0m \u001b[0;31m# searchData.to_csv('search')\u001b[0m\u001b[0;34m\u001b[0m\u001b[0;34m\u001b[0m\u001b[0;34m\u001b[0m\u001b[0m\n\u001b[0;32m----> 3\u001b[0;31m \u001b[0mss\u001b[0m \u001b[0;34m=\u001b[0m \u001b[0msearchData\u001b[0m\u001b[0;34m(\u001b[0m\u001b[0;34m[\u001b[0m\u001b[0;34m'time'\u001b[0m\u001b[0;34m,\u001b[0m\u001b[0;34m'ip'\u001b[0m\u001b[0;34m,\u001b[0m\u001b[0;34m'resource'\u001b[0m\u001b[0;34m]\u001b[0m\u001b[0;34m)\u001b[0m\u001b[0;34m\u001b[0m\u001b[0;34m\u001b[0m\u001b[0m\n\u001b[0m\u001b[1;32m      4\u001b[0m \u001b[0;31m# print (searchGroup)\u001b[0m\u001b[0;34m\u001b[0m\u001b[0;34m\u001b[0m\u001b[0;34m\u001b[0m\u001b[0m\n\u001b[1;32m      5\u001b[0m \u001b[0mss\u001b[0m\u001b[0;34m\u001b[0m\u001b[0;34m\u001b[0m\u001b[0m\n",
      "\u001b[0;31mTypeError\u001b[0m: 'DataFrame' object is not callable"
     ]
    }
   ],
   "source": [
    "searchGroup = searchData.groupby(['time','ip'])\n",
    "# searchData.to_csv('search')"
   ]
  },
  {
   "cell_type": "code",
   "execution_count": 264,
   "metadata": {},
   "outputs": [],
   "source": [
    "keyFacets = searchGroup['resource'].apply(lambda x: re.findall(r'&?f.(pubyear|location|author|basis|campaign|device|project|topic)',str(x)))"
   ]
  },
  {
   "cell_type": "code",
   "execution_count": 265,
   "metadata": {},
   "outputs": [
    {
     "data": {
      "text/plain": [
       "time        ip                              \n",
       "2019-09-30  70f34bd78d8d0aa0620a64b3be826f42    [pubyear, location, pubyear, location, pubyear...\n",
       "            a094c47aff4ab6f29450d50321ee069d                                           [location]\n",
       "            b3d4a9cd0701141eda9934b2c4fae15d                                 [location, location]\n",
       "            f2768eaf46b52e1d0d285ec95719f4be                                                   []\n",
       "2019-10-01  0a80b3058f5a8a4a846f3370e42d88fc                       [location, location, location]\n",
       "                                                                      ...                        \n",
       "2019-11-23  41436894c83d5f7802d2adb1931a542f                                 [location, location]\n",
       "            b45af8174a0bc4981dd52c143dd9a415                                             [author]\n",
       "2019-11-24  a672baf6cd4cfb14fe591223304894e6                                           [campaign]\n",
       "            b45af8174a0bc4981dd52c143dd9a415                                             [author]\n",
       "2019-11-25  c362d0b38412eb3a8ac2d697dfb35308                                                   []\n",
       "Length: 247, dtype: object"
      ]
     },
     "execution_count": 265,
     "metadata": {},
     "output_type": "execute_result"
    }
   ],
   "source": [
    "keyFacets\n",
    "# keyFacets.to_csv('key')"
   ]
  },
  {
   "cell_type": "code",
   "execution_count": 266,
   "metadata": {},
   "outputs": [
    {
     "data": {
      "text/plain": [
       "[]                                                                                                                                                                                                                          41\n",
       "[author]                                                                                                                                                                                                                    27\n",
       "[location]                                                                                                                                                                                                                  24\n",
       "[project]                                                                                                                                                                                                                   21\n",
       "[topic]                                                                                                                                                                                                                     20\n",
       "[pubyear]                                                                                                                                                                                                                   17\n",
       "[location, location]                                                                                                                                                                                                         9\n",
       "[basis]                                                                                                                                                                                                                      9\n",
       "[topic, topic]                                                                                                                                                                                                               7\n",
       "[topic, topic, topic]                                                                                                                                                                                                        5\n",
       "[device]                                                                                                                                                                                                                     5\n",
       "[author, author]                                                                                                                                                                                                             4\n",
       "[pubyear, pubyear]                                                                                                                                                                                                           4\n",
       "[campaign]                                                                                                                                                                                                                   4\n",
       "[device, device]                                                                                                                                                                                                             3\n",
       "[location, location, location]                                                                                                                                                                                               2\n",
       "[topic, topic, topic, topic]                                                                                                                                                                                                 2\n",
       "[pubyear, pubyear, pubyear, pubyear]                                                                                                                                                                                         2\n",
       "[project, project, project, project]                                                                                                                                                                                         2\n",
       "[pubyear, pubyear, pubyear]                                                                                                                                                                                                  1\n",
       "[project, project, project]                                                                                                                                                                                                  1\n",
       "[topic, location, location, campaign, campaign, campaign, campaign, campaign, campaign]                                                                                                                                      1\n",
       "[topic, device]                                                                                                                                                                                                              1\n",
       "[pubyear, author]                                                                                                                                                                                                            1\n",
       "[location, location, location, location]                                                                                                                                                                                     1\n",
       "[location, location, location, location, location, location, location, location, location, location, location, location, location, location, location, location, location, location, location]                               1\n",
       "[pubyear, location, pubyear, location, pubyear, location, pubyear, location]                                                                                                                                                 1\n",
       "[project, project, project, project, pubyear]                                                                                                                                                                                1\n",
       "[pubyear, pubyear, pubyear, pubyear, pubyear]                                                                                                                                                                                1\n",
       "[topic, author]                                                                                                                                                                                                              1\n",
       "[campaign, author, author]                                                                                                                                                                                                   1\n",
       "[project, pubyear, project, campaign, pubyear]                                                                                                                                                                               1\n",
       "[location, campaign, device, device, device, location, device, device, device]                                                                                                                                               1\n",
       "[device, device, device]                                                                                                                                                                                                     1\n",
       "[location, pubyear]                                                                                                                                                                                                          1\n",
       "[project, project, author, author, author]                                                                                                                                                                                   1\n",
       "[topic, topic, author, author, author]                                                                                                                                                                                       1\n",
       "[pubyear, topic, pubyear]                                                                                                                                                                                                    1\n",
       "[location, location, location, location, location, basis, location, basis, location, basis, location, basis, location, basis, location, device, location, device, location, device, device]                                  1\n",
       "[project, author]                                                                                                                                                                                                            1\n",
       "[campaign, campaign, campaign, campaign, campaign, campaign, campaign, campaign]                                                                                                                                             1\n",
       "[author, author, pubyear, pubyear, pubyear]                                                                                                                                                                                  1\n",
       "[campaign, campaign]                                                                                                                                                                                                         1\n",
       "[location, author]                                                                                                                                                                                                           1\n",
       "[project, project, project, project, project, project, project, project, project, project]                                                                                                                                   1\n",
       "[author, author, author, author, author, author]                                                                                                                                                                             1\n",
       "[campaign, campaign, campaign, campaign, campaign, campaign, campaign, campaign, campaign]                                                                                                                                   1\n",
       "[pubyear, pubyear, pubyear, campaign]                                                                                                                                                                                        1\n",
       "[pubyear, pubyear, project, project, location]                                                                                                                                                                               1\n",
       "[campaign, campaign, campaign, campaign, campaign, campaign, campaign, campaign, campaign, campaign, campaign]                                                                                                               1\n",
       "[topic, topic, topic, topic, topic]                                                                                                                                                                                          1\n",
       "[project, device]                                                                                                                                                                                                            1\n",
       "[project, project]                                                                                                                                                                                                           1\n",
       "[author, author, author, author]                                                                                                                                                                                             1\n",
       "[basis, basis]                                                                                                                                                                                                               1\n",
       "[pubyear, pubyear, pubyear, pubyear, pubyear, pubyear, pubyear, pubyear, pubyear, pubyear, pubyear, pubyear, pubyear, pubyear, pubyear, pubyear, pubyear, pubyear, pubyear, pubyear, pubyear, pubyear, pubyear, pubyear]     1\n",
       "[pubyear, topic, pubyear, topic]                                                                                                                                                                                             1\n",
       "[pubyear, pubyear, pubyear, pubyear, pubyear, pubyear]                                                                                                                                                                       1\n",
       "dtype: int64"
      ]
     },
     "execution_count": 266,
     "metadata": {},
     "output_type": "execute_result"
    }
   ],
   "source": [
    "topKeyFacets = keyFacets.value_counts()\n",
    "topKeyFacets"
   ]
  },
  {
   "cell_type": "code",
   "execution_count": 267,
   "metadata": {},
   "outputs": [],
   "source": [
    "df = pd.DataFrame({'facet':topKeyFacets.index, 'count':topKeyFacets.values})"
   ]
  },
  {
   "cell_type": "code",
   "execution_count": 268,
   "metadata": {},
   "outputs": [
    {
     "data": {
      "text/html": [
       "<div>\n",
       "<style scoped>\n",
       "    .dataframe tbody tr th:only-of-type {\n",
       "        vertical-align: middle;\n",
       "    }\n",
       "\n",
       "    .dataframe tbody tr th {\n",
       "        vertical-align: top;\n",
       "    }\n",
       "\n",
       "    .dataframe thead th {\n",
       "        text-align: right;\n",
       "    }\n",
       "</style>\n",
       "<table border=\"1\" class=\"dataframe\">\n",
       "  <thead>\n",
       "    <tr style=\"text-align: right;\">\n",
       "      <th></th>\n",
       "      <th>facet</th>\n",
       "      <th>count</th>\n",
       "    </tr>\n",
       "  </thead>\n",
       "  <tbody>\n",
       "    <tr>\n",
       "      <td>0</td>\n",
       "      <td>[]</td>\n",
       "      <td>41</td>\n",
       "    </tr>\n",
       "    <tr>\n",
       "      <td>1</td>\n",
       "      <td>[author]</td>\n",
       "      <td>27</td>\n",
       "    </tr>\n",
       "    <tr>\n",
       "      <td>2</td>\n",
       "      <td>[location]</td>\n",
       "      <td>24</td>\n",
       "    </tr>\n",
       "    <tr>\n",
       "      <td>3</td>\n",
       "      <td>[project]</td>\n",
       "      <td>21</td>\n",
       "    </tr>\n",
       "    <tr>\n",
       "      <td>4</td>\n",
       "      <td>[topic]</td>\n",
       "      <td>20</td>\n",
       "    </tr>\n",
       "    <tr>\n",
       "      <td>5</td>\n",
       "      <td>[pubyear]</td>\n",
       "      <td>17</td>\n",
       "    </tr>\n",
       "    <tr>\n",
       "      <td>6</td>\n",
       "      <td>[location, location]</td>\n",
       "      <td>9</td>\n",
       "    </tr>\n",
       "    <tr>\n",
       "      <td>7</td>\n",
       "      <td>[basis]</td>\n",
       "      <td>9</td>\n",
       "    </tr>\n",
       "    <tr>\n",
       "      <td>8</td>\n",
       "      <td>[topic, topic]</td>\n",
       "      <td>7</td>\n",
       "    </tr>\n",
       "    <tr>\n",
       "      <td>9</td>\n",
       "      <td>[topic, topic, topic]</td>\n",
       "      <td>5</td>\n",
       "    </tr>\n",
       "    <tr>\n",
       "      <td>10</td>\n",
       "      <td>[device]</td>\n",
       "      <td>5</td>\n",
       "    </tr>\n",
       "    <tr>\n",
       "      <td>11</td>\n",
       "      <td>[author, author]</td>\n",
       "      <td>4</td>\n",
       "    </tr>\n",
       "    <tr>\n",
       "      <td>12</td>\n",
       "      <td>[pubyear, pubyear]</td>\n",
       "      <td>4</td>\n",
       "    </tr>\n",
       "    <tr>\n",
       "      <td>13</td>\n",
       "      <td>[campaign]</td>\n",
       "      <td>4</td>\n",
       "    </tr>\n",
       "    <tr>\n",
       "      <td>14</td>\n",
       "      <td>[device, device]</td>\n",
       "      <td>3</td>\n",
       "    </tr>\n",
       "    <tr>\n",
       "      <td>15</td>\n",
       "      <td>[location, location, location]</td>\n",
       "      <td>2</td>\n",
       "    </tr>\n",
       "    <tr>\n",
       "      <td>16</td>\n",
       "      <td>[topic, topic, topic, topic]</td>\n",
       "      <td>2</td>\n",
       "    </tr>\n",
       "    <tr>\n",
       "      <td>17</td>\n",
       "      <td>[pubyear, pubyear, pubyear, pubyear]</td>\n",
       "      <td>2</td>\n",
       "    </tr>\n",
       "    <tr>\n",
       "      <td>18</td>\n",
       "      <td>[project, project, project, project]</td>\n",
       "      <td>2</td>\n",
       "    </tr>\n",
       "    <tr>\n",
       "      <td>19</td>\n",
       "      <td>[pubyear, pubyear, pubyear]</td>\n",
       "      <td>1</td>\n",
       "    </tr>\n",
       "    <tr>\n",
       "      <td>20</td>\n",
       "      <td>[project, project, project]</td>\n",
       "      <td>1</td>\n",
       "    </tr>\n",
       "    <tr>\n",
       "      <td>21</td>\n",
       "      <td>[topic, location, location, campaign, campaign...</td>\n",
       "      <td>1</td>\n",
       "    </tr>\n",
       "    <tr>\n",
       "      <td>22</td>\n",
       "      <td>[topic, device]</td>\n",
       "      <td>1</td>\n",
       "    </tr>\n",
       "    <tr>\n",
       "      <td>23</td>\n",
       "      <td>[pubyear, author]</td>\n",
       "      <td>1</td>\n",
       "    </tr>\n",
       "    <tr>\n",
       "      <td>24</td>\n",
       "      <td>[location, location, location, location]</td>\n",
       "      <td>1</td>\n",
       "    </tr>\n",
       "    <tr>\n",
       "      <td>25</td>\n",
       "      <td>[location, location, location, location, locat...</td>\n",
       "      <td>1</td>\n",
       "    </tr>\n",
       "    <tr>\n",
       "      <td>26</td>\n",
       "      <td>[pubyear, location, pubyear, location, pubyear...</td>\n",
       "      <td>1</td>\n",
       "    </tr>\n",
       "    <tr>\n",
       "      <td>27</td>\n",
       "      <td>[project, project, project, project, pubyear]</td>\n",
       "      <td>1</td>\n",
       "    </tr>\n",
       "    <tr>\n",
       "      <td>28</td>\n",
       "      <td>[pubyear, pubyear, pubyear, pubyear, pubyear]</td>\n",
       "      <td>1</td>\n",
       "    </tr>\n",
       "    <tr>\n",
       "      <td>29</td>\n",
       "      <td>[topic, author]</td>\n",
       "      <td>1</td>\n",
       "    </tr>\n",
       "    <tr>\n",
       "      <td>30</td>\n",
       "      <td>[campaign, author, author]</td>\n",
       "      <td>1</td>\n",
       "    </tr>\n",
       "    <tr>\n",
       "      <td>31</td>\n",
       "      <td>[project, pubyear, project, campaign, pubyear]</td>\n",
       "      <td>1</td>\n",
       "    </tr>\n",
       "    <tr>\n",
       "      <td>32</td>\n",
       "      <td>[location, campaign, device, device, device, l...</td>\n",
       "      <td>1</td>\n",
       "    </tr>\n",
       "    <tr>\n",
       "      <td>33</td>\n",
       "      <td>[device, device, device]</td>\n",
       "      <td>1</td>\n",
       "    </tr>\n",
       "    <tr>\n",
       "      <td>34</td>\n",
       "      <td>[location, pubyear]</td>\n",
       "      <td>1</td>\n",
       "    </tr>\n",
       "    <tr>\n",
       "      <td>35</td>\n",
       "      <td>[project, project, author, author, author]</td>\n",
       "      <td>1</td>\n",
       "    </tr>\n",
       "    <tr>\n",
       "      <td>36</td>\n",
       "      <td>[topic, topic, author, author, author]</td>\n",
       "      <td>1</td>\n",
       "    </tr>\n",
       "    <tr>\n",
       "      <td>37</td>\n",
       "      <td>[pubyear, topic, pubyear]</td>\n",
       "      <td>1</td>\n",
       "    </tr>\n",
       "    <tr>\n",
       "      <td>38</td>\n",
       "      <td>[location, location, location, location, locat...</td>\n",
       "      <td>1</td>\n",
       "    </tr>\n",
       "    <tr>\n",
       "      <td>39</td>\n",
       "      <td>[project, author]</td>\n",
       "      <td>1</td>\n",
       "    </tr>\n",
       "    <tr>\n",
       "      <td>40</td>\n",
       "      <td>[campaign, campaign, campaign, campaign, campa...</td>\n",
       "      <td>1</td>\n",
       "    </tr>\n",
       "    <tr>\n",
       "      <td>41</td>\n",
       "      <td>[author, author, pubyear, pubyear, pubyear]</td>\n",
       "      <td>1</td>\n",
       "    </tr>\n",
       "    <tr>\n",
       "      <td>42</td>\n",
       "      <td>[campaign, campaign]</td>\n",
       "      <td>1</td>\n",
       "    </tr>\n",
       "    <tr>\n",
       "      <td>43</td>\n",
       "      <td>[location, author]</td>\n",
       "      <td>1</td>\n",
       "    </tr>\n",
       "    <tr>\n",
       "      <td>44</td>\n",
       "      <td>[project, project, project, project, project, ...</td>\n",
       "      <td>1</td>\n",
       "    </tr>\n",
       "    <tr>\n",
       "      <td>45</td>\n",
       "      <td>[author, author, author, author, author, author]</td>\n",
       "      <td>1</td>\n",
       "    </tr>\n",
       "    <tr>\n",
       "      <td>46</td>\n",
       "      <td>[campaign, campaign, campaign, campaign, campa...</td>\n",
       "      <td>1</td>\n",
       "    </tr>\n",
       "    <tr>\n",
       "      <td>47</td>\n",
       "      <td>[pubyear, pubyear, pubyear, campaign]</td>\n",
       "      <td>1</td>\n",
       "    </tr>\n",
       "    <tr>\n",
       "      <td>48</td>\n",
       "      <td>[pubyear, pubyear, project, project, location]</td>\n",
       "      <td>1</td>\n",
       "    </tr>\n",
       "    <tr>\n",
       "      <td>49</td>\n",
       "      <td>[campaign, campaign, campaign, campaign, campa...</td>\n",
       "      <td>1</td>\n",
       "    </tr>\n",
       "    <tr>\n",
       "      <td>50</td>\n",
       "      <td>[topic, topic, topic, topic, topic]</td>\n",
       "      <td>1</td>\n",
       "    </tr>\n",
       "    <tr>\n",
       "      <td>51</td>\n",
       "      <td>[project, device]</td>\n",
       "      <td>1</td>\n",
       "    </tr>\n",
       "    <tr>\n",
       "      <td>52</td>\n",
       "      <td>[project, project]</td>\n",
       "      <td>1</td>\n",
       "    </tr>\n",
       "    <tr>\n",
       "      <td>53</td>\n",
       "      <td>[author, author, author, author]</td>\n",
       "      <td>1</td>\n",
       "    </tr>\n",
       "    <tr>\n",
       "      <td>54</td>\n",
       "      <td>[basis, basis]</td>\n",
       "      <td>1</td>\n",
       "    </tr>\n",
       "    <tr>\n",
       "      <td>55</td>\n",
       "      <td>[pubyear, pubyear, pubyear, pubyear, pubyear, ...</td>\n",
       "      <td>1</td>\n",
       "    </tr>\n",
       "    <tr>\n",
       "      <td>56</td>\n",
       "      <td>[pubyear, topic, pubyear, topic]</td>\n",
       "      <td>1</td>\n",
       "    </tr>\n",
       "    <tr>\n",
       "      <td>57</td>\n",
       "      <td>[pubyear, pubyear, pubyear, pubyear, pubyear, ...</td>\n",
       "      <td>1</td>\n",
       "    </tr>\n",
       "  </tbody>\n",
       "</table>\n",
       "</div>"
      ],
      "text/plain": [
       "                                                facet  count\n",
       "0                                                  []     41\n",
       "1                                            [author]     27\n",
       "2                                          [location]     24\n",
       "3                                           [project]     21\n",
       "4                                             [topic]     20\n",
       "5                                           [pubyear]     17\n",
       "6                                [location, location]      9\n",
       "7                                             [basis]      9\n",
       "8                                      [topic, topic]      7\n",
       "9                               [topic, topic, topic]      5\n",
       "10                                           [device]      5\n",
       "11                                   [author, author]      4\n",
       "12                                 [pubyear, pubyear]      4\n",
       "13                                         [campaign]      4\n",
       "14                                   [device, device]      3\n",
       "15                     [location, location, location]      2\n",
       "16                       [topic, topic, topic, topic]      2\n",
       "17               [pubyear, pubyear, pubyear, pubyear]      2\n",
       "18               [project, project, project, project]      2\n",
       "19                        [pubyear, pubyear, pubyear]      1\n",
       "20                        [project, project, project]      1\n",
       "21  [topic, location, location, campaign, campaign...      1\n",
       "22                                    [topic, device]      1\n",
       "23                                  [pubyear, author]      1\n",
       "24           [location, location, location, location]      1\n",
       "25  [location, location, location, location, locat...      1\n",
       "26  [pubyear, location, pubyear, location, pubyear...      1\n",
       "27      [project, project, project, project, pubyear]      1\n",
       "28      [pubyear, pubyear, pubyear, pubyear, pubyear]      1\n",
       "29                                    [topic, author]      1\n",
       "30                         [campaign, author, author]      1\n",
       "31     [project, pubyear, project, campaign, pubyear]      1\n",
       "32  [location, campaign, device, device, device, l...      1\n",
       "33                           [device, device, device]      1\n",
       "34                                [location, pubyear]      1\n",
       "35         [project, project, author, author, author]      1\n",
       "36             [topic, topic, author, author, author]      1\n",
       "37                          [pubyear, topic, pubyear]      1\n",
       "38  [location, location, location, location, locat...      1\n",
       "39                                  [project, author]      1\n",
       "40  [campaign, campaign, campaign, campaign, campa...      1\n",
       "41        [author, author, pubyear, pubyear, pubyear]      1\n",
       "42                               [campaign, campaign]      1\n",
       "43                                 [location, author]      1\n",
       "44  [project, project, project, project, project, ...      1\n",
       "45   [author, author, author, author, author, author]      1\n",
       "46  [campaign, campaign, campaign, campaign, campa...      1\n",
       "47              [pubyear, pubyear, pubyear, campaign]      1\n",
       "48     [pubyear, pubyear, project, project, location]      1\n",
       "49  [campaign, campaign, campaign, campaign, campa...      1\n",
       "50                [topic, topic, topic, topic, topic]      1\n",
       "51                                  [project, device]      1\n",
       "52                                 [project, project]      1\n",
       "53                   [author, author, author, author]      1\n",
       "54                                     [basis, basis]      1\n",
       "55  [pubyear, pubyear, pubyear, pubyear, pubyear, ...      1\n",
       "56                   [pubyear, topic, pubyear, topic]      1\n",
       "57  [pubyear, pubyear, pubyear, pubyear, pubyear, ...      1"
      ]
     },
     "execution_count": 268,
     "metadata": {},
     "output_type": "execute_result"
    }
   ],
   "source": [
    "df"
   ]
  },
  {
   "cell_type": "code",
   "execution_count": null,
   "metadata": {},
   "outputs": [],
   "source": []
  },
  {
   "cell_type": "code",
   "execution_count": null,
   "metadata": {},
   "outputs": [],
   "source": []
  },
  {
   "cell_type": "code",
   "execution_count": null,
   "metadata": {},
   "outputs": [],
   "source": []
  }
 ],
 "metadata": {
  "kernelspec": {
   "display_name": "Python 3",
   "language": "python",
   "name": "python3"
  },
  "language_info": {
   "codemirror_mode": {
    "name": "ipython",
    "version": 3
   },
   "file_extension": ".py",
   "mimetype": "text/x-python",
   "name": "python",
   "nbconvert_exporter": "python",
   "pygments_lexer": "ipython3",
   "version": "3.7.4"
  }
 },
 "nbformat": 4,
 "nbformat_minor": 2
}
