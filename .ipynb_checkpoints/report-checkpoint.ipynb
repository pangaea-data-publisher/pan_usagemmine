{
 "cells": [
  {
   "cell_type": "code",
   "execution_count": 2,
   "metadata": {},
   "outputs": [],
   "source": [
    "import pandas as pd\n",
    "import json\n",
    "import requests\n",
    "import re\n",
    "import numpy as np\n",
    "from datetime import datetime\n",
    "import pytz\n",
    "from urllib.parse import urlparse,unquote\n",
    "from urllib.parse import parse_qs\n",
    "from bs4 import BeautifulSoup"
   ]
  },
  {
   "cell_type": "code",
   "execution_count": 3,
   "metadata": {},
   "outputs": [],
   "source": [
    "import os\n",
    "current_file = os.getcwd()\n",
    "myfile = os.path.join(current_file, 'doi.pangaea.de-access-ipanonymized.bz2')"
   ]
  },
  {
   "cell_type": "code",
   "execution_count": 5,
   "metadata": {},
   "outputs": [],
   "source": [
    "logData = pd.read_csv(myfile,\n",
    "    sep=r'\\s(?=(?:[^\"]*\"[^\"]*\")*[^\"]*$)(?![^\\[]*\\])',\n",
    "    engine='python',\n",
    "    na_values='-',\n",
    "    header=None,\n",
    "    usecols=[0,1,2, 3, 4, 5, 7,8],encoding=\"utf-8\",\n",
    "    names=['ip','website','session_id', 'time', 'user_info', 'status', 'referer','user_agent'])"
   ]
  },
  {
   "cell_type": "code",
   "execution_count": 6,
   "metadata": {},
   "outputs": [],
   "source": [
    "logData['session_id'] = logData['session_id'].str.split('>').str[1]"
   ]
  },
  {
   "cell_type": "code",
   "execution_count": 7,
   "metadata": {},
   "outputs": [],
   "source": [
    "# logData.head(50)"
   ]
  },
  {
   "cell_type": "code",
   "execution_count": 8,
   "metadata": {},
   "outputs": [],
   "source": [
    "logData['status'] = logData['status'].fillna(0) #convert non-finite values (NA or inf) to integer\n",
    "logData['status'] = logData['status'].astype(int)\n",
    "logData['session_id'] = logData['session_id'].fillna('-') #convert non-finite values (NA or inf) to integer"
   ]
  },
  {
   "cell_type": "code",
   "execution_count": 9,
   "metadata": {},
   "outputs": [],
   "source": [
    "logData['user_info']= logData['user_info'].apply(lambda x: re.sub(r'^\"|\"$', '', str(x)) )\n",
    "logData['user_agent']= logData['user_agent'].apply(lambda x: re.sub(r'^\"|\"$', '',str(x)) )\n",
    "logData['referer']= logData['referer'].apply(lambda x: re.sub(r'^\"|\"$', '',str(x)) )\n",
    "# logData.head(10)"
   ]
  },
  {
   "cell_type": "code",
   "execution_count": 10,
   "metadata": {},
   "outputs": [],
   "source": [
    "logData['request_type'] = logData['user_info'].str.split().str[0]\n",
    "logData['resource'] = logData['user_info'].str.split().str[1]\n",
    "logData['time']= logData['time'].str.split().str[0]\n",
    "logData['time']= logData['time'].str.split('[').str[1]\n",
    "# logData.head(10)"
   ]
  },
  {
   "cell_type": "code",
   "execution_count": 11,
   "metadata": {},
   "outputs": [
    {
     "data": {
      "text/plain": [
       "(3527530, 10)"
      ]
     },
     "execution_count": 11,
     "metadata": {},
     "output_type": "execute_result"
    }
   ],
   "source": [
    "logData.shape"
   ]
  },
  {
   "cell_type": "code",
   "execution_count": 12,
   "metadata": {},
   "outputs": [
    {
     "data": {
      "text/plain": [
       "(3509595, 10)"
      ]
     },
     "execution_count": 12,
     "metadata": {},
     "output_type": "execute_result"
    }
   ],
   "source": [
    "logData = logData[~logData.session_id.str.contains(';C')]\n",
    "logData.shape"
   ]
  },
  {
   "cell_type": "code",
   "execution_count": 13,
   "metadata": {},
   "outputs": [
    {
     "data": {
      "text/plain": [
       "(702717, 10)"
      ]
     },
     "execution_count": 13,
     "metadata": {},
     "output_type": "execute_result"
    }
   ],
   "source": [
    "logData = logData[((logData.user_info.str.contains('format=zip')) | (logData.user_info.str.contains('format=html'))| (logData.user_info.str.contains('format=textfile'))) ]\n",
    "logData.shape"
   ]
  },
  {
   "cell_type": "code",
   "execution_count": 14,
   "metadata": {},
   "outputs": [],
   "source": [
    "def time_format(x):\n",
    "    return datetime.strptime(x,'%d/%b/%Y:%H:%M:%S')"
   ]
  },
  {
   "cell_type": "code",
   "execution_count": 15,
   "metadata": {},
   "outputs": [],
   "source": [
    "logData['time'] = logData['time'].apply(time_format)"
   ]
  },
  {
   "cell_type": "code",
   "execution_count": 16,
   "metadata": {},
   "outputs": [],
   "source": [
    "logData = logData[(logData.request_type == 'GET') & ((logData.status == 200 ) | (logData.status == 304 ))]"
   ]
  },
  {
   "cell_type": "code",
   "execution_count": 17,
   "metadata": {},
   "outputs": [
    {
     "data": {
      "text/plain": [
       "(83762, 10)"
      ]
     },
     "execution_count": 17,
     "metadata": {},
     "output_type": "execute_result"
    }
   ],
   "source": [
    "logData = logData[~logData['resource'].str.match(\n",
    "    r'^/media|^/static|^/admin|^/robots.txt$|^/favicon.ico$')]\n",
    "logData = logData[~logData['user_agent'].str.match(\n",
    "    r'.*?bot|.*?spider|.*?crawler|.*?slurp', flags=re.I).fillna(False)]\n",
    "logData.shape"
   ]
  },
  {
   "cell_type": "code",
   "execution_count": 18,
   "metadata": {},
   "outputs": [],
   "source": [
    "# logData"
   ]
  },
  {
   "cell_type": "code",
   "execution_count": 19,
   "metadata": {},
   "outputs": [],
   "source": [
    "Data =logData.copy()"
   ]
  },
  {
   "cell_type": "code",
   "execution_count": 20,
   "metadata": {},
   "outputs": [
    {
     "data": {
      "text/plain": [
       "(24583, 10)"
      ]
     },
     "execution_count": 20,
     "metadata": {},
     "output_type": "execute_result"
    }
   ],
   "source": [
    "# Data = Data.sort_values(['session_id'])\n",
    "DataWO = Data[Data.session_id.str.contains('-')]\n",
    "DataWith = Data[~Data.session_id.str.contains('-')]\n",
    "DataWith.shape"
   ]
  },
  {
   "cell_type": "code",
   "execution_count": 21,
   "metadata": {},
   "outputs": [
    {
     "data": {
      "text/plain": [
       "(23272, 10)"
      ]
     },
     "execution_count": 21,
     "metadata": {},
     "output_type": "execute_result"
    }
   ],
   "source": [
    "DataWith = DataWith.groupby('session_id').filter(lambda x: len(x) > 1)\n",
    "DataWith.shape"
   ]
  },
  {
   "cell_type": "code",
   "execution_count": 22,
   "metadata": {},
   "outputs": [],
   "source": [
    "DataWith['remove'] = np.random.randint(1, 6, DataWith.shape[0])"
   ]
  },
  {
   "cell_type": "code",
   "execution_count": 23,
   "metadata": {},
   "outputs": [
    {
     "data": {
      "text/plain": [
       "(22808, 15)"
      ]
     },
     "execution_count": 23,
     "metadata": {},
     "output_type": "execute_result"
    }
   ],
   "source": [
    "i = DataWith['remove'].value_counts().index.size \n",
    "while i != 1 :\n",
    "    DataWith = DataWith.sort_values(['time','session_id'])\n",
    "    DataWith['delta_session'] = DataWith.session_id.ne(DataWith.session_id.shift(1))\n",
    "    DataWith['delta_resource']=DataWith.resource.ne(DataWith.resource.shift(1))\n",
    "    DataWith['delta_time']=DataWith['time'].diff().dt.total_seconds()\n",
    "    DataWith['delta_user_agent']=DataWith.user_agent.ne(DataWith.user_agent.shift(1))\n",
    "    DataWith['remove'] = (DataWith.delta_time > 30) & (DataWith.delta_session == False)  & (DataWith.delta_resource == False)\n",
    "    i = DataWith['remove'].value_counts().index.size \n",
    "    DataWith = DataWith[~DataWith['remove']==True]\n",
    "DataWith.shape"
   ]
  },
  {
   "cell_type": "code",
   "execution_count": 24,
   "metadata": {},
   "outputs": [],
   "source": [
    "# DataWith.dtypes\n",
    "DataWith = DataWith.drop(['delta_user_agent','delta_time','delta_resource','delta_session','remove'], axis=1)\n",
    "# DataWith"
   ]
  },
  {
   "cell_type": "code",
   "execution_count": 25,
   "metadata": {
    "scrolled": true
   },
   "outputs": [
    {
     "name": "stderr",
     "output_type": "stream",
     "text": [
      "/opt/anaconda3/lib/python3.7/site-packages/ipykernel_launcher.py:1: SettingWithCopyWarning: \n",
      "A value is trying to be set on a copy of a slice from a DataFrame.\n",
      "Try using .loc[row_indexer,col_indexer] = value instead\n",
      "\n",
      "See the caveats in the documentation: http://pandas.pydata.org/pandas-docs/stable/user_guide/indexing.html#returning-a-view-versus-a-copy\n",
      "  \"\"\"Entry point for launching an IPython kernel.\n"
     ]
    }
   ],
   "source": [
    "DataWO['remove'] = np.random.randint(1, 6, DataWO.shape[0])\n",
    "# Data['remove'][33] = 'no'"
   ]
  },
  {
   "cell_type": "code",
   "execution_count": 26,
   "metadata": {},
   "outputs": [
    {
     "data": {
      "text/plain": [
       "Int64Index([2, 5, 1, 3, 4], dtype='int64')"
      ]
     },
     "execution_count": 26,
     "metadata": {},
     "output_type": "execute_result"
    }
   ],
   "source": [
    "DataWO['remove'].value_counts().index"
   ]
  },
  {
   "cell_type": "code",
   "execution_count": 27,
   "metadata": {},
   "outputs": [
    {
     "data": {
      "text/plain": [
       "(58400, 15)"
      ]
     },
     "execution_count": 27,
     "metadata": {},
     "output_type": "execute_result"
    }
   ],
   "source": [
    "i = DataWO['remove'].value_counts().index.size \n",
    "while i != 1 :\n",
    "    DataWO = DataWO.sort_values(['time','ip'])\n",
    "    DataWO['delta_ip'] = DataWO.ip.ne(DataWO.ip.shift(1))\n",
    "    DataWO['delta_resource']=DataWO.resource.ne(DataWO.resource.shift(1))\n",
    "    DataWO['delta_time']=DataWO['time'].diff().dt.total_seconds()\n",
    "    DataWO['delta_user_agent']=DataWO.user_agent.ne(DataWO.user_agent.shift(1))\n",
    "    DataWO['remove'] = (DataWO.delta_time > 30) & (DataWO.delta_ip == False)  & (DataWO.delta_resource == False)\n",
    "    i = DataWO['remove'].value_counts().index.size \n",
    "    DataWO = DataWO[~DataWO['remove']==True]\n",
    "DataWO.shape\n"
   ]
  },
  {
   "cell_type": "code",
   "execution_count": 28,
   "metadata": {},
   "outputs": [],
   "source": [
    "DataWO = DataWO.drop(['delta_user_agent','delta_time','delta_resource','delta_ip','remove'], axis=1)\n",
    "# DataWO"
   ]
  },
  {
   "cell_type": "code",
   "execution_count": 29,
   "metadata": {},
   "outputs": [],
   "source": [
    "DataA = DataWith.append(DataWO)"
   ]
  },
  {
   "cell_type": "code",
   "execution_count": 30,
   "metadata": {},
   "outputs": [
    {
     "data": {
      "text/plain": [
       "ip                      object\n",
       "website                 object\n",
       "session_id              object\n",
       "time            datetime64[ns]\n",
       "user_info               object\n",
       "status                   int64\n",
       "referer                 object\n",
       "user_agent              object\n",
       "request_type            object\n",
       "resource                object\n",
       "dtype: object"
      ]
     },
     "execution_count": 30,
     "metadata": {},
     "output_type": "execute_result"
    }
   ],
   "source": [
    "DataA = DataA.sort_values(['time','ip'])\n",
    "DataA.dtypes"
   ]
  },
  {
   "cell_type": "code",
   "execution_count": 31,
   "metadata": {},
   "outputs": [],
   "source": [
    "# delete unwanted cloumns in each and make sure the have the same columns and then add them together using append"
   ]
  },
  {
   "cell_type": "code",
   "execution_count": 32,
   "metadata": {},
   "outputs": [],
   "source": [
    "# x = '/10.1594/PANGAEA.908578?format=html'\n",
    "# a =  re.search('\\d+',x).group()\n",
    "# a"
   ]
  },
  {
   "cell_type": "code",
   "execution_count": 39,
   "metadata": {},
   "outputs": [],
   "source": [
    "# d = 'http://ws.pangaea.de/es/pangaea/panmd/'\n",
    "# dd = '908578' \n",
    "# # ddd = d+dd\n",
    "# ds = fetch_title(dd)\n",
    "# ds"
   ]
  },
  {
   "cell_type": "code",
   "execution_count": 134,
   "metadata": {},
   "outputs": [
    {
     "data": {
      "text/plain": [
       "{'@context': 'http://schema.org/',\n",
       " '@id': 'https://doi.org/10.1594/PANGAEA.794398',\n",
       " '@type': 'Dataset',\n",
       " 'identifier': 'https://doi.org/10.1594/PANGAEA.794398',\n",
       " 'url': 'https://doi.pangaea.de/10.1594/PANGAEA.794398',\n",
       " 'creator': [{'@type': 'Person',\n",
       "   'familyName': \"d'Hondt\",\n",
       "   'givenName': 'Steven L'},\n",
       "  {'@type': 'Person',\n",
       "   'familyName': 'Jørgensen',\n",
       "   'givenName': 'Bo Barker',\n",
       "   'email': 'bo.barker@biology.au.dk'},\n",
       "  {'@type': 'Person',\n",
       "   'familyName': 'Miller',\n",
       "   'givenName': 'D Jay',\n",
       "   'email': 'john_miller@odp.tamu.edu'},\n",
       "  {'@type': 'Organization', 'name': 'Shipboard Scientific Party'}],\n",
       " 'name': 'P-wave velocity (PWS split-core system) on ODP Hole 201-1228A',\n",
       " 'publisher': {'@type': 'Organization',\n",
       "  'name': 'PANGAEA',\n",
       "  'disambiguatingDescription': 'Data Publisher for Earth & Environmental Science',\n",
       "  'url': 'https://www.pangaea.de/'},\n",
       " 'includedInDataCatalog': {'@type': 'DataCatalog',\n",
       "  'name': 'PANGAEA',\n",
       "  'disambiguatingDescription': 'Data Publisher for Earth & Environmental Science',\n",
       "  'url': 'https://www.pangaea.de/'},\n",
       " 'datePublished': '2005-11-01',\n",
       " 'citation': [{'@id': 'https://doi.org/10.2973/odp.proc.ir.201.2003',\n",
       "   '@type': 'PublicationIssue',\n",
       "   'identifier': 'https://doi.org/10.2973/odp.proc.ir.201.2003',\n",
       "   'url': 'https://doi.org/10.2973/odp.proc.ir.201.2003',\n",
       "   'creator': [{'@type': 'Person',\n",
       "     'familyName': \"d'Hondt\",\n",
       "     'givenName': 'Steven L'},\n",
       "    {'@type': 'Person',\n",
       "     'familyName': 'Jørgensen',\n",
       "     'givenName': 'Bo Barker',\n",
       "     'email': 'bo.barker@biology.au.dk'},\n",
       "    {'@type': 'Person', 'familyName': 'Miller', 'givenName': 'David J'},\n",
       "    {'@type': 'Organization', 'name': 'et al.'}],\n",
       "   'name': 'Proceedings of the Ocean Drilling Program, 201 Initial Reports',\n",
       "   'datePublished': '2003',\n",
       "   'issueNumber': '201',\n",
       "   'pagination': 'online',\n",
       "   'isPartOf': {'@type': 'CreativeWorkSeries',\n",
       "    'name': 'Proceedings of the Ocean Drilling Program, Ocean Drilling Program'}},\n",
       "  {'@id': 'http://www-odp.tamu.edu/database/',\n",
       "   '@type': 'CreativeWork',\n",
       "   'identifier': 'http://www-odp.tamu.edu/database/',\n",
       "   'url': 'http://www-odp.tamu.edu/database/',\n",
       "   'creator': {'@type': 'Organization', 'name': 'ODP/TAMU'},\n",
       "   'name': 'JANUS Database',\n",
       "   'datePublished': '2005',\n",
       "   'isPartOf': {'@type': 'CreativeWorkSeries',\n",
       "    'name': 'Ocean Drilling Program, Texas A&M University, College Station TX 77845-9547, USA; (data copied from Janus 2005-02 to 2005-06)'}},\n",
       "  {'@id': 'hdl:10013/epic.40058.d006',\n",
       "   '@type': 'CreativeWork',\n",
       "   'identifier': 'hdl:10013/epic.40058.d006',\n",
       "   'url': 'https://doi.pangaea.de/10013/epic.40058.d006',\n",
       "   'creator': {'@type': 'Person', 'familyName': 'Blum', 'givenName': 'Peter'},\n",
       "   'name': 'P-Wave velocity',\n",
       "   'datePublished': '1997',\n",
       "   'isPartOf': {'@type': 'CreativeWorkSeries',\n",
       "    'name': 'Physical properties handbook: a guide to the shipboard measurement of physical properties of deep-sea cores'}}],\n",
       " 'variableMeasured': [{'@type': 'PropertyValue',\n",
       "   'name': 'DEPTH, sediment/rock',\n",
       "   'unitText': 'm',\n",
       "   'description': 'mbsf'},\n",
       "  {'@type': 'PropertyValue',\n",
       "   'name': 'Sample code/label',\n",
       "   'measurementTechnique': 'ODP sample designation'},\n",
       "  {'@type': 'PropertyValue',\n",
       "   'name': 'Velocity, compressional wave along X-axis',\n",
       "   'unitText': 'm/s',\n",
       "   'measurementTechnique': 'Digital Sonic Velocimeter (DSV), insertion probe system'},\n",
       "  {'@type': 'PropertyValue',\n",
       "   'name': 'Velocity, compressional wave along Y-axis',\n",
       "   'unitText': 'm/s',\n",
       "   'measurementTechnique': 'Digital Sonic Velocimeter (DSV), insertion probe system'},\n",
       "  {'@type': 'PropertyValue',\n",
       "   'name': 'Velocity, compressional wave along Z-axis',\n",
       "   'unitText': 'm/s',\n",
       "   'measurementTechnique': 'Digital Sonic Velocimeter (DSV), insertion probe system'}],\n",
       " 'spatialCoverage': {'@type': 'Place',\n",
       "  'geo': {'@type': 'GeoCoordinates',\n",
       "   'latitude': -11.06453,\n",
       "   'longitude': -78.07783}},\n",
       " 'temporalCoverage': '2002-03-03T18:15:00/2002-03-06T00:20:00',\n",
       " 'inLanguage': 'en',\n",
       " 'license': 'https://creativecommons.org/licenses/by/3.0/',\n",
       " 'distribution': [{'@type': 'DataDownload',\n",
       "   'fileFormat': 'text/html',\n",
       "   'contentUrl': 'https://doi.pangaea.de/10.1594/PANGAEA.794398?format=html'},\n",
       "  {'@type': 'DataDownload',\n",
       "   'fileFormat': 'text/tab-separated-values',\n",
       "   'contentUrl': 'https://doi.pangaea.de/10.1594/PANGAEA.794398?format=textfile'}]}"
      ]
     },
     "execution_count": 134,
     "metadata": {},
     "output_type": "execute_result"
    }
   ],
   "source": [
    "x = '794398'\n",
    "# url = 'https://doi.pangaea.de/10.1594/PANGAEA.'+x+'?format=metadata_jsonld'\n",
    "# response = requests.get(url) \n",
    "# response\n",
    "# # ss = response.status_code == 200\n",
    "# # ss\n",
    "# data = response.json()\n",
    "data = fetch_title(x)\n",
    "data\n",
    "# title = data['creator']['familyName'] + ' '+ data['creator']['givenName']\n",
    "# title\n",
    "# soup = BeautifulSoup(response.text)\n",
    "# soup"
   ]
  },
  {
   "cell_type": "code",
   "execution_count": 91,
   "metadata": {},
   "outputs": [],
   "source": [
    "# x = '908578'\n",
    "# url = 'http://ws.pangaea.de/es/pangaea/panmd/'+x\n",
    "# response = requests.get(url) \n",
    "# soup = BeautifulSoup(response.text)\n",
    "# soup\n",
    "# title = fetch_all(x)\n",
    "# title\n",
    "# m = str(title[0]).split('md:datetime')\n",
    "# m[1]"
   ]
  },
  {
   "cell_type": "code",
   "execution_count": 48,
   "metadata": {},
   "outputs": [],
   "source": [
    "def fetch_all(x): \n",
    "    url = 'http://ws.pangaea.de/es/pangaea/panmd/'+x\n",
    "    response = requests.get(url) \n",
    "    soup = BeautifulSoup(response.text)\n",
    "    author = soup.find_all()\n",
    "    if len(author) > 0:\n",
    "        return author\n",
    "    else:\n",
    "        return 'no title'"
   ]
  },
  {
   "cell_type": "code",
   "execution_count": 42,
   "metadata": {},
   "outputs": [],
   "source": [
    "def fetch_author(x): \n",
    "    url = 'http://ws.pangaea.de/es/pangaea/panmd/'+x\n",
    "    response = requests.get(url) \n",
    "    soup = BeautifulSoup(response.text)\n",
    "    author = soup.find_all('md:author')\n",
    "    if len(author) > 0:\n",
    "        return author[0]\n",
    "    else:\n",
    "        return 'no title'"
   ]
  },
  {
   "cell_type": "code",
   "execution_count": 61,
   "metadata": {},
   "outputs": [],
   "source": [
    "def fetch_dateTime(x): \n",
    "    url = 'http://ws.pangaea.de/es/pangaea/panmd/'+x\n",
    "    response = requests.get(url) \n",
    "    soup = BeautifulSoup(response.text)\n",
    "    dateTime = soup.find_all('md:datetime')\n",
    "    if len(dateTime) > 0:\n",
    "        return dateTime[0]\n",
    "    else:\n",
    "        return 'no title'"
   ]
  },
  {
   "cell_type": "code",
   "execution_count": 44,
   "metadata": {},
   "outputs": [],
   "source": [
    "def fetch_year(x): \n",
    "    url = 'http://ws.pangaea.de/es/pangaea/panmd/'+x\n",
    "    response = requests.get(url) \n",
    "    soup = BeautifulSoup(response.text)\n",
    "    year = soup.find_all('md:year')\n",
    "    if len(year) > 0:\n",
    "        return year[0]\n",
    "    else:\n",
    "        return 'no title'"
   ]
  },
  {
   "cell_type": "code",
   "execution_count": 129,
   "metadata": {},
   "outputs": [],
   "source": [
    "def fetch_title(x): \n",
    "    url = 'https://doi.pangaea.de/10.1594/PANGAEA.'+x+'?format=metadata_jsonld'\n",
    "    response = requests.get(url)\n",
    "    if response.status_code == 200: \n",
    "        data = response.json()\n",
    "#         title = data['creator']['givenName'] + ' '+ data['creator']['familyName']\n",
    "        return data\n",
    "    else:\n",
    "        return 'no title'\n",
    "#     data = response.json()\n",
    "#     title = data['creator']['givenName'] + ' '+ data['creator']['familyName']\n",
    "#     if len(title) > 0:\n",
    "#         return title[0]\n",
    "#     else:\n",
    "#         return 'no title'"
   ]
  },
  {
   "cell_type": "code",
   "execution_count": 131,
   "metadata": {},
   "outputs": [
    {
     "data": {
      "text/html": [
       "<div>\n",
       "<style scoped>\n",
       "    .dataframe tbody tr th:only-of-type {\n",
       "        vertical-align: middle;\n",
       "    }\n",
       "\n",
       "    .dataframe tbody tr th {\n",
       "        vertical-align: top;\n",
       "    }\n",
       "\n",
       "    .dataframe thead th {\n",
       "        text-align: right;\n",
       "    }\n",
       "</style>\n",
       "<table border=\"1\" class=\"dataframe\">\n",
       "  <thead>\n",
       "    <tr style=\"text-align: right;\">\n",
       "      <th></th>\n",
       "      <th>resource</th>\n",
       "      <th>count</th>\n",
       "      <th>paper_id</th>\n",
       "    </tr>\n",
       "  </thead>\n",
       "  <tbody>\n",
       "    <tr>\n",
       "      <td>0</td>\n",
       "      <td>/10.1594/PANGAEA.908578?format=html</td>\n",
       "      <td>80</td>\n",
       "      <td>908578</td>\n",
       "    </tr>\n",
       "    <tr>\n",
       "      <td>1</td>\n",
       "      <td>/10.1594/PANGAEA.734969?format=textfile</td>\n",
       "      <td>78</td>\n",
       "      <td>734969</td>\n",
       "    </tr>\n",
       "    <tr>\n",
       "      <td>2</td>\n",
       "      <td>/10.1594/PANGAEA.774574?format=textfile&amp;charse...</td>\n",
       "      <td>48</td>\n",
       "      <td>774574</td>\n",
       "    </tr>\n",
       "    <tr>\n",
       "      <td>3</td>\n",
       "      <td>/10.1594/PANGAEA.816201?format=html</td>\n",
       "      <td>39</td>\n",
       "      <td>816201</td>\n",
       "    </tr>\n",
       "    <tr>\n",
       "      <td>4</td>\n",
       "      <td>/10.1594/PANGAEA.805734?format=html</td>\n",
       "      <td>39</td>\n",
       "      <td>805734</td>\n",
       "    </tr>\n",
       "    <tr>\n",
       "      <td>...</td>\n",
       "      <td>...</td>\n",
       "      <td>...</td>\n",
       "      <td>...</td>\n",
       "    </tr>\n",
       "    <tr>\n",
       "      <td>58659</td>\n",
       "      <td>/10.1594/PANGAEA.890870?format=html</td>\n",
       "      <td>1</td>\n",
       "      <td>890870</td>\n",
       "    </tr>\n",
       "    <tr>\n",
       "      <td>58660</td>\n",
       "      <td>/10.1594/PANGAEA.138008?format=textfile</td>\n",
       "      <td>1</td>\n",
       "      <td>138008</td>\n",
       "    </tr>\n",
       "    <tr>\n",
       "      <td>58661</td>\n",
       "      <td>/10.1594/PANGAEA.909876?format=textfile&amp;charse...</td>\n",
       "      <td>1</td>\n",
       "      <td>909876</td>\n",
       "    </tr>\n",
       "    <tr>\n",
       "      <td>58662</td>\n",
       "      <td>/10.1594/PANGAEA.108510?format=textfile</td>\n",
       "      <td>1</td>\n",
       "      <td>108510</td>\n",
       "    </tr>\n",
       "    <tr>\n",
       "      <td>58663</td>\n",
       "      <td>/10.1594/PANGAEA.759152?format=textfile</td>\n",
       "      <td>1</td>\n",
       "      <td>759152</td>\n",
       "    </tr>\n",
       "  </tbody>\n",
       "</table>\n",
       "<p>58661 rows × 3 columns</p>\n",
       "</div>"
      ],
      "text/plain": [
       "                                                resource  count paper_id\n",
       "0                    /10.1594/PANGAEA.908578?format=html     80   908578\n",
       "1                /10.1594/PANGAEA.734969?format=textfile     78   734969\n",
       "2      /10.1594/PANGAEA.774574?format=textfile&charse...     48   774574\n",
       "3                    /10.1594/PANGAEA.816201?format=html     39   816201\n",
       "4                    /10.1594/PANGAEA.805734?format=html     39   805734\n",
       "...                                                  ...    ...      ...\n",
       "58659                /10.1594/PANGAEA.890870?format=html      1   890870\n",
       "58660            /10.1594/PANGAEA.138008?format=textfile      1   138008\n",
       "58661  /10.1594/PANGAEA.909876?format=textfile&charse...      1   909876\n",
       "58662            /10.1594/PANGAEA.108510?format=textfile      1   108510\n",
       "58663            /10.1594/PANGAEA.759152?format=textfile      1   759152\n",
       "\n",
       "[58661 rows x 3 columns]"
      ]
     },
     "execution_count": 131,
     "metadata": {},
     "output_type": "execute_result"
    }
   ],
   "source": [
    "top = DataA['resource'].value_counts()\n",
    "df = pd.DataFrame({'resource':top.index, 'count':top.values})\n",
    "df = df[df.resource.str.contains('PANGAEA.')]\n",
    "df['paper_id'] = 't'\n",
    "df['paper_id'] = df['resource'].apply(lambda x: re.search('\\.\\d+\\?',x).group())\n",
    "df['paper_id']= df['paper_id'].apply(lambda x: re.sub(r'^.|\\W', '', str(x)) )\n",
    "df\n",
    "# df['test']\n",
    "# df.to_csv('fv')\n",
    "# \\.\\d+\\?"
   ]
  },
  {
   "cell_type": "code",
   "execution_count": 136,
   "metadata": {},
   "outputs": [],
   "source": [
    "# df['title'] = 't'\n",
    "df['all'] = df['paper_id'].apply(fetch_title)\n",
    "# df['title'][0] = fetch_title(df['paper_id'][0])"
   ]
  },
  {
   "cell_type": "code",
   "execution_count": 137,
   "metadata": {},
   "outputs": [
    {
     "data": {
      "text/html": [
       "<div>\n",
       "<style scoped>\n",
       "    .dataframe tbody tr th:only-of-type {\n",
       "        vertical-align: middle;\n",
       "    }\n",
       "\n",
       "    .dataframe tbody tr th {\n",
       "        vertical-align: top;\n",
       "    }\n",
       "\n",
       "    .dataframe thead th {\n",
       "        text-align: right;\n",
       "    }\n",
       "</style>\n",
       "<table border=\"1\" class=\"dataframe\">\n",
       "  <thead>\n",
       "    <tr style=\"text-align: right;\">\n",
       "      <th></th>\n",
       "      <th>resource</th>\n",
       "      <th>count</th>\n",
       "      <th>paper_id</th>\n",
       "      <th>all</th>\n",
       "    </tr>\n",
       "  </thead>\n",
       "  <tbody>\n",
       "    <tr>\n",
       "      <td>0</td>\n",
       "      <td>/10.1594/PANGAEA.908578?format=html</td>\n",
       "      <td>80</td>\n",
       "      <td>908578</td>\n",
       "      <td>{'@context': 'http://schema.org/', '@id': 'htt...</td>\n",
       "    </tr>\n",
       "    <tr>\n",
       "      <td>1</td>\n",
       "      <td>/10.1594/PANGAEA.734969?format=textfile</td>\n",
       "      <td>78</td>\n",
       "      <td>734969</td>\n",
       "      <td>{'@context': 'http://schema.org/', '@id': 'htt...</td>\n",
       "    </tr>\n",
       "    <tr>\n",
       "      <td>2</td>\n",
       "      <td>/10.1594/PANGAEA.774574?format=textfile&amp;charse...</td>\n",
       "      <td>48</td>\n",
       "      <td>774574</td>\n",
       "      <td>{'@context': 'http://schema.org/', '@id': 'htt...</td>\n",
       "    </tr>\n",
       "    <tr>\n",
       "      <td>3</td>\n",
       "      <td>/10.1594/PANGAEA.816201?format=html</td>\n",
       "      <td>39</td>\n",
       "      <td>816201</td>\n",
       "      <td>{'@context': 'http://schema.org/', '@id': 'htt...</td>\n",
       "    </tr>\n",
       "    <tr>\n",
       "      <td>4</td>\n",
       "      <td>/10.1594/PANGAEA.805734?format=html</td>\n",
       "      <td>39</td>\n",
       "      <td>805734</td>\n",
       "      <td>{'@context': 'http://schema.org/', '@id': 'htt...</td>\n",
       "    </tr>\n",
       "    <tr>\n",
       "      <td>...</td>\n",
       "      <td>...</td>\n",
       "      <td>...</td>\n",
       "      <td>...</td>\n",
       "      <td>...</td>\n",
       "    </tr>\n",
       "    <tr>\n",
       "      <td>58659</td>\n",
       "      <td>/10.1594/PANGAEA.890870?format=html</td>\n",
       "      <td>1</td>\n",
       "      <td>890870</td>\n",
       "      <td>no title</td>\n",
       "    </tr>\n",
       "    <tr>\n",
       "      <td>58660</td>\n",
       "      <td>/10.1594/PANGAEA.138008?format=textfile</td>\n",
       "      <td>1</td>\n",
       "      <td>138008</td>\n",
       "      <td>no title</td>\n",
       "    </tr>\n",
       "    <tr>\n",
       "      <td>58661</td>\n",
       "      <td>/10.1594/PANGAEA.909876?format=textfile&amp;charse...</td>\n",
       "      <td>1</td>\n",
       "      <td>909876</td>\n",
       "      <td>no title</td>\n",
       "    </tr>\n",
       "    <tr>\n",
       "      <td>58662</td>\n",
       "      <td>/10.1594/PANGAEA.108510?format=textfile</td>\n",
       "      <td>1</td>\n",
       "      <td>108510</td>\n",
       "      <td>no title</td>\n",
       "    </tr>\n",
       "    <tr>\n",
       "      <td>58663</td>\n",
       "      <td>/10.1594/PANGAEA.759152?format=textfile</td>\n",
       "      <td>1</td>\n",
       "      <td>759152</td>\n",
       "      <td>no title</td>\n",
       "    </tr>\n",
       "  </tbody>\n",
       "</table>\n",
       "<p>58661 rows × 4 columns</p>\n",
       "</div>"
      ],
      "text/plain": [
       "                                                resource  count paper_id  \\\n",
       "0                    /10.1594/PANGAEA.908578?format=html     80   908578   \n",
       "1                /10.1594/PANGAEA.734969?format=textfile     78   734969   \n",
       "2      /10.1594/PANGAEA.774574?format=textfile&charse...     48   774574   \n",
       "3                    /10.1594/PANGAEA.816201?format=html     39   816201   \n",
       "4                    /10.1594/PANGAEA.805734?format=html     39   805734   \n",
       "...                                                  ...    ...      ...   \n",
       "58659                /10.1594/PANGAEA.890870?format=html      1   890870   \n",
       "58660            /10.1594/PANGAEA.138008?format=textfile      1   138008   \n",
       "58661  /10.1594/PANGAEA.909876?format=textfile&charse...      1   909876   \n",
       "58662            /10.1594/PANGAEA.108510?format=textfile      1   108510   \n",
       "58663            /10.1594/PANGAEA.759152?format=textfile      1   759152   \n",
       "\n",
       "                                                     all  \n",
       "0      {'@context': 'http://schema.org/', '@id': 'htt...  \n",
       "1      {'@context': 'http://schema.org/', '@id': 'htt...  \n",
       "2      {'@context': 'http://schema.org/', '@id': 'htt...  \n",
       "3      {'@context': 'http://schema.org/', '@id': 'htt...  \n",
       "4      {'@context': 'http://schema.org/', '@id': 'htt...  \n",
       "...                                                  ...  \n",
       "58659                                           no title  \n",
       "58660                                           no title  \n",
       "58661                                           no title  \n",
       "58662                                           no title  \n",
       "58663                                           no title  \n",
       "\n",
       "[58661 rows x 4 columns]"
      ]
     },
     "execution_count": 137,
     "metadata": {},
     "output_type": "execute_result"
    }
   ],
   "source": [
    "df"
   ]
  },
  {
   "cell_type": "code",
   "execution_count": null,
   "metadata": {},
   "outputs": [],
   "source": []
  },
  {
   "cell_type": "code",
   "execution_count": 119,
   "metadata": {},
   "outputs": [],
   "source": [
    "df.to_csv('result_all_json')"
   ]
  },
  {
   "cell_type": "code",
   "execution_count": 127,
   "metadata": {},
   "outputs": [
    {
     "data": {
      "text/html": [
       "<div>\n",
       "<style scoped>\n",
       "    .dataframe tbody tr th:only-of-type {\n",
       "        vertical-align: middle;\n",
       "    }\n",
       "\n",
       "    .dataframe tbody tr th {\n",
       "        vertical-align: top;\n",
       "    }\n",
       "\n",
       "    .dataframe thead th {\n",
       "        text-align: right;\n",
       "    }\n",
       "</style>\n",
       "<table border=\"1\" class=\"dataframe\">\n",
       "  <thead>\n",
       "    <tr style=\"text-align: right;\">\n",
       "      <th></th>\n",
       "      <th>resource</th>\n",
       "      <th>count</th>\n",
       "      <th>paper_id</th>\n",
       "      <th>title</th>\n",
       "    </tr>\n",
       "  </thead>\n",
       "  <tbody>\n",
       "    <tr>\n",
       "      <td>0</td>\n",
       "      <td>/10.1594/PANGAEA.908578?format=html</td>\n",
       "      <td>80</td>\n",
       "      <td>908578</td>\n",
       "      <td>{'@context': 'http://schema.org/', '@id': 'htt...</td>\n",
       "    </tr>\n",
       "    <tr>\n",
       "      <td>1</td>\n",
       "      <td>/10.1594/PANGAEA.734969?format=textfile</td>\n",
       "      <td>78</td>\n",
       "      <td>734969</td>\n",
       "      <td>{'@context': 'http://schema.org/', '@id': 'htt...</td>\n",
       "    </tr>\n",
       "    <tr>\n",
       "      <td>2</td>\n",
       "      <td>/10.1594/PANGAEA.774574?format=textfile&amp;charse...</td>\n",
       "      <td>48</td>\n",
       "      <td>774574</td>\n",
       "      <td>{'@context': 'http://schema.org/', '@id': 'htt...</td>\n",
       "    </tr>\n",
       "    <tr>\n",
       "      <td>3</td>\n",
       "      <td>/10.1594/PANGAEA.816201?format=html</td>\n",
       "      <td>39</td>\n",
       "      <td>816201</td>\n",
       "      <td>{'@context': 'http://schema.org/', '@id': 'htt...</td>\n",
       "    </tr>\n",
       "    <tr>\n",
       "      <td>4</td>\n",
       "      <td>/10.1594/PANGAEA.805734?format=html</td>\n",
       "      <td>39</td>\n",
       "      <td>805734</td>\n",
       "      <td>{'@context': 'http://schema.org/', '@id': 'htt...</td>\n",
       "    </tr>\n",
       "    <tr>\n",
       "      <td>...</td>\n",
       "      <td>...</td>\n",
       "      <td>...</td>\n",
       "      <td>...</td>\n",
       "      <td>...</td>\n",
       "    </tr>\n",
       "    <tr>\n",
       "      <td>195</td>\n",
       "      <td>/10.1594/PANGAEA.848946?format=zip</td>\n",
       "      <td>9</td>\n",
       "      <td>848946</td>\n",
       "      <td>no title</td>\n",
       "    </tr>\n",
       "    <tr>\n",
       "      <td>196</td>\n",
       "      <td>/10.1594/PANGAEA.794398?format=textfile</td>\n",
       "      <td>9</td>\n",
       "      <td>794398</td>\n",
       "      <td>no title</td>\n",
       "    </tr>\n",
       "    <tr>\n",
       "      <td>197</td>\n",
       "      <td>/10.1594/PANGAEA.794395?format=textfile</td>\n",
       "      <td>9</td>\n",
       "      <td>794395</td>\n",
       "      <td>no title</td>\n",
       "    </tr>\n",
       "    <tr>\n",
       "      <td>198</td>\n",
       "      <td>/10.1594/PANGAEA.794396?format=textfile</td>\n",
       "      <td>9</td>\n",
       "      <td>794396</td>\n",
       "      <td>no title</td>\n",
       "    </tr>\n",
       "    <tr>\n",
       "      <td>199</td>\n",
       "      <td>/10.1594/PANGAEA.56040?format=textfile</td>\n",
       "      <td>9</td>\n",
       "      <td>56040</td>\n",
       "      <td>no title</td>\n",
       "    </tr>\n",
       "  </tbody>\n",
       "</table>\n",
       "<p>200 rows × 4 columns</p>\n",
       "</div>"
      ],
      "text/plain": [
       "                                              resource  count paper_id  \\\n",
       "0                  /10.1594/PANGAEA.908578?format=html     80   908578   \n",
       "1              /10.1594/PANGAEA.734969?format=textfile     78   734969   \n",
       "2    /10.1594/PANGAEA.774574?format=textfile&charse...     48   774574   \n",
       "3                  /10.1594/PANGAEA.816201?format=html     39   816201   \n",
       "4                  /10.1594/PANGAEA.805734?format=html     39   805734   \n",
       "..                                                 ...    ...      ...   \n",
       "195                 /10.1594/PANGAEA.848946?format=zip      9   848946   \n",
       "196            /10.1594/PANGAEA.794398?format=textfile      9   794398   \n",
       "197            /10.1594/PANGAEA.794395?format=textfile      9   794395   \n",
       "198            /10.1594/PANGAEA.794396?format=textfile      9   794396   \n",
       "199             /10.1594/PANGAEA.56040?format=textfile      9    56040   \n",
       "\n",
       "                                                 title  \n",
       "0    {'@context': 'http://schema.org/', '@id': 'htt...  \n",
       "1    {'@context': 'http://schema.org/', '@id': 'htt...  \n",
       "2    {'@context': 'http://schema.org/', '@id': 'htt...  \n",
       "3    {'@context': 'http://schema.org/', '@id': 'htt...  \n",
       "4    {'@context': 'http://schema.org/', '@id': 'htt...  \n",
       "..                                                 ...  \n",
       "195                                           no title  \n",
       "196                                           no title  \n",
       "197                                           no title  \n",
       "198                                           no title  \n",
       "199                                           no title  \n",
       "\n",
       "[200 rows x 4 columns]"
      ]
     },
     "execution_count": 127,
     "metadata": {},
     "output_type": "execute_result"
    }
   ],
   "source": [
    "df.head(200)"
   ]
  },
  {
   "cell_type": "code",
   "execution_count": 121,
   "metadata": {},
   "outputs": [
    {
     "data": {
      "text/html": [
       "<div>\n",
       "<style scoped>\n",
       "    .dataframe tbody tr th:only-of-type {\n",
       "        vertical-align: middle;\n",
       "    }\n",
       "\n",
       "    .dataframe tbody tr th {\n",
       "        vertical-align: top;\n",
       "    }\n",
       "\n",
       "    .dataframe thead th {\n",
       "        text-align: right;\n",
       "    }\n",
       "</style>\n",
       "<table border=\"1\" class=\"dataframe\">\n",
       "  <thead>\n",
       "    <tr style=\"text-align: right;\">\n",
       "      <th></th>\n",
       "      <th>resource</th>\n",
       "      <th>count</th>\n",
       "      <th>paper_id</th>\n",
       "      <th>title</th>\n",
       "    </tr>\n",
       "  </thead>\n",
       "  <tbody>\n",
       "    <tr>\n",
       "      <td>180</td>\n",
       "      <td>/10.1594/PANGAEA.914907?format=textfile&amp;charse...</td>\n",
       "      <td>9</td>\n",
       "      <td>914907</td>\n",
       "      <td>no title</td>\n",
       "    </tr>\n",
       "    <tr>\n",
       "      <td>181</td>\n",
       "      <td>/10.1594/PANGAEA.794399?format=textfile</td>\n",
       "      <td>9</td>\n",
       "      <td>794399</td>\n",
       "      <td>no title</td>\n",
       "    </tr>\n",
       "    <tr>\n",
       "      <td>182</td>\n",
       "      <td>/10.1594/PANGAEA.794394?format=textfile</td>\n",
       "      <td>9</td>\n",
       "      <td>794394</td>\n",
       "      <td>no title</td>\n",
       "    </tr>\n",
       "    <tr>\n",
       "      <td>183</td>\n",
       "      <td>/10.1594/PANGAEA.799902?format=textfile</td>\n",
       "      <td>9</td>\n",
       "      <td>799902</td>\n",
       "      <td>no title</td>\n",
       "    </tr>\n",
       "    <tr>\n",
       "      <td>184</td>\n",
       "      <td>/10.1594/PANGAEA.799903?format=textfile</td>\n",
       "      <td>9</td>\n",
       "      <td>799903</td>\n",
       "      <td>no title</td>\n",
       "    </tr>\n",
       "    <tr>\n",
       "      <td>...</td>\n",
       "      <td>...</td>\n",
       "      <td>...</td>\n",
       "      <td>...</td>\n",
       "      <td>...</td>\n",
       "    </tr>\n",
       "    <tr>\n",
       "      <td>58659</td>\n",
       "      <td>/10.1594/PANGAEA.890870?format=html</td>\n",
       "      <td>1</td>\n",
       "      <td>890870</td>\n",
       "      <td>no title</td>\n",
       "    </tr>\n",
       "    <tr>\n",
       "      <td>58660</td>\n",
       "      <td>/10.1594/PANGAEA.138008?format=textfile</td>\n",
       "      <td>1</td>\n",
       "      <td>138008</td>\n",
       "      <td>no title</td>\n",
       "    </tr>\n",
       "    <tr>\n",
       "      <td>58661</td>\n",
       "      <td>/10.1594/PANGAEA.909876?format=textfile&amp;charse...</td>\n",
       "      <td>1</td>\n",
       "      <td>909876</td>\n",
       "      <td>no title</td>\n",
       "    </tr>\n",
       "    <tr>\n",
       "      <td>58662</td>\n",
       "      <td>/10.1594/PANGAEA.108510?format=textfile</td>\n",
       "      <td>1</td>\n",
       "      <td>108510</td>\n",
       "      <td>no title</td>\n",
       "    </tr>\n",
       "    <tr>\n",
       "      <td>58663</td>\n",
       "      <td>/10.1594/PANGAEA.759152?format=textfile</td>\n",
       "      <td>1</td>\n",
       "      <td>759152</td>\n",
       "      <td>no title</td>\n",
       "    </tr>\n",
       "  </tbody>\n",
       "</table>\n",
       "<p>58481 rows × 4 columns</p>\n",
       "</div>"
      ],
      "text/plain": [
       "                                                resource  count paper_id  \\\n",
       "180    /10.1594/PANGAEA.914907?format=textfile&charse...      9   914907   \n",
       "181              /10.1594/PANGAEA.794399?format=textfile      9   794399   \n",
       "182              /10.1594/PANGAEA.794394?format=textfile      9   794394   \n",
       "183              /10.1594/PANGAEA.799902?format=textfile      9   799902   \n",
       "184              /10.1594/PANGAEA.799903?format=textfile      9   799903   \n",
       "...                                                  ...    ...      ...   \n",
       "58659                /10.1594/PANGAEA.890870?format=html      1   890870   \n",
       "58660            /10.1594/PANGAEA.138008?format=textfile      1   138008   \n",
       "58661  /10.1594/PANGAEA.909876?format=textfile&charse...      1   909876   \n",
       "58662            /10.1594/PANGAEA.108510?format=textfile      1   108510   \n",
       "58663            /10.1594/PANGAEA.759152?format=textfile      1   759152   \n",
       "\n",
       "          title  \n",
       "180    no title  \n",
       "181    no title  \n",
       "182    no title  \n",
       "183    no title  \n",
       "184    no title  \n",
       "...         ...  \n",
       "58659  no title  \n",
       "58660  no title  \n",
       "58661  no title  \n",
       "58662  no title  \n",
       "58663  no title  \n",
       "\n",
       "[58481 rows x 4 columns]"
      ]
     },
     "execution_count": 121,
     "metadata": {},
     "output_type": "execute_result"
    }
   ],
   "source": [
    "xx = df[df['title'].apply(lambda x: x == 'no title')] \n",
    "xx"
   ]
  },
  {
   "cell_type": "code",
   "execution_count": 122,
   "metadata": {},
   "outputs": [
    {
     "data": {
      "text/html": [
       "<div>\n",
       "<style scoped>\n",
       "    .dataframe tbody tr th:only-of-type {\n",
       "        vertical-align: middle;\n",
       "    }\n",
       "\n",
       "    .dataframe tbody tr th {\n",
       "        vertical-align: top;\n",
       "    }\n",
       "\n",
       "    .dataframe thead th {\n",
       "        text-align: right;\n",
       "    }\n",
       "</style>\n",
       "<table border=\"1\" class=\"dataframe\">\n",
       "  <thead>\n",
       "    <tr style=\"text-align: right;\">\n",
       "      <th></th>\n",
       "      <th>resource</th>\n",
       "      <th>count</th>\n",
       "      <th>paper_id</th>\n",
       "      <th>title</th>\n",
       "    </tr>\n",
       "  </thead>\n",
       "  <tbody>\n",
       "    <tr>\n",
       "      <td>0</td>\n",
       "      <td>/10.1594/PANGAEA.908578?format=html</td>\n",
       "      <td>80</td>\n",
       "      <td>908578</td>\n",
       "      <td>{'@context': 'http://schema.org/', '@id': 'htt...</td>\n",
       "    </tr>\n",
       "    <tr>\n",
       "      <td>1</td>\n",
       "      <td>/10.1594/PANGAEA.734969?format=textfile</td>\n",
       "      <td>78</td>\n",
       "      <td>734969</td>\n",
       "      <td>{'@context': 'http://schema.org/', '@id': 'htt...</td>\n",
       "    </tr>\n",
       "    <tr>\n",
       "      <td>2</td>\n",
       "      <td>/10.1594/PANGAEA.774574?format=textfile&amp;charse...</td>\n",
       "      <td>48</td>\n",
       "      <td>774574</td>\n",
       "      <td>{'@context': 'http://schema.org/', '@id': 'htt...</td>\n",
       "    </tr>\n",
       "    <tr>\n",
       "      <td>3</td>\n",
       "      <td>/10.1594/PANGAEA.816201?format=html</td>\n",
       "      <td>39</td>\n",
       "      <td>816201</td>\n",
       "      <td>{'@context': 'http://schema.org/', '@id': 'htt...</td>\n",
       "    </tr>\n",
       "    <tr>\n",
       "      <td>4</td>\n",
       "      <td>/10.1594/PANGAEA.805734?format=html</td>\n",
       "      <td>39</td>\n",
       "      <td>805734</td>\n",
       "      <td>{'@context': 'http://schema.org/', '@id': 'htt...</td>\n",
       "    </tr>\n",
       "    <tr>\n",
       "      <td>...</td>\n",
       "      <td>...</td>\n",
       "      <td>...</td>\n",
       "      <td>...</td>\n",
       "      <td>...</td>\n",
       "    </tr>\n",
       "    <tr>\n",
       "      <td>175</td>\n",
       "      <td>/10.1594/PANGAEA.883611?format=html</td>\n",
       "      <td>10</td>\n",
       "      <td>883611</td>\n",
       "      <td>{'@context': 'http://schema.org/', '@id': 'htt...</td>\n",
       "    </tr>\n",
       "    <tr>\n",
       "      <td>176</td>\n",
       "      <td>/10.1594/PANGAEA.872931?format=html</td>\n",
       "      <td>10</td>\n",
       "      <td>872931</td>\n",
       "      <td>{'@context': 'http://schema.org/', '@id': 'htt...</td>\n",
       "    </tr>\n",
       "    <tr>\n",
       "      <td>177</td>\n",
       "      <td>/10.1594/PANGAEA.875582?format=zip&amp;charset=UTF-8</td>\n",
       "      <td>9</td>\n",
       "      <td>875582</td>\n",
       "      <td>{'@context': 'http://schema.org/', '@id': 'htt...</td>\n",
       "    </tr>\n",
       "    <tr>\n",
       "      <td>178</td>\n",
       "      <td>/10.1594/PANGAEA.902277?format=html</td>\n",
       "      <td>9</td>\n",
       "      <td>902277</td>\n",
       "      <td>{'@context': 'http://schema.org/', '@id': 'htt...</td>\n",
       "    </tr>\n",
       "    <tr>\n",
       "      <td>179</td>\n",
       "      <td>/10.1594/PANGAEA.256341?format=textfile</td>\n",
       "      <td>9</td>\n",
       "      <td>256341</td>\n",
       "      <td>{'@context': 'http://schema.org/', '@id': 'htt...</td>\n",
       "    </tr>\n",
       "  </tbody>\n",
       "</table>\n",
       "<p>180 rows × 4 columns</p>\n",
       "</div>"
      ],
      "text/plain": [
       "                                              resource  count paper_id  \\\n",
       "0                  /10.1594/PANGAEA.908578?format=html     80   908578   \n",
       "1              /10.1594/PANGAEA.734969?format=textfile     78   734969   \n",
       "2    /10.1594/PANGAEA.774574?format=textfile&charse...     48   774574   \n",
       "3                  /10.1594/PANGAEA.816201?format=html     39   816201   \n",
       "4                  /10.1594/PANGAEA.805734?format=html     39   805734   \n",
       "..                                                 ...    ...      ...   \n",
       "175                /10.1594/PANGAEA.883611?format=html     10   883611   \n",
       "176                /10.1594/PANGAEA.872931?format=html     10   872931   \n",
       "177   /10.1594/PANGAEA.875582?format=zip&charset=UTF-8      9   875582   \n",
       "178                /10.1594/PANGAEA.902277?format=html      9   902277   \n",
       "179            /10.1594/PANGAEA.256341?format=textfile      9   256341   \n",
       "\n",
       "                                                 title  \n",
       "0    {'@context': 'http://schema.org/', '@id': 'htt...  \n",
       "1    {'@context': 'http://schema.org/', '@id': 'htt...  \n",
       "2    {'@context': 'http://schema.org/', '@id': 'htt...  \n",
       "3    {'@context': 'http://schema.org/', '@id': 'htt...  \n",
       "4    {'@context': 'http://schema.org/', '@id': 'htt...  \n",
       "..                                                 ...  \n",
       "175  {'@context': 'http://schema.org/', '@id': 'htt...  \n",
       "176  {'@context': 'http://schema.org/', '@id': 'htt...  \n",
       "177  {'@context': 'http://schema.org/', '@id': 'htt...  \n",
       "178  {'@context': 'http://schema.org/', '@id': 'htt...  \n",
       "179  {'@context': 'http://schema.org/', '@id': 'htt...  \n",
       "\n",
       "[180 rows x 4 columns]"
      ]
     },
     "execution_count": 122,
     "metadata": {},
     "output_type": "execute_result"
    }
   ],
   "source": [
    "xd = df[~df['title'].apply(lambda x: x == 'no title')]\n",
    "xd\n",
    "# df.to_csv('result_all')"
   ]
  },
  {
   "cell_type": "code",
   "execution_count": null,
   "metadata": {},
   "outputs": [],
   "source": [
    "df"
   ]
  },
  {
   "cell_type": "code",
   "execution_count": 44,
   "metadata": {},
   "outputs": [
    {
     "ename": "ConnectionError",
     "evalue": "HTTPConnectionPool(host='ws.pangaea.de', port=80): Max retries exceeded with url: /es/pangaea/panmd/850898 (Caused by NewConnectionError('<urllib3.connection.HTTPConnection object at 0x7f8a513fe7d0>: Failed to establish a new connection: [Errno 60] Operation timed out'))",
     "output_type": "error",
     "traceback": [
      "\u001b[0;31m---------------------------------------------------------------------------\u001b[0m",
      "\u001b[0;31mTimeoutError\u001b[0m                              Traceback (most recent call last)",
      "\u001b[0;32m/opt/anaconda3/lib/python3.7/site-packages/urllib3/connection.py\u001b[0m in \u001b[0;36m_new_conn\u001b[0;34m(self)\u001b[0m\n\u001b[1;32m    158\u001b[0m             conn = connection.create_connection(\n\u001b[0;32m--> 159\u001b[0;31m                 (self._dns_host, self.port), self.timeout, **extra_kw)\n\u001b[0m\u001b[1;32m    160\u001b[0m \u001b[0;34m\u001b[0m\u001b[0m\n",
      "\u001b[0;32m/opt/anaconda3/lib/python3.7/site-packages/urllib3/util/connection.py\u001b[0m in \u001b[0;36mcreate_connection\u001b[0;34m(address, timeout, source_address, socket_options)\u001b[0m\n\u001b[1;32m     79\u001b[0m     \u001b[0;32mif\u001b[0m \u001b[0merr\u001b[0m \u001b[0;32mis\u001b[0m \u001b[0;32mnot\u001b[0m \u001b[0;32mNone\u001b[0m\u001b[0;34m:\u001b[0m\u001b[0;34m\u001b[0m\u001b[0;34m\u001b[0m\u001b[0m\n\u001b[0;32m---> 80\u001b[0;31m         \u001b[0;32mraise\u001b[0m \u001b[0merr\u001b[0m\u001b[0;34m\u001b[0m\u001b[0;34m\u001b[0m\u001b[0m\n\u001b[0m\u001b[1;32m     81\u001b[0m \u001b[0;34m\u001b[0m\u001b[0m\n",
      "\u001b[0;32m/opt/anaconda3/lib/python3.7/site-packages/urllib3/util/connection.py\u001b[0m in \u001b[0;36mcreate_connection\u001b[0;34m(address, timeout, source_address, socket_options)\u001b[0m\n\u001b[1;32m     69\u001b[0m                 \u001b[0msock\u001b[0m\u001b[0;34m.\u001b[0m\u001b[0mbind\u001b[0m\u001b[0;34m(\u001b[0m\u001b[0msource_address\u001b[0m\u001b[0;34m)\u001b[0m\u001b[0;34m\u001b[0m\u001b[0;34m\u001b[0m\u001b[0m\n\u001b[0;32m---> 70\u001b[0;31m             \u001b[0msock\u001b[0m\u001b[0;34m.\u001b[0m\u001b[0mconnect\u001b[0m\u001b[0;34m(\u001b[0m\u001b[0msa\u001b[0m\u001b[0;34m)\u001b[0m\u001b[0;34m\u001b[0m\u001b[0;34m\u001b[0m\u001b[0m\n\u001b[0m\u001b[1;32m     71\u001b[0m             \u001b[0;32mreturn\u001b[0m \u001b[0msock\u001b[0m\u001b[0;34m\u001b[0m\u001b[0;34m\u001b[0m\u001b[0m\n",
      "\u001b[0;31mTimeoutError\u001b[0m: [Errno 60] Operation timed out",
      "\nDuring handling of the above exception, another exception occurred:\n",
      "\u001b[0;31mNewConnectionError\u001b[0m                        Traceback (most recent call last)",
      "\u001b[0;32m/opt/anaconda3/lib/python3.7/site-packages/urllib3/connectionpool.py\u001b[0m in \u001b[0;36murlopen\u001b[0;34m(self, method, url, body, headers, retries, redirect, assert_same_host, timeout, pool_timeout, release_conn, chunked, body_pos, **response_kw)\u001b[0m\n\u001b[1;32m    599\u001b[0m                                                   \u001b[0mbody\u001b[0m\u001b[0;34m=\u001b[0m\u001b[0mbody\u001b[0m\u001b[0;34m,\u001b[0m \u001b[0mheaders\u001b[0m\u001b[0;34m=\u001b[0m\u001b[0mheaders\u001b[0m\u001b[0;34m,\u001b[0m\u001b[0;34m\u001b[0m\u001b[0;34m\u001b[0m\u001b[0m\n\u001b[0;32m--> 600\u001b[0;31m                                                   chunked=chunked)\n\u001b[0m\u001b[1;32m    601\u001b[0m \u001b[0;34m\u001b[0m\u001b[0m\n",
      "\u001b[0;32m/opt/anaconda3/lib/python3.7/site-packages/urllib3/connectionpool.py\u001b[0m in \u001b[0;36m_make_request\u001b[0;34m(self, conn, method, url, timeout, chunked, **httplib_request_kw)\u001b[0m\n\u001b[1;32m    353\u001b[0m         \u001b[0;32melse\u001b[0m\u001b[0;34m:\u001b[0m\u001b[0;34m\u001b[0m\u001b[0;34m\u001b[0m\u001b[0m\n\u001b[0;32m--> 354\u001b[0;31m             \u001b[0mconn\u001b[0m\u001b[0;34m.\u001b[0m\u001b[0mrequest\u001b[0m\u001b[0;34m(\u001b[0m\u001b[0mmethod\u001b[0m\u001b[0;34m,\u001b[0m \u001b[0murl\u001b[0m\u001b[0;34m,\u001b[0m \u001b[0;34m**\u001b[0m\u001b[0mhttplib_request_kw\u001b[0m\u001b[0;34m)\u001b[0m\u001b[0;34m\u001b[0m\u001b[0;34m\u001b[0m\u001b[0m\n\u001b[0m\u001b[1;32m    355\u001b[0m \u001b[0;34m\u001b[0m\u001b[0m\n",
      "\u001b[0;32m/opt/anaconda3/lib/python3.7/http/client.py\u001b[0m in \u001b[0;36mrequest\u001b[0;34m(self, method, url, body, headers, encode_chunked)\u001b[0m\n\u001b[1;32m   1243\u001b[0m         \u001b[0;34m\"\"\"Send a complete request to the server.\"\"\"\u001b[0m\u001b[0;34m\u001b[0m\u001b[0;34m\u001b[0m\u001b[0m\n\u001b[0;32m-> 1244\u001b[0;31m         \u001b[0mself\u001b[0m\u001b[0;34m.\u001b[0m\u001b[0m_send_request\u001b[0m\u001b[0;34m(\u001b[0m\u001b[0mmethod\u001b[0m\u001b[0;34m,\u001b[0m \u001b[0murl\u001b[0m\u001b[0;34m,\u001b[0m \u001b[0mbody\u001b[0m\u001b[0;34m,\u001b[0m \u001b[0mheaders\u001b[0m\u001b[0;34m,\u001b[0m \u001b[0mencode_chunked\u001b[0m\u001b[0;34m)\u001b[0m\u001b[0;34m\u001b[0m\u001b[0;34m\u001b[0m\u001b[0m\n\u001b[0m\u001b[1;32m   1245\u001b[0m \u001b[0;34m\u001b[0m\u001b[0m\n",
      "\u001b[0;32m/opt/anaconda3/lib/python3.7/http/client.py\u001b[0m in \u001b[0;36m_send_request\u001b[0;34m(self, method, url, body, headers, encode_chunked)\u001b[0m\n\u001b[1;32m   1289\u001b[0m             \u001b[0mbody\u001b[0m \u001b[0;34m=\u001b[0m \u001b[0m_encode\u001b[0m\u001b[0;34m(\u001b[0m\u001b[0mbody\u001b[0m\u001b[0;34m,\u001b[0m \u001b[0;34m'body'\u001b[0m\u001b[0;34m)\u001b[0m\u001b[0;34m\u001b[0m\u001b[0;34m\u001b[0m\u001b[0m\n\u001b[0;32m-> 1290\u001b[0;31m         \u001b[0mself\u001b[0m\u001b[0;34m.\u001b[0m\u001b[0mendheaders\u001b[0m\u001b[0;34m(\u001b[0m\u001b[0mbody\u001b[0m\u001b[0;34m,\u001b[0m \u001b[0mencode_chunked\u001b[0m\u001b[0;34m=\u001b[0m\u001b[0mencode_chunked\u001b[0m\u001b[0;34m)\u001b[0m\u001b[0;34m\u001b[0m\u001b[0;34m\u001b[0m\u001b[0m\n\u001b[0m\u001b[1;32m   1291\u001b[0m \u001b[0;34m\u001b[0m\u001b[0m\n",
      "\u001b[0;32m/opt/anaconda3/lib/python3.7/http/client.py\u001b[0m in \u001b[0;36mendheaders\u001b[0;34m(self, message_body, encode_chunked)\u001b[0m\n\u001b[1;32m   1238\u001b[0m             \u001b[0;32mraise\u001b[0m \u001b[0mCannotSendHeader\u001b[0m\u001b[0;34m(\u001b[0m\u001b[0;34m)\u001b[0m\u001b[0;34m\u001b[0m\u001b[0;34m\u001b[0m\u001b[0m\n\u001b[0;32m-> 1239\u001b[0;31m         \u001b[0mself\u001b[0m\u001b[0;34m.\u001b[0m\u001b[0m_send_output\u001b[0m\u001b[0;34m(\u001b[0m\u001b[0mmessage_body\u001b[0m\u001b[0;34m,\u001b[0m \u001b[0mencode_chunked\u001b[0m\u001b[0;34m=\u001b[0m\u001b[0mencode_chunked\u001b[0m\u001b[0;34m)\u001b[0m\u001b[0;34m\u001b[0m\u001b[0;34m\u001b[0m\u001b[0m\n\u001b[0m\u001b[1;32m   1240\u001b[0m \u001b[0;34m\u001b[0m\u001b[0m\n",
      "\u001b[0;32m/opt/anaconda3/lib/python3.7/http/client.py\u001b[0m in \u001b[0;36m_send_output\u001b[0;34m(self, message_body, encode_chunked)\u001b[0m\n\u001b[1;32m   1025\u001b[0m         \u001b[0;32mdel\u001b[0m \u001b[0mself\u001b[0m\u001b[0;34m.\u001b[0m\u001b[0m_buffer\u001b[0m\u001b[0;34m[\u001b[0m\u001b[0;34m:\u001b[0m\u001b[0;34m]\u001b[0m\u001b[0;34m\u001b[0m\u001b[0;34m\u001b[0m\u001b[0m\n\u001b[0;32m-> 1026\u001b[0;31m         \u001b[0mself\u001b[0m\u001b[0;34m.\u001b[0m\u001b[0msend\u001b[0m\u001b[0;34m(\u001b[0m\u001b[0mmsg\u001b[0m\u001b[0;34m)\u001b[0m\u001b[0;34m\u001b[0m\u001b[0;34m\u001b[0m\u001b[0m\n\u001b[0m\u001b[1;32m   1027\u001b[0m \u001b[0;34m\u001b[0m\u001b[0m\n",
      "\u001b[0;32m/opt/anaconda3/lib/python3.7/http/client.py\u001b[0m in \u001b[0;36msend\u001b[0;34m(self, data)\u001b[0m\n\u001b[1;32m    965\u001b[0m             \u001b[0;32mif\u001b[0m \u001b[0mself\u001b[0m\u001b[0;34m.\u001b[0m\u001b[0mauto_open\u001b[0m\u001b[0;34m:\u001b[0m\u001b[0;34m\u001b[0m\u001b[0;34m\u001b[0m\u001b[0m\n\u001b[0;32m--> 966\u001b[0;31m                 \u001b[0mself\u001b[0m\u001b[0;34m.\u001b[0m\u001b[0mconnect\u001b[0m\u001b[0;34m(\u001b[0m\u001b[0;34m)\u001b[0m\u001b[0;34m\u001b[0m\u001b[0;34m\u001b[0m\u001b[0m\n\u001b[0m\u001b[1;32m    967\u001b[0m             \u001b[0;32melse\u001b[0m\u001b[0;34m:\u001b[0m\u001b[0;34m\u001b[0m\u001b[0;34m\u001b[0m\u001b[0m\n",
      "\u001b[0;32m/opt/anaconda3/lib/python3.7/site-packages/urllib3/connection.py\u001b[0m in \u001b[0;36mconnect\u001b[0;34m(self)\u001b[0m\n\u001b[1;32m    180\u001b[0m     \u001b[0;32mdef\u001b[0m \u001b[0mconnect\u001b[0m\u001b[0;34m(\u001b[0m\u001b[0mself\u001b[0m\u001b[0;34m)\u001b[0m\u001b[0;34m:\u001b[0m\u001b[0;34m\u001b[0m\u001b[0;34m\u001b[0m\u001b[0m\n\u001b[0;32m--> 181\u001b[0;31m         \u001b[0mconn\u001b[0m \u001b[0;34m=\u001b[0m \u001b[0mself\u001b[0m\u001b[0;34m.\u001b[0m\u001b[0m_new_conn\u001b[0m\u001b[0;34m(\u001b[0m\u001b[0;34m)\u001b[0m\u001b[0;34m\u001b[0m\u001b[0;34m\u001b[0m\u001b[0m\n\u001b[0m\u001b[1;32m    182\u001b[0m         \u001b[0mself\u001b[0m\u001b[0;34m.\u001b[0m\u001b[0m_prepare_conn\u001b[0m\u001b[0;34m(\u001b[0m\u001b[0mconn\u001b[0m\u001b[0;34m)\u001b[0m\u001b[0;34m\u001b[0m\u001b[0;34m\u001b[0m\u001b[0m\n",
      "\u001b[0;32m/opt/anaconda3/lib/python3.7/site-packages/urllib3/connection.py\u001b[0m in \u001b[0;36m_new_conn\u001b[0;34m(self)\u001b[0m\n\u001b[1;32m    167\u001b[0m             raise NewConnectionError(\n\u001b[0;32m--> 168\u001b[0;31m                 self, \"Failed to establish a new connection: %s\" % e)\n\u001b[0m\u001b[1;32m    169\u001b[0m \u001b[0;34m\u001b[0m\u001b[0m\n",
      "\u001b[0;31mNewConnectionError\u001b[0m: <urllib3.connection.HTTPConnection object at 0x7f8a513fe7d0>: Failed to establish a new connection: [Errno 60] Operation timed out",
      "\nDuring handling of the above exception, another exception occurred:\n",
      "\u001b[0;31mMaxRetryError\u001b[0m                             Traceback (most recent call last)",
      "\u001b[0;32m/opt/anaconda3/lib/python3.7/site-packages/requests/adapters.py\u001b[0m in \u001b[0;36msend\u001b[0;34m(self, request, stream, timeout, verify, cert, proxies)\u001b[0m\n\u001b[1;32m    448\u001b[0m                     \u001b[0mretries\u001b[0m\u001b[0;34m=\u001b[0m\u001b[0mself\u001b[0m\u001b[0;34m.\u001b[0m\u001b[0mmax_retries\u001b[0m\u001b[0;34m,\u001b[0m\u001b[0;34m\u001b[0m\u001b[0;34m\u001b[0m\u001b[0m\n\u001b[0;32m--> 449\u001b[0;31m                     \u001b[0mtimeout\u001b[0m\u001b[0;34m=\u001b[0m\u001b[0mtimeout\u001b[0m\u001b[0;34m\u001b[0m\u001b[0;34m\u001b[0m\u001b[0m\n\u001b[0m\u001b[1;32m    450\u001b[0m                 )\n",
      "\u001b[0;32m/opt/anaconda3/lib/python3.7/site-packages/urllib3/connectionpool.py\u001b[0m in \u001b[0;36murlopen\u001b[0;34m(self, method, url, body, headers, retries, redirect, assert_same_host, timeout, pool_timeout, release_conn, chunked, body_pos, **response_kw)\u001b[0m\n\u001b[1;32m    637\u001b[0m             retries = retries.increment(method, url, error=e, _pool=self,\n\u001b[0;32m--> 638\u001b[0;31m                                         _stacktrace=sys.exc_info()[2])\n\u001b[0m\u001b[1;32m    639\u001b[0m             \u001b[0mretries\u001b[0m\u001b[0;34m.\u001b[0m\u001b[0msleep\u001b[0m\u001b[0;34m(\u001b[0m\u001b[0;34m)\u001b[0m\u001b[0;34m\u001b[0m\u001b[0;34m\u001b[0m\u001b[0m\n",
      "\u001b[0;32m/opt/anaconda3/lib/python3.7/site-packages/urllib3/util/retry.py\u001b[0m in \u001b[0;36mincrement\u001b[0;34m(self, method, url, response, error, _pool, _stacktrace)\u001b[0m\n\u001b[1;32m    398\u001b[0m         \u001b[0;32mif\u001b[0m \u001b[0mnew_retry\u001b[0m\u001b[0;34m.\u001b[0m\u001b[0mis_exhausted\u001b[0m\u001b[0;34m(\u001b[0m\u001b[0;34m)\u001b[0m\u001b[0;34m:\u001b[0m\u001b[0;34m\u001b[0m\u001b[0;34m\u001b[0m\u001b[0m\n\u001b[0;32m--> 399\u001b[0;31m             \u001b[0;32mraise\u001b[0m \u001b[0mMaxRetryError\u001b[0m\u001b[0;34m(\u001b[0m\u001b[0m_pool\u001b[0m\u001b[0;34m,\u001b[0m \u001b[0murl\u001b[0m\u001b[0;34m,\u001b[0m \u001b[0merror\u001b[0m \u001b[0;32mor\u001b[0m \u001b[0mResponseError\u001b[0m\u001b[0;34m(\u001b[0m\u001b[0mcause\u001b[0m\u001b[0;34m)\u001b[0m\u001b[0;34m)\u001b[0m\u001b[0;34m\u001b[0m\u001b[0;34m\u001b[0m\u001b[0m\n\u001b[0m\u001b[1;32m    400\u001b[0m \u001b[0;34m\u001b[0m\u001b[0m\n",
      "\u001b[0;31mMaxRetryError\u001b[0m: HTTPConnectionPool(host='ws.pangaea.de', port=80): Max retries exceeded with url: /es/pangaea/panmd/850898 (Caused by NewConnectionError('<urllib3.connection.HTTPConnection object at 0x7f8a513fe7d0>: Failed to establish a new connection: [Errno 60] Operation timed out'))",
      "\nDuring handling of the above exception, another exception occurred:\n",
      "\u001b[0;31mConnectionError\u001b[0m                           Traceback (most recent call last)",
      "\u001b[0;32m<ipython-input-44-b78551ea5e39>\u001b[0m in \u001b[0;36m<module>\u001b[0;34m\u001b[0m\n\u001b[0;32m----> 1\u001b[0;31m \u001b[0mdf\u001b[0m\u001b[0;34m[\u001b[0m\u001b[0;34m'year'\u001b[0m\u001b[0;34m]\u001b[0m \u001b[0;34m=\u001b[0m \u001b[0mdf\u001b[0m\u001b[0;34m[\u001b[0m\u001b[0;34m'paper_id'\u001b[0m\u001b[0;34m]\u001b[0m\u001b[0;34m.\u001b[0m\u001b[0mapply\u001b[0m\u001b[0;34m(\u001b[0m\u001b[0mfetch_year\u001b[0m\u001b[0;34m)\u001b[0m\u001b[0;34m\u001b[0m\u001b[0;34m\u001b[0m\u001b[0m\n\u001b[0m",
      "\u001b[0;32m/opt/anaconda3/lib/python3.7/site-packages/pandas/core/series.py\u001b[0m in \u001b[0;36mapply\u001b[0;34m(self, func, convert_dtype, args, **kwds)\u001b[0m\n\u001b[1;32m   4040\u001b[0m             \u001b[0;32melse\u001b[0m\u001b[0;34m:\u001b[0m\u001b[0;34m\u001b[0m\u001b[0;34m\u001b[0m\u001b[0m\n\u001b[1;32m   4041\u001b[0m                 \u001b[0mvalues\u001b[0m \u001b[0;34m=\u001b[0m \u001b[0mself\u001b[0m\u001b[0;34m.\u001b[0m\u001b[0mastype\u001b[0m\u001b[0;34m(\u001b[0m\u001b[0mobject\u001b[0m\u001b[0;34m)\u001b[0m\u001b[0;34m.\u001b[0m\u001b[0mvalues\u001b[0m\u001b[0;34m\u001b[0m\u001b[0;34m\u001b[0m\u001b[0m\n\u001b[0;32m-> 4042\u001b[0;31m                 \u001b[0mmapped\u001b[0m \u001b[0;34m=\u001b[0m \u001b[0mlib\u001b[0m\u001b[0;34m.\u001b[0m\u001b[0mmap_infer\u001b[0m\u001b[0;34m(\u001b[0m\u001b[0mvalues\u001b[0m\u001b[0;34m,\u001b[0m \u001b[0mf\u001b[0m\u001b[0;34m,\u001b[0m \u001b[0mconvert\u001b[0m\u001b[0;34m=\u001b[0m\u001b[0mconvert_dtype\u001b[0m\u001b[0;34m)\u001b[0m\u001b[0;34m\u001b[0m\u001b[0;34m\u001b[0m\u001b[0m\n\u001b[0m\u001b[1;32m   4043\u001b[0m \u001b[0;34m\u001b[0m\u001b[0m\n\u001b[1;32m   4044\u001b[0m         \u001b[0;32mif\u001b[0m \u001b[0mlen\u001b[0m\u001b[0;34m(\u001b[0m\u001b[0mmapped\u001b[0m\u001b[0;34m)\u001b[0m \u001b[0;32mand\u001b[0m \u001b[0misinstance\u001b[0m\u001b[0;34m(\u001b[0m\u001b[0mmapped\u001b[0m\u001b[0;34m[\u001b[0m\u001b[0;36m0\u001b[0m\u001b[0;34m]\u001b[0m\u001b[0;34m,\u001b[0m \u001b[0mSeries\u001b[0m\u001b[0;34m)\u001b[0m\u001b[0;34m:\u001b[0m\u001b[0;34m\u001b[0m\u001b[0;34m\u001b[0m\u001b[0m\n",
      "\u001b[0;32mpandas/_libs/lib.pyx\u001b[0m in \u001b[0;36mpandas._libs.lib.map_infer\u001b[0;34m()\u001b[0m\n",
      "\u001b[0;32m<ipython-input-36-173ac94d43d2>\u001b[0m in \u001b[0;36mfetch_year\u001b[0;34m(x)\u001b[0m\n\u001b[1;32m      1\u001b[0m \u001b[0;32mdef\u001b[0m \u001b[0mfetch_year\u001b[0m\u001b[0;34m(\u001b[0m\u001b[0mx\u001b[0m\u001b[0;34m)\u001b[0m\u001b[0;34m:\u001b[0m\u001b[0;34m\u001b[0m\u001b[0;34m\u001b[0m\u001b[0m\n\u001b[1;32m      2\u001b[0m     \u001b[0murl\u001b[0m \u001b[0;34m=\u001b[0m \u001b[0;34m'http://ws.pangaea.de/es/pangaea/panmd/'\u001b[0m\u001b[0;34m+\u001b[0m\u001b[0mx\u001b[0m\u001b[0;34m\u001b[0m\u001b[0;34m\u001b[0m\u001b[0m\n\u001b[0;32m----> 3\u001b[0;31m     \u001b[0mresponse\u001b[0m \u001b[0;34m=\u001b[0m \u001b[0mrequests\u001b[0m\u001b[0;34m.\u001b[0m\u001b[0mget\u001b[0m\u001b[0;34m(\u001b[0m\u001b[0murl\u001b[0m\u001b[0;34m)\u001b[0m\u001b[0;34m\u001b[0m\u001b[0;34m\u001b[0m\u001b[0m\n\u001b[0m\u001b[1;32m      4\u001b[0m     \u001b[0msoup\u001b[0m \u001b[0;34m=\u001b[0m \u001b[0mBeautifulSoup\u001b[0m\u001b[0;34m(\u001b[0m\u001b[0mresponse\u001b[0m\u001b[0;34m.\u001b[0m\u001b[0mtext\u001b[0m\u001b[0;34m)\u001b[0m\u001b[0;34m\u001b[0m\u001b[0;34m\u001b[0m\u001b[0m\n\u001b[1;32m      5\u001b[0m     \u001b[0myear\u001b[0m \u001b[0;34m=\u001b[0m \u001b[0msoup\u001b[0m\u001b[0;34m.\u001b[0m\u001b[0mfind_all\u001b[0m\u001b[0;34m(\u001b[0m\u001b[0;34m'md:year'\u001b[0m\u001b[0;34m)\u001b[0m\u001b[0;34m\u001b[0m\u001b[0;34m\u001b[0m\u001b[0m\n",
      "\u001b[0;32m/opt/anaconda3/lib/python3.7/site-packages/requests/api.py\u001b[0m in \u001b[0;36mget\u001b[0;34m(url, params, **kwargs)\u001b[0m\n\u001b[1;32m     73\u001b[0m \u001b[0;34m\u001b[0m\u001b[0m\n\u001b[1;32m     74\u001b[0m     \u001b[0mkwargs\u001b[0m\u001b[0;34m.\u001b[0m\u001b[0msetdefault\u001b[0m\u001b[0;34m(\u001b[0m\u001b[0;34m'allow_redirects'\u001b[0m\u001b[0;34m,\u001b[0m \u001b[0;32mTrue\u001b[0m\u001b[0;34m)\u001b[0m\u001b[0;34m\u001b[0m\u001b[0;34m\u001b[0m\u001b[0m\n\u001b[0;32m---> 75\u001b[0;31m     \u001b[0;32mreturn\u001b[0m \u001b[0mrequest\u001b[0m\u001b[0;34m(\u001b[0m\u001b[0;34m'get'\u001b[0m\u001b[0;34m,\u001b[0m \u001b[0murl\u001b[0m\u001b[0;34m,\u001b[0m \u001b[0mparams\u001b[0m\u001b[0;34m=\u001b[0m\u001b[0mparams\u001b[0m\u001b[0;34m,\u001b[0m \u001b[0;34m**\u001b[0m\u001b[0mkwargs\u001b[0m\u001b[0;34m)\u001b[0m\u001b[0;34m\u001b[0m\u001b[0;34m\u001b[0m\u001b[0m\n\u001b[0m\u001b[1;32m     76\u001b[0m \u001b[0;34m\u001b[0m\u001b[0m\n\u001b[1;32m     77\u001b[0m \u001b[0;34m\u001b[0m\u001b[0m\n",
      "\u001b[0;32m/opt/anaconda3/lib/python3.7/site-packages/requests/api.py\u001b[0m in \u001b[0;36mrequest\u001b[0;34m(method, url, **kwargs)\u001b[0m\n\u001b[1;32m     58\u001b[0m     \u001b[0;31m# cases, and look like a memory leak in others.\u001b[0m\u001b[0;34m\u001b[0m\u001b[0;34m\u001b[0m\u001b[0;34m\u001b[0m\u001b[0m\n\u001b[1;32m     59\u001b[0m     \u001b[0;32mwith\u001b[0m \u001b[0msessions\u001b[0m\u001b[0;34m.\u001b[0m\u001b[0mSession\u001b[0m\u001b[0;34m(\u001b[0m\u001b[0;34m)\u001b[0m \u001b[0;32mas\u001b[0m \u001b[0msession\u001b[0m\u001b[0;34m:\u001b[0m\u001b[0;34m\u001b[0m\u001b[0;34m\u001b[0m\u001b[0m\n\u001b[0;32m---> 60\u001b[0;31m         \u001b[0;32mreturn\u001b[0m \u001b[0msession\u001b[0m\u001b[0;34m.\u001b[0m\u001b[0mrequest\u001b[0m\u001b[0;34m(\u001b[0m\u001b[0mmethod\u001b[0m\u001b[0;34m=\u001b[0m\u001b[0mmethod\u001b[0m\u001b[0;34m,\u001b[0m \u001b[0murl\u001b[0m\u001b[0;34m=\u001b[0m\u001b[0murl\u001b[0m\u001b[0;34m,\u001b[0m \u001b[0;34m**\u001b[0m\u001b[0mkwargs\u001b[0m\u001b[0;34m)\u001b[0m\u001b[0;34m\u001b[0m\u001b[0;34m\u001b[0m\u001b[0m\n\u001b[0m\u001b[1;32m     61\u001b[0m \u001b[0;34m\u001b[0m\u001b[0m\n\u001b[1;32m     62\u001b[0m \u001b[0;34m\u001b[0m\u001b[0m\n",
      "\u001b[0;32m/opt/anaconda3/lib/python3.7/site-packages/requests/sessions.py\u001b[0m in \u001b[0;36mrequest\u001b[0;34m(self, method, url, params, data, headers, cookies, files, auth, timeout, allow_redirects, proxies, hooks, stream, verify, cert, json)\u001b[0m\n\u001b[1;32m    531\u001b[0m         }\n\u001b[1;32m    532\u001b[0m         \u001b[0msend_kwargs\u001b[0m\u001b[0;34m.\u001b[0m\u001b[0mupdate\u001b[0m\u001b[0;34m(\u001b[0m\u001b[0msettings\u001b[0m\u001b[0;34m)\u001b[0m\u001b[0;34m\u001b[0m\u001b[0;34m\u001b[0m\u001b[0m\n\u001b[0;32m--> 533\u001b[0;31m         \u001b[0mresp\u001b[0m \u001b[0;34m=\u001b[0m \u001b[0mself\u001b[0m\u001b[0;34m.\u001b[0m\u001b[0msend\u001b[0m\u001b[0;34m(\u001b[0m\u001b[0mprep\u001b[0m\u001b[0;34m,\u001b[0m \u001b[0;34m**\u001b[0m\u001b[0msend_kwargs\u001b[0m\u001b[0;34m)\u001b[0m\u001b[0;34m\u001b[0m\u001b[0;34m\u001b[0m\u001b[0m\n\u001b[0m\u001b[1;32m    534\u001b[0m \u001b[0;34m\u001b[0m\u001b[0m\n\u001b[1;32m    535\u001b[0m         \u001b[0;32mreturn\u001b[0m \u001b[0mresp\u001b[0m\u001b[0;34m\u001b[0m\u001b[0;34m\u001b[0m\u001b[0m\n",
      "\u001b[0;32m/opt/anaconda3/lib/python3.7/site-packages/requests/sessions.py\u001b[0m in \u001b[0;36msend\u001b[0;34m(self, request, **kwargs)\u001b[0m\n\u001b[1;32m    644\u001b[0m \u001b[0;34m\u001b[0m\u001b[0m\n\u001b[1;32m    645\u001b[0m         \u001b[0;31m# Send the request\u001b[0m\u001b[0;34m\u001b[0m\u001b[0;34m\u001b[0m\u001b[0;34m\u001b[0m\u001b[0m\n\u001b[0;32m--> 646\u001b[0;31m         \u001b[0mr\u001b[0m \u001b[0;34m=\u001b[0m \u001b[0madapter\u001b[0m\u001b[0;34m.\u001b[0m\u001b[0msend\u001b[0m\u001b[0;34m(\u001b[0m\u001b[0mrequest\u001b[0m\u001b[0;34m,\u001b[0m \u001b[0;34m**\u001b[0m\u001b[0mkwargs\u001b[0m\u001b[0;34m)\u001b[0m\u001b[0;34m\u001b[0m\u001b[0;34m\u001b[0m\u001b[0m\n\u001b[0m\u001b[1;32m    647\u001b[0m \u001b[0;34m\u001b[0m\u001b[0m\n\u001b[1;32m    648\u001b[0m         \u001b[0;31m# Total elapsed time of the request (approximately)\u001b[0m\u001b[0;34m\u001b[0m\u001b[0;34m\u001b[0m\u001b[0;34m\u001b[0m\u001b[0m\n",
      "\u001b[0;32m/opt/anaconda3/lib/python3.7/site-packages/requests/adapters.py\u001b[0m in \u001b[0;36msend\u001b[0;34m(self, request, stream, timeout, verify, cert, proxies)\u001b[0m\n\u001b[1;32m    514\u001b[0m                 \u001b[0;32mraise\u001b[0m \u001b[0mSSLError\u001b[0m\u001b[0;34m(\u001b[0m\u001b[0me\u001b[0m\u001b[0;34m,\u001b[0m \u001b[0mrequest\u001b[0m\u001b[0;34m=\u001b[0m\u001b[0mrequest\u001b[0m\u001b[0;34m)\u001b[0m\u001b[0;34m\u001b[0m\u001b[0;34m\u001b[0m\u001b[0m\n\u001b[1;32m    515\u001b[0m \u001b[0;34m\u001b[0m\u001b[0m\n\u001b[0;32m--> 516\u001b[0;31m             \u001b[0;32mraise\u001b[0m \u001b[0mConnectionError\u001b[0m\u001b[0;34m(\u001b[0m\u001b[0me\u001b[0m\u001b[0;34m,\u001b[0m \u001b[0mrequest\u001b[0m\u001b[0;34m=\u001b[0m\u001b[0mrequest\u001b[0m\u001b[0;34m)\u001b[0m\u001b[0;34m\u001b[0m\u001b[0;34m\u001b[0m\u001b[0m\n\u001b[0m\u001b[1;32m    517\u001b[0m \u001b[0;34m\u001b[0m\u001b[0m\n\u001b[1;32m    518\u001b[0m         \u001b[0;32mexcept\u001b[0m \u001b[0mClosedPoolError\u001b[0m \u001b[0;32mas\u001b[0m \u001b[0me\u001b[0m\u001b[0;34m:\u001b[0m\u001b[0;34m\u001b[0m\u001b[0;34m\u001b[0m\u001b[0m\n",
      "\u001b[0;31mConnectionError\u001b[0m: HTTPConnectionPool(host='ws.pangaea.de', port=80): Max retries exceeded with url: /es/pangaea/panmd/850898 (Caused by NewConnectionError('<urllib3.connection.HTTPConnection object at 0x7f8a513fe7d0>: Failed to establish a new connection: [Errno 60] Operation timed out'))"
     ]
    }
   ],
   "source": [
    "df['year'] = df['paper_id'].apply(fetch_year)\n",
    "df['author'] = df['paper_id'].apply(fetch_author)\n",
    "df['dateTime'] = df['paper_id'].apply(fetch_dateTime)"
   ]
  },
  {
   "cell_type": "code",
   "execution_count": null,
   "metadata": {},
   "outputs": [],
   "source": [
    "df.to_csv('result')"
   ]
  },
  {
   "cell_type": "code",
   "execution_count": null,
   "metadata": {},
   "outputs": [],
   "source": [
    "print(df)"
   ]
  },
  {
   "cell_type": "code",
   "execution_count": null,
   "metadata": {},
   "outputs": [],
   "source": [
    "# df"
   ]
  },
  {
   "cell_type": "code",
   "execution_count": null,
   "metadata": {},
   "outputs": [],
   "source": [
    "# df['year'] = df['paper_id'].apply(fetch_year)"
   ]
  },
  {
   "cell_type": "code",
   "execution_count": null,
   "metadata": {},
   "outputs": [],
   "source": []
  },
  {
   "cell_type": "code",
   "execution_count": null,
   "metadata": {},
   "outputs": [],
   "source": []
  },
  {
   "cell_type": "code",
   "execution_count": null,
   "metadata": {},
   "outputs": [],
   "source": []
  },
  {
   "cell_type": "code",
   "execution_count": null,
   "metadata": {},
   "outputs": [],
   "source": []
  },
  {
   "cell_type": "code",
   "execution_count": null,
   "metadata": {},
   "outputs": [],
   "source": []
  },
  {
   "cell_type": "code",
   "execution_count": null,
   "metadata": {},
   "outputs": [],
   "source": []
  },
  {
   "cell_type": "code",
   "execution_count": null,
   "metadata": {},
   "outputs": [],
   "source": []
  },
  {
   "cell_type": "code",
   "execution_count": null,
   "metadata": {},
   "outputs": [],
   "source": []
  },
  {
   "cell_type": "code",
   "execution_count": null,
   "metadata": {},
   "outputs": [],
   "source": []
  },
  {
   "cell_type": "code",
   "execution_count": null,
   "metadata": {},
   "outputs": [],
   "source": []
  },
  {
   "cell_type": "code",
   "execution_count": null,
   "metadata": {},
   "outputs": [],
   "source": []
  },
  {
   "cell_type": "code",
   "execution_count": 52,
   "metadata": {},
   "outputs": [
    {
     "name": "stderr",
     "output_type": "stream",
     "text": [
      "/opt/anaconda3/lib/python3.7/site-packages/ipykernel_launcher.py:1: SettingWithCopyWarning: \n",
      "A value is trying to be set on a copy of a slice from a DataFrame.\n",
      "Try using .loc[row_indexer,col_indexer] = value instead\n",
      "\n",
      "See the caveats in the documentation: http://pandas.pydata.org/pandas-docs/stable/user_guide/indexing.html#returning-a-view-versus-a-copy\n",
      "  \"\"\"Entry point for launching an IPython kernel.\n"
     ]
    }
   ],
   "source": [
    "# df['all'] = df['paper_id'].apply(fetch_all)"
   ]
  },
  {
   "cell_type": "code",
   "execution_count": 54,
   "metadata": {},
   "outputs": [
    {
     "data": {
      "text/plain": [
       "<html><body><p>{\"_index\":\"pangaea_v2\",\"_type\":\"panmd\",\"_id\":\"908578\",\"_version\":1,\"found\":true,\"_source\":{\"internal-datestamp\":\"2020-04-24T10:17:45.000Z\",\"sf-authortitle\":\"Globevnik Lidija$Broad typology for rivers and lakes in Europe for large scale analysis\",\"meanPosition\":{\"lat\":52.45655,\"lon\":9.24395},\"techKeyword\":[\"citable\",\"author30659\",\"author72410\",\"author72411\",\"author72412\",\"author72413\",\"author72414\",\"author72415\",\"author72416\",\"author72417\",\"author72418\",\"author72419\",\"author72420\",\"author72421\",\"author72422\",\"author72423\",\"author72424\",\"author72425\",\"author72426\",\"author72427\",\"author72428\",\"author72429\",\"event2920149\",\"geocode1600\",\"geocode1601\",\"journal14514\",\"journal16983\",\"journal6666\",\"license21\",\"method10667\",\"param156444\",\"param1570\",\"param16143\",\"param16144\",\"param24303\",\"param25541\",\"param54251\",\"param88478\",\"param99583\",\"pi72410\",\"ref102257\",\"ref102258\",\"ref102259\",\"ref102260\",\"ref102261\",\"ref102262\",\"ref102263\",\"ref102270\",\"term48289\",\"term48549\",\"term51469\",\"term51486\",\"term51487\",\"term51488\",\"term51489\",\"topotype1\"],\"geocodes\":[\"geocode1600\",\"geocode1601\",\"event\"],\"sp-loginOption\":1,\"agg-author\":\"Globevnik, Lidija\",\"eastBoundLongitude\":42.6601,\"URI\":\"https://doi.org/10.1594/PANGAEA.908578\",\"agg-pubYear\":2019,\"agg-geometry\":\"bbox\",\"xml-thumb\":\"<md:searchresult version='\\\"2020-01-16\\\"' xmlns:md='\\\"http://www.pangaea.de/MetaData\\\"'><md:citation id='\\\"dataset908578\\\"'><md:author>Globevnik, L</md:author><md:year>2019</md:year><md:title>Broad typology for rivers and lakes in Europe for large scale analysis</md:title><md:uri>https://doi.org/10.1594/PANGAEA.908578</md:uri><md:datetime>2019-11-15T10:48:09</md:datetime></md:citation><md:reference id='\\\"ref102261\\\"' relationtype='\\\"Related' relationtypeid='\\\"12\\\"' to=\"\"><md:author>Lyche Solheim, A; Globevnik, L; Austnes, K et al.</md:author><md:year>2019</md:year><md:title>A new broad typology for rivers and lakes in Europe: Development and application for large-scale environmental assessments</md:title><md:source>Science of the Total Environment</md:source><md:volume>697</md:volume><md:uri>https://doi.org/10.1016/j.scitotenv.2019.134043</md:uri><md:pages>134043</md:pages></md:reference><md:extent><md:geographic>\\n<md:westboundlongitude>-24.1722</md:westboundlongitude>\\n<md:eastboundlongitude>42.6601</md:eastboundlongitude>\\n<md:southboundlatitude>33.7274</md:southboundlatitude>\\n<md:northboundlatitude>71.1857</md:northboundlatitude>\\n<md:meanlongitude>9.24395</md:meanlongitude>\\n<md:meanlatitude>52.45655</md:meanlatitude>\\n</md:geographic></md:extent><md:size points=\"\" unit='\\\"data'>30</md:size><md:technicalinfo>\\n<md:entry key='\\\"xmlLastModified\\\"' value='\\\"2020-04-24T10:17:39Z\\\"/'>\\n<md:entry key='\\\"filename\\\"' value='\\\"Globevnik_etal_2019\\\"/'>\\n<md:entry key='\\\"mimeType\\\"' value='\\\"text/tab-separated-values\\\"/'>\\n<md:entry key='\\\"status\\\"' value='\\\"published\\\"/'>\\n<md:entry key='\\\"status_num\\\"' value='\\\"4\\\"/'>\\n<md:entry key='\\\"DOIRegistryStatus\\\"' value='\\\"registered\\\"/'>\\n<md:entry key='\\\"DOIRegistryStatus_num\\\"' value='\\\"4\\\"/'>\\n<md:entry key='\\\"loginOption\\\"' value='\\\"unrestricted\\\"/'>\\n<md:entry key='\\\"loginOption_num\\\"' value='\\\"1\\\"/'>\\n</md:entry></md:entry></md:entry></md:entry></md:entry></md:entry></md:entry></md:entry></md:entry></md:technicalinfo></md:searchresult>\",\"agg-mainTopic\":\"Ecology\",\"geoCoverage\":{\"type\":\"envelope\",\"coordinates\":[[-24.1722,71.1857],[42.6601,33.7274]]},\"xml\":\"<md:metadata version='\\\"2020-01-16\\\"' xmlns:md='\\\"http://www.pangaea.de/MetaData\\\"'>\\n<md:citation id='\\\"dataset908578\\\"'>\\n<md:author id='\\\"dataset.author72410\\\"'>\\n<md:lastname>Globevnik</md:lastname>\\n<md:firstname>Lidija</md:firstname>\\n<md:email>lidija.globevnik@guest.arnes.si</md:email>\\n<md:orcid>0000-0002-1510-3286</md:orcid>\\n</md:author>\\n<md:year>2019</md:year>\\n<md:title>Broad typology for rivers and lakes in Europe for large scale analysis</md:title>\\n<md:uri>https://doi.org/10.1594/PANGAEA.908578</md:uri>\\n<md:datetime>2019-11-15T10:48:09</md:datetime>\\n</md:citation>\\n<md:abstract>Typology of waters is defined as a group of water bodies having common natural ecological conditions in terms of geo-morphological, hydrological, physico-chemical, and biological characteristics. The type descriptors are permanent characteristics that do not respond to human activities and represent the fixed abiotic conditions that explain natural variability. For the need of large-scale analysis of ecological status, multiple pressures on rivers and lakes, linkages of water body types to habitat types and for comparison of type-specific limit values for nutrients and other quality elements across countries in Europe, a broad river and lake typology was developed. Descriptors categories are dominant geology, region, river catchment, river altitude, river flow, lake size and mean lake depth. The ranges of descriptors largely follow the system A of Water Framework Directive (WFD) (EC, 2000) and are described in Lyche Solheim et al. (2019).\\n \\nVarious European data sources were used for spatial allocation of rivers and lakes broad types. The starting point was the European Catchments and Rivers Network System (Ecrins) (EEA, 2012), which is organised into sets of spatial thematic layers: lake polygons, river segments (drains), nodes representing intersection of river and catchments and almost 180,000 “Functional Elementary Catchments (FECs)”. Catchments include “main drains” (connecting together the FECs) and “secondary drains” (internal within a FEC). We assigned one broad type to all segments belonging to “main drain” of each FEC and named them “river segment\\\".\\n\\nThe catchment size of river segments in each FEC is defined as the sum of the upstream drainage area and FEC surface area. The upstream drainage area has been derived using data in “Code Arbo” in Ecrins database (Globevnik et al., 2017). The altitude of the lower end points of river segments in each FEC is available in Ecrins river database. Lake surface area is obtained from Ecrins lake area attribute “Area”. Data on mean lake depth were obtained from Waterbase – Water Quality database (EEA, 2016) or estimated from terrain data. The basic map of five geological (geochemical) categories was produced from two thematic maps: bedrock map “International Hydrogeological Map of Europe (IHME 1500_v11)” (Dutcher et al, 2015) and the soil map of the European Union “SGDBE4” (JRC, 2016). The dominant geology for lakes was derived from this map with the overlay procedure. For each FEC we then defined dominant catchment geology (geochemistry) and assigned this geology type to all river segments forming the FEC's main drain. Spatial extent of the Mediterranean region is obtained from spatial layer 'Biogeographical regions of Europe» (EEA, 2019). More details on methodology are in Lyche Solheim et al. (2019).</md:abstract>\\n<md:reference id='\\\"ref102261\\\"' relationtype='\\\"Related' relationtypeid='\\\"12\\\"' to=\"\">\\n<md:author id='\\\"ref102261.author72411\\\"'>\\n<md:lastname>Lyche Solheim</md:lastname>\\n<md:firstname>Anne</md:firstname>\\n</md:author>\\n<md:author id='\\\"ref102261.author72410\\\"'>\\n<md:lastname>Globevnik</md:lastname>\\n<md:firstname>Lidija</md:firstname>\\n<md:email>lidija.globevnik@guest.arnes.si</md:email>\\n<md:orcid>0000-0002-1510-3286</md:orcid>\\n</md:author>\\n<md:author id='\\\"ref102261.author72421\\\"'>\\n<md:lastname>Austnes</md:lastname>\\n<md:firstname>Kari</md:firstname>\\n</md:author>\\n<md:author id='\\\"ref102261.author30659\\\"'>\\n<md:lastname>Kristensen</md:lastname>\\n<md:firstname>Peter</md:firstname>\\n</md:author>\\n<md:author id='\\\"ref102261.author72422\\\"'>\\n<md:lastname>Moe</md:lastname>\\n<md:firstname>S Jannicke</md:firstname>\\n</md:author>\\n<md:author id='\\\"ref102261.author72423\\\"'>\\n<md:lastname>Persson</md:lastname>\\n<md:firstname>Jonas</md:firstname>\\n</md:author>\\n<md:author id='\\\"ref102261.author72424\\\"'>\\n<md:lastname>Phillips</md:lastname>\\n<md:firstname>Geoff L</md:firstname>\\n</md:author>\\n<md:author id='\\\"ref102261.author72425\\\"'>\\n<md:lastname>Poikane</md:lastname>\\n<md:firstname>Sandra</md:firstname>\\n</md:author>\\n<md:author id='\\\"ref102261.author72426\\\"'>\\n<md:lastname>van de Bund</md:lastname>\\n<md:firstname>Wouter</md:firstname>\\n</md:author>\\n<md:author id='\\\"ref102261.author72427\\\"'>\\n<md:lastname>Birk</md:lastname>\\n<md:firstname>Sebastian</md:firstname>\\n<md:orcid>0000-0002-2597-8692</md:orcid>\\n</md:author>\\n<md:year>2019</md:year>\\n<md:title>A new broad typology for rivers and lakes in Europe: Development and application for large-scale environmental assessments</md:title>\\n<md:source id='\\\"ref102261.journal14514\\\"' relatedtermids='\\\"33964\\\"'>Science of the Total Environment</md:source>\\n<md:volume>697</md:volume>\\n<md:uri>https://doi.org/10.1016/j.scitotenv.2019.134043</md:uri>\\n<md:pages>134043</md:pages>\\n</md:reference>\\n<md:reference details=\"\" id='\\\"ref102257\\\"' relationtype='\\\"Further' relationtypeid='\\\"17\\\"'>\\n<md:author id='\\\"ref102257.author72412\\\"'>\\n<md:lastname>Duscher</md:lastname>\\n<md:firstname>Klaus</md:firstname>\\n</md:author>\\n<md:author id='\\\"ref102257.author72413\\\"'>\\n<md:lastname>Günther</md:lastname>\\n<md:firstname>Andreas</md:firstname>\\n</md:author>\\n<md:author id='\\\"ref102257.author72414\\\"'>\\n<md:lastname>Richts</md:lastname>\\n<md:firstname>Andrea</md:firstname>\\n</md:author>\\n<md:author id='\\\"ref102257.author72415\\\"'>\\n<md:lastname>Clos</md:lastname>\\n<md:firstname>Patrick</md:firstname>\\n</md:author>\\n<md:author id='\\\"ref102257.author72416\\\"'>\\n<md:lastname>Philipp</md:lastname>\\n<md:firstname>Uta</md:firstname>\\n</md:author>\\n<md:author id='\\\"ref102257.author72417\\\"'>\\n<md:lastname>Struckmeier</md:lastname>\\n<md:firstname>Wilhelm</md:firstname>\\n</md:author>\\n<md:year>2015</md:year>\\n<md:title>The GIS layers of the “International Hydrogeological Map of Europe 1:1,500,000” in a vector format</md:title>\\n<md:source id='\\\"ref102257.journal6666\\\"' relatedtermids='\\\"33974,34073\\\"'>Hydrogeology Journal</md:source>\\n<md:volume>23(8)</md:volume>\\n<md:uri>https://doi.org/10.1007/s10040-015-1296-4</md:uri>\\n<md:pages>1867-1875</md:pages>\\n</md:reference>\\n<md:reference details=\"\" id='\\\"ref102263\\\"' relationtype='\\\"Further' relationtypeid='\\\"17\\\"'>\\n<md:author id='\\\"ref102263.author72429\\\"'>\\n<md:lastname>European Commission</md:lastname>\\n</md:author>\\n<md:year>2000</md:year>\\n<md:title>Directive 2000/60/EC of the European Parliament and of the council of 23rd October 2000 establishing a framework for community action in the field of water policy.</md:title>\\n<md:source>Official Journal of the European Communities, L327/1. Brussels.</md:source>\\n</md:reference>\\n<md:reference details=\"\" id='\\\"ref102259\\\"' relationtype='\\\"Further' relationtypeid='\\\"17\\\"'>\\n<md:author id='\\\"ref102259.author72418\\\"'>\\n<md:lastname>European Environment Agency</md:lastname>\\n<md:firstname>(EEA)</md:firstname>\\n</md:author>\\n<md:year>2019</md:year>\\n<md:title>Biogeographical regions</md:title>\\n<md:source>Accessed 15.3.2016 and 15.2.2019</md:source>\\n<md:uri>https://www.eea.europa.eu/data-and-maps/data/biogeographical-regions-europe-3</md:uri>\\n</md:reference>\\n<md:reference details=\"\" id='\\\"ref102258\\\"' relationtype='\\\"Further' relationtypeid='\\\"17\\\"'>\\n<md:author id='\\\"ref102258.author72418\\\"'>\\n<md:lastname>European Environment Agency</md:lastname>\\n<md:firstname>(EEA)</md:firstname>\\n</md:author>\\n<md:year>2012</md:year>\\n<md:title>European catchments and Rivers network system (Ecrins)</md:title>\\n<md:source>Accessed 15.3.2016</md:source>\\n<md:uri>https://www.eea.europa.eu/data-and-maps/data/european-catchments-and-rivers-network#tab-figures-produced</md:uri>\\n</md:reference>\\n<md:reference details=\"\" id='\\\"ref102270\\\"' relationtype='\\\"Further' relationtypeid='\\\"17\\\"'>\\n<md:author id='\\\"ref102270.author72418\\\"'>\\n<md:lastname>European Environment Agency</md:lastname>\\n<md:firstname>(EEA)</md:firstname>\\n</md:author>\\n<md:year>2016</md:year>\\n<md:title>Waterbase - Water Quality</md:title>\\n<md:source>Accessed:15.3.2016</md:source>\\n<md:uri>https://www.eea.europa.eu/data-and-maps/data/waterbase-water-quality-1</md:uri>\\n</md:reference>\\n<md:reference details=\"\" id='\\\"ref102260\\\"' relationtype='\\\"Further' relationtypeid='\\\"17\\\"'>\\n<md:author id='\\\"ref102260.author72410\\\"'>\\n<md:lastname>Globevnik</md:lastname>\\n<md:firstname>Lidija</md:firstname>\\n<md:email>lidija.globevnik@guest.arnes.si</md:email>\\n<md:orcid>0000-0002-1510-3286</md:orcid>\\n</md:author>\\n<md:author id='\\\"ref102260.author72419\\\"'>\\n<md:lastname>Koprivsek</md:lastname>\\n<md:firstname>Maja</md:firstname>\\n</md:author>\\n<md:author id='\\\"ref102260.author72420\\\"'>\\n<md:lastname>Snoj</md:lastname>\\n<md:firstname>Luka</md:firstname>\\n</md:author>\\n<md:year>2017</md:year>\\n<md:title>Metadata to the MARS spatial database</md:title>\\n<md:source id='\\\"ref102260.journal16983\\\"'>Freshwater Metadata Journal</md:source>\\n<md:uri>https://doi.org/10.15504/fmj.2017.21</md:uri>\\n<md:pages>1-7</md:pages>\\n</md:reference>\\n<md:reference details=\"\" id='\\\"ref102262\\\"' relationtype='\\\"Further' relationtypeid='\\\"17\\\"'>\\n<md:author id='\\\"ref102262.author72428\\\"'>\\n<md:lastname>Joint Research Centre</md:lastname>\\n<md:firstname>JRC</md:firstname>\\n</md:author>\\n<md:year>2016</md:year>\\n<md:title>European Commission Joint Research Center 2016. The European Soil Data Centre (ESDAC).</md:title>\\n<md:source>https://esdac.jrc.ec.europa.eu/ and http://eusoils.jrc.ec.europa.eu/, accessed 15.3.2016.</md:source>\\n</md:reference>\\n<md:extent>\\n<md:geographic>\\n<md:westboundlongitude>-24.1722</md:westboundlongitude>\\n<md:eastboundlongitude>42.6601</md:eastboundlongitude>\\n<md:southboundlatitude>33.7274</md:southboundlatitude>\\n<md:northboundlatitude>71.1857</md:northboundlatitude>\\n<md:meanlongitude>9.24395</md:meanlongitude>\\n<md:meanlatitude>52.45655</md:meanlatitude>\\n</md:geographic>\\n<md:topotype id='\\\"topotype1\\\"'>not specified</md:topotype>\\n</md:extent>\\n<md:event id='\\\"event2920149\\\"'>\\n<md:label>Europe_rivers_lakes</md:label>\\n<md:latitude>33.7274</md:latitude>\\n<md:longitude>-24.1722</md:longitude>\\n<md:latitude2>71.1857</md:latitude2>\\n<md:longitude2>42.6601</md:longitude2>\\n<md:method id='\\\"event2920149.method10667\\\"' relatedtermids='\\\"19134,19843\\\"'>\\n<md:name>Multiple investigations</md:name>\\n<md:optionalname>MULT</md:optionalname>\\n</md:method>\\n</md:event>\\n<md:size points=\"\" unit='\\\"data'>30</md:size>\\n<md:license id='\\\"license21\\\"'>\\n<md:label>CC-BY-4.0</md:label>\\n<md:name>Creative Commons Attribution 4.0 International</md:name>\\n<md:uri>https://creativecommons.org/licenses/by/4.0/</md:uri>\\n</md:license>\\n<md:matrixcolumn col='\\\"0\\\"' id='\\\"col0.ds13784049\\\"' label='\\\"Europe_rivers_lakes.2\\\"' source='\\\"data\\\"' type='\\\"string\\\"'>\\n<md:parameter id='\\\"col0.ds13784049.param99583\\\"'>\\n<md:name>File content</md:name>\\n<md:shortname>Content</md:shortname>\\n</md:parameter>\\n<md:pi id='\\\"col0.ds13784049.pi72410\\\"'>\\n<md:lastname>Globevnik</md:lastname>\\n<md:firstname>Lidija</md:firstname>\\n<md:email>lidija.globevnik@guest.arnes.si</md:email>\\n<md:orcid>0000-0002-1510-3286</md:orcid>\\n</md:pi>\\n<md:caption>Content</md:caption>\\n</md:matrixcolumn>\\n<md:matrixcolumn col='\\\"1\\\"' id='\\\"col1.ds13784050\\\"' label='\\\"Europe_rivers_lakes.3\\\"' source='\\\"data\\\"' type='\\\"string\\\"'>\\n<md:parameter id='\\\"col1.ds13784050.param25541\\\"'>\\n<md:name>File name</md:name>\\n<md:shortname>File name</md:shortname>\\n</md:parameter>\\n<md:pi id='\\\"col1.ds13784050.pi72410\\\"'>\\n<md:lastname>Globevnik</md:lastname>\\n<md:firstname>Lidija</md:firstname>\\n<md:email>lidija.globevnik@guest.arnes.si</md:email>\\n<md:orcid>0000-0002-1510-3286</md:orcid>\\n</md:pi>\\n<md:caption>File name</md:caption>\\n</md:matrixcolumn>\\n<md:matrixcolumn col='\\\"2\\\"' id='\\\"col2.ds13784051\\\"' label='\\\"Europe_rivers_lakes.4\\\"' source='\\\"data\\\"' type='\\\"string\\\"'>\\n<md:parameter id='\\\"col2.ds13784051.param16143\\\"'>\\n<md:name>File format</md:name>\\n<md:shortname>File format</md:shortname>\\n</md:parameter>\\n<md:pi id='\\\"col2.ds13784051.pi72410\\\"'>\\n<md:lastname>Globevnik</md:lastname>\\n<md:firstname>Lidija</md:firstname>\\n<md:email>lidija.globevnik@guest.arnes.si</md:email>\\n<md:orcid>0000-0002-1510-3286</md:orcid>\\n</md:pi>\\n<md:caption>File format</md:caption>\\n</md:matrixcolumn>\\n<md:matrixcolumn col='\\\"3\\\"' id='\\\"col3.ds13784052\\\"' label='\\\"Europe_rivers_lakes.5\\\"' source='\\\"data\\\"' type='\\\"string\\\"'>\\n<md:parameter id='\\\"col3.ds13784052.param1570\\\"'>\\n<md:name>Comment</md:name>\\n<md:shortname>Comment</md:shortname>\\n</md:parameter>\\n<md:pi id='\\\"col3.ds13784052.pi72410\\\"'>\\n<md:lastname>Globevnik</md:lastname>\\n<md:firstname>Lidija</md:firstname>\\n<md:email>lidija.globevnik@guest.arnes.si</md:email>\\n<md:orcid>0000-0002-1510-3286</md:orcid>\\n</md:pi>\\n<md:comment>Encoding</md:comment>\\n<md:caption>Comment (Encoding)</md:caption>\\n</md:matrixcolumn>\\n<md:matrixcolumn col='\\\"4\\\"' id='\\\"col4.ds13784053\\\"' label='\\\"Europe_rivers_lakes.6\\\"' source='\\\"data\\\"' type='\\\"string\\\"'>\\n<md:parameter id='\\\"col4.ds13784053.param1570\\\"'>\\n<md:name>Comment</md:name>\\n<md:shortname>Comment</md:shortname>\\n</md:parameter>\\n<md:pi id='\\\"col4.ds13784053.pi72410\\\"'>\\n<md:lastname>Globevnik</md:lastname>\\n<md:firstname>Lidija</md:firstname>\\n<md:email>lidija.globevnik@guest.arnes.si</md:email>\\n<md:orcid>0000-0002-1510-3286</md:orcid>\\n</md:pi>\\n<md:comment>Geometry</md:comment>\\n<md:caption>Comment (Geometry)</md:caption>\\n</md:matrixcolumn>\\n<md:matrixcolumn col='\\\"5\\\"' id='\\\"col5.ds13784054\\\"' label='\\\"Europe_rivers_lakes.7\\\"' source='\\\"data\\\"' type='\\\"string\\\"'>\\n<md:parameter id='\\\"col5.ds13784054.param88478\\\"' relatedtermids='\\\"1073171\\\"'>\\n<md:name>Unit</md:name>\\n<md:shortname>Unit</md:shortname>\\n</md:parameter>\\n<md:pi id='\\\"col5.ds13784054.pi72410\\\"'>\\n<md:lastname>Globevnik</md:lastname>\\n<md:firstname>Lidija</md:firstname>\\n<md:email>lidija.globevnik@guest.arnes.si</md:email>\\n<md:orcid>0000-0002-1510-3286</md:orcid>\\n</md:pi>\\n<md:caption>Unit</md:caption>\\n</md:matrixcolumn>\\n<md:matrixcolumn col='\\\"6\\\"' id='\\\"col6.ds13784055\\\"' label='\\\"Europe_rivers_lakes.8\\\"' source='\\\"data\\\"' type='\\\"string\\\"'>\\n<md:parameter id='\\\"col6.ds13784055.param156444\\\"'>\\n<md:name>Coordinate reference system</md:name>\\n<md:shortname>CRC</md:shortname>\\n</md:parameter>\\n<md:pi id='\\\"col6.ds13784055.pi72410\\\"'>\\n<md:lastname>Globevnik</md:lastname>\\n<md:firstname>Lidija</md:firstname>\\n<md:email>lidija.globevnik@guest.arnes.si</md:email>\\n<md:orcid>0000-0002-1510-3286</md:orcid>\\n</md:pi>\\n<md:caption>CRC</md:caption>\\n</md:matrixcolumn>\\n<md:matrixcolumn col='\\\"7\\\"' format='\\\"######0\\\"' id='\\\"col7.ds13784056\\\"' label='\\\"Europe_rivers_lakes.9\\\"' source='\\\"data\\\"' type='\\\"numeric\\\"'>\\n<md:parameter id='\\\"col7.ds13784056.param24303\\\"' relatedtermids='\\\"1073158\\\"'>\\n<md:name>Number</md:name>\\n<md:shortname>No</md:shortname>\\n</md:parameter>\\n<md:pi id='\\\"col7.ds13784056.pi72410\\\"'>\\n<md:lastname>Globevnik</md:lastname>\\n<md:firstname>Lidija</md:firstname>\\n<md:email>lidija.globevnik@guest.arnes.si</md:email>\\n<md:orcid>0000-0002-1510-3286</md:orcid>\\n</md:pi>\\n<md:comment>Feature count</md:comment>\\n<md:caption>No (Feature count)</md:caption>\\n</md:matrixcolumn>\\n<md:matrixcolumn col='\\\"8\\\"' format='\\\"#####0.000\\\"' id='\\\"col8.ds13784057\\\"' label='\\\"Europe_rivers_lakes.10\\\"' source='\\\"data\\\"' type='\\\"numeric\\\"'>\\n<md:parameter id='\\\"col8.ds13784057.param16144\\\"' relatedtermids='\\\"1073204\\\"'>\\n<md:name>File size</md:name>\\n<md:shortname>File size</md:shortname>\\n<md:unit>kByte</md:unit>\\n</md:parameter>\\n<md:pi id='\\\"col8.ds13784057.pi72410\\\"'>\\n<md:lastname>Globevnik</md:lastname>\\n<md:firstname>Lidija</md:firstname>\\n<md:email>lidija.globevnik@guest.arnes.si</md:email>\\n<md:orcid>0000-0002-1510-3286</md:orcid>\\n</md:pi>\\n<md:caption>File size [kByte]</md:caption>\\n</md:matrixcolumn>\\n<md:matrixcolumn col='\\\"9\\\"' id='\\\"col9.ds13784058\\\"' label='\\\"Europe_rivers_lakes.11\\\"' source='\\\"data\\\"' type='\\\"uri\\\"'>\\n<md:parameter id='\\\"col9.ds13784058.param54251\\\"'>\\n<md:name>Uniform resource locator/link to file</md:name>\\n<md:shortname>URL file</md:shortname>\\n</md:parameter>\\n<md:pi id='\\\"col9.ds13784058.pi72410\\\"'>\\n<md:lastname>Globevnik</md:lastname>\\n<md:firstname>Lidija</md:firstname>\\n<md:email>lidija.globevnik@guest.arnes.si</md:email>\\n<md:orcid>0000-0002-1510-3286</md:orcid>\\n</md:pi>\\n<md:caption>URL file</md:caption>\\n</md:matrixcolumn>\\n<md:keywords>\\n<md:techkeyword type='\\\"autoGenerated\\\"'>citable</md:techkeyword>\\n<md:keyword id='\\\"keywords.term51487\\\"' type='\\\"fromDatabase\\\"'>dominant catchment geology</md:keyword>\\n<md:keyword id='\\\"keywords.term51488\\\"' type='\\\"fromDatabase\\\"'>ECRINS</md:keyword>\\n<md:keyword id='\\\"keywords.term48549\\\"' type='\\\"fromDatabase\\\"'>Europe</md:keyword>\\n<md:keyword id='\\\"keywords.term48289\\\"' type='\\\"fromDatabase\\\"'>lakes</md:keyword>\\n<md:keyword id='\\\"keywords.term51469\\\"' type='\\\"fromDatabase\\\"'>rivers</md:keyword>\\n<md:keyword id='\\\"keywords.term51486\\\"' type='\\\"fromDatabase\\\"'>typology</md:keyword>\\n<md:keyword id='\\\"keywords.term51489\\\"' type='\\\"fromDatabase\\\"'>Water Framework Directive</md:keyword>\\n<md:techkeyword type='\\\"autoGenerated\\\"'>author30659</md:techkeyword>\\n<md:techkeyword type='\\\"autoGenerated\\\"'>author72410</md:techkeyword>\\n<md:techkeyword type='\\\"autoGenerated\\\"'>author72411</md:techkeyword>\\n<md:techkeyword type='\\\"autoGenerated\\\"'>author72412</md:techkeyword>\\n<md:techkeyword type='\\\"autoGenerated\\\"'>author72413</md:techkeyword>\\n<md:techkeyword type='\\\"autoGenerated\\\"'>author72414</md:techkeyword>\\n<md:techkeyword type='\\\"autoGenerated\\\"'>author72415</md:techkeyword>\\n<md:techkeyword type='\\\"autoGenerated\\\"'>author72416</md:techkeyword>\\n<md:techkeyword type='\\\"autoGenerated\\\"'>author72417</md:techkeyword>\\n<md:techkeyword type='\\\"autoGenerated\\\"'>author72418</md:techkeyword>\\n<md:techkeyword type='\\\"autoGenerated\\\"'>author72419</md:techkeyword>\\n<md:techkeyword type='\\\"autoGenerated\\\"'>author72420</md:techkeyword>\\n<md:techkeyword type='\\\"autoGenerated\\\"'>author72421</md:techkeyword>\\n<md:techkeyword type='\\\"autoGenerated\\\"'>author72422</md:techkeyword>\\n<md:techkeyword type='\\\"autoGenerated\\\"'>author72423</md:techkeyword>\\n<md:techkeyword type='\\\"autoGenerated\\\"'>author72424</md:techkeyword>\\n<md:techkeyword type='\\\"autoGenerated\\\"'>author72425</md:techkeyword>\\n<md:techkeyword type='\\\"autoGenerated\\\"'>author72426</md:techkeyword>\\n<md:techkeyword type='\\\"autoGenerated\\\"'>author72427</md:techkeyword>\\n<md:techkeyword type='\\\"autoGenerated\\\"'>author72428</md:techkeyword>\\n<md:techkeyword type='\\\"autoGenerated\\\"'>author72429</md:techkeyword>\\n<md:techkeyword type='\\\"autoGenerated\\\"'>event2920149</md:techkeyword>\\n<md:techkeyword type='\\\"autoGenerated\\\"'>geocode1600</md:techkeyword>\\n<md:techkeyword type='\\\"autoGenerated\\\"'>geocode1601</md:techkeyword>\\n<md:techkeyword type='\\\"autoGenerated\\\"'>journal14514</md:techkeyword>\\n<md:techkeyword type='\\\"autoGenerated\\\"'>journal16983</md:techkeyword>\\n<md:techkeyword type='\\\"autoGenerated\\\"'>journal6666</md:techkeyword>\\n<md:techkeyword type='\\\"autoGenerated\\\"'>license21</md:techkeyword>\\n<md:techkeyword type='\\\"autoGenerated\\\"'>method10667</md:techkeyword>\\n<md:techkeyword type='\\\"autoGenerated\\\"'>param156444</md:techkeyword>\\n<md:techkeyword type='\\\"autoGenerated\\\"'>param1570</md:techkeyword>\\n<md:techkeyword type='\\\"autoGenerated\\\"'>param16143</md:techkeyword>\\n<md:techkeyword type='\\\"autoGenerated\\\"'>param16144</md:techkeyword>\\n<md:techkeyword type='\\\"autoGenerated\\\"'>param24303</md:techkeyword>\\n<md:techkeyword type='\\\"autoGenerated\\\"'>param25541</md:techkeyword>\\n<md:techkeyword type='\\\"autoGenerated\\\"'>param54251</md:techkeyword>\\n<md:techkeyword type='\\\"autoGenerated\\\"'>param88478</md:techkeyword>\\n<md:techkeyword type='\\\"autoGenerated\\\"'>param99583</md:techkeyword>\\n<md:techkeyword type='\\\"autoGenerated\\\"'>pi72410</md:techkeyword>\\n<md:techkeyword type='\\\"autoGenerated\\\"'>ref102257</md:techkeyword>\\n<md:techkeyword type='\\\"autoGenerated\\\"'>ref102258</md:techkeyword>\\n<md:techkeyword type='\\\"autoGenerated\\\"'>ref102259</md:techkeyword>\\n<md:techkeyword type='\\\"autoGenerated\\\"'>ref102260</md:techkeyword>\\n<md:techkeyword type='\\\"autoGenerated\\\"'>ref102261</md:techkeyword>\\n<md:techkeyword type='\\\"autoGenerated\\\"'>ref102262</md:techkeyword>\\n<md:techkeyword type='\\\"autoGenerated\\\"'>ref102263</md:techkeyword>\\n<md:techkeyword type='\\\"autoGenerated\\\"'>ref102270</md:techkeyword>\\n<md:techkeyword type='\\\"autoGenerated\\\"'>term48289</md:techkeyword>\\n<md:techkeyword type='\\\"autoGenerated\\\"'>term48549</md:techkeyword>\\n<md:techkeyword type='\\\"autoGenerated\\\"'>term51469</md:techkeyword>\\n<md:techkeyword type='\\\"autoGenerated\\\"'>term51486</md:techkeyword>\\n<md:techkeyword type='\\\"autoGenerated\\\"'>term51487</md:techkeyword>\\n<md:techkeyword type='\\\"autoGenerated\\\"'>term51488</md:techkeyword>\\n<md:techkeyword type='\\\"autoGenerated\\\"'>term51489</md:techkeyword>\\n<md:techkeyword type='\\\"autoGenerated\\\"'>topotype1</md:techkeyword>\\n</md:keywords>\\n<md:technicalinfo>\\n<md:entry key='\\\"xmlLastModified\\\"' value='\\\"2020-04-24T10:17:39Z\\\"/'>\\n<md:entry key='\\\"filename\\\"' value='\\\"Globevnik_etal_2019\\\"/'>\\n<md:entry key='\\\"mimeType\\\"' value='\\\"text/tab-separated-values\\\"/'>\\n<md:entry key='\\\"status\\\"' value='\\\"published\\\"/'>\\n<md:entry key='\\\"status_num\\\"' value='\\\"4\\\"/'>\\n<md:entry key='\\\"DOIRegistryStatus\\\"' value='\\\"registered\\\"/'>\\n<md:entry key='\\\"DOIRegistryStatus_num\\\"' value='\\\"4\\\"/'>\\n<md:entry key='\\\"loginOption\\\"' value='\\\"unrestricted\\\"/'>\\n<md:entry key='\\\"loginOption_num\\\"' value='\\\"1\\\"/'>\\n</md:entry></md:entry></md:entry></md:entry></md:entry></md:entry></md:entry></md:entry></md:entry></md:technicalinfo>\\n</md:metadata>\",\"sf-idDataSet\":908578,\"agg-method\":\"Multiple investigations\",\"xml-sitemap\":\"<url><loc>https://doi.pangaea.de/10.1594/PANGAEA.908578</loc><lastmod>2020-04-24</lastmod></url>\",\"agg-topic\":[\"Environmental Sciences\",\"Ecology\"],\"westBoundLongitude\":-24.1722,\"northBoundLatitude\":71.1857,\"sp-dataStatus\":4,\"nDataPoints\":30,\"sp-hidden\":false,\"agg-location\":\"Europe\",\"internal-source\":\"standard\",\"southBoundLatitude\":33.7274,\"boost\":1.0,\"oaiSet\":[\"citable\",\"topicEcology\"]}}</p></body></html>"
      ]
     },
     "execution_count": 54,
     "metadata": {},
     "output_type": "execute_result"
    }
   ],
   "source": [
    "# df['all'][0]"
   ]
  },
  {
   "cell_type": "code",
   "execution_count": null,
   "metadata": {},
   "outputs": [],
   "source": []
  },
  {
   "cell_type": "code",
   "execution_count": null,
   "metadata": {},
   "outputs": [],
   "source": []
  },
  {
   "cell_type": "code",
   "execution_count": null,
   "metadata": {},
   "outputs": [],
   "source": []
  },
  {
   "cell_type": "code",
   "execution_count": null,
   "metadata": {},
   "outputs": [],
   "source": []
  },
  {
   "cell_type": "code",
   "execution_count": null,
   "metadata": {},
   "outputs": [],
   "source": []
  },
  {
   "cell_type": "code",
   "execution_count": null,
   "metadata": {},
   "outputs": [],
   "source": []
  },
  {
   "cell_type": "code",
   "execution_count": 314,
   "metadata": {},
   "outputs": [
    {
     "data": {
      "text/html": [
       "<div>\n",
       "<style scoped>\n",
       "    .dataframe tbody tr th:only-of-type {\n",
       "        vertical-align: middle;\n",
       "    }\n",
       "\n",
       "    .dataframe tbody tr th {\n",
       "        vertical-align: top;\n",
       "    }\n",
       "\n",
       "    .dataframe thead th {\n",
       "        text-align: right;\n",
       "    }\n",
       "</style>\n",
       "<table border=\"1\" class=\"dataframe\">\n",
       "  <thead>\n",
       "    <tr style=\"text-align: right;\">\n",
       "      <th></th>\n",
       "      <th>Resource</th>\n",
       "      <th>count</th>\n",
       "    </tr>\n",
       "  </thead>\n",
       "  <tbody>\n",
       "    <tr>\n",
       "      <td>29990</td>\n",
       "      <td>/?format=zip</td>\n",
       "      <td>1</td>\n",
       "    </tr>\n",
       "    <tr>\n",
       "      <td>54765</td>\n",
       "      <td>/?format=html</td>\n",
       "      <td>1</td>\n",
       "    </tr>\n",
       "    <tr>\n",
       "      <td>55240</td>\n",
       "      <td>/?format=textfile</td>\n",
       "      <td>1</td>\n",
       "    </tr>\n",
       "  </tbody>\n",
       "</table>\n",
       "</div>"
      ],
      "text/plain": [
       "                Resource  count\n",
       "29990       /?format=zip      1\n",
       "54765      /?format=html      1\n",
       "55240  /?format=textfile      1"
      ]
     },
     "execution_count": 314,
     "metadata": {},
     "output_type": "execute_result"
    }
   ],
   "source": [
    "# df = df[~df['Resource'].apply(lambda x: re.search('\\.\\d+\\?',x))]\n",
    "# df\n",
    "# df = df[~df.Resource.str.contains('PANGAEA.')]\n",
    "# df"
   ]
  },
  {
   "cell_type": "code",
   "execution_count": null,
   "metadata": {},
   "outputs": [],
   "source": []
  },
  {
   "cell_type": "code",
   "execution_count": 217,
   "metadata": {},
   "outputs": [],
   "source": [
    "# Data = Data[~Data['remove']==True]\n",
    "# Data.to_csv('review')"
   ]
  },
  {
   "cell_type": "code",
   "execution_count": 282,
   "metadata": {},
   "outputs": [
    {
     "data": {
      "text/plain": [
       "(85537, 13)"
      ]
     },
     "execution_count": 282,
     "metadata": {},
     "output_type": "execute_result"
    }
   ],
   "source": [
    "# Data.shape"
   ]
  },
  {
   "cell_type": "code",
   "execution_count": 70,
   "metadata": {},
   "outputs": [],
   "source": [
    "# Data.head(100).to_csv('t')"
   ]
  },
  {
   "cell_type": "code",
   "execution_count": 147,
   "metadata": {},
   "outputs": [],
   "source": [
    "# searchData.referer.value_counts()"
   ]
  },
  {
   "cell_type": "code",
   "execution_count": 148,
   "metadata": {},
   "outputs": [],
   "source": [
    "# searchData.referer.value_counts().to_csv('c')"
   ]
  },
  {
   "cell_type": "code",
   "execution_count": 149,
   "metadata": {},
   "outputs": [],
   "source": [
    "# searchData.ip.value_counts()"
   ]
  },
  {
   "cell_type": "code",
   "execution_count": 347,
   "metadata": {},
   "outputs": [
    {
     "data": {
      "text/plain": [
       "<md:title>Broad typology for rivers and lakes in Europe for large scale analysis</md:title>"
      ]
     },
     "execution_count": 347,
     "metadata": {},
     "output_type": "execute_result"
    }
   ],
   "source": []
  },
  {
   "cell_type": "code",
   "execution_count": 311,
   "metadata": {},
   "outputs": [],
   "source": [
    "# data = {}\n",
    "# data['people'] = []\n",
    "# data['people'].append({\n",
    "#     'name': 'Scott',\n",
    "#     'website': 'stackabuse.com',\n",
    "#     'from': 'Nebraska'\n",
    "# })"
   ]
  },
  {
   "cell_type": "code",
   "execution_count": 312,
   "metadata": {},
   "outputs": [
    {
     "data": {
      "text/plain": [
       "{'people': [{'name': 'Scott',\n",
       "   'website': 'stackabuse.com',\n",
       "   'from': 'Nebraska'}]}"
      ]
     },
     "execution_count": 312,
     "metadata": {},
     "output_type": "execute_result"
    }
   ],
   "source": [
    "# data"
   ]
  },
  {
   "cell_type": "code",
   "execution_count": null,
   "metadata": {},
   "outputs": [],
   "source": []
  }
 ],
 "metadata": {
  "kernelspec": {
   "display_name": "Python 3",
   "language": "python",
   "name": "python3"
  },
  "language_info": {
   "codemirror_mode": {
    "name": "ipython",
    "version": 3
   },
   "file_extension": ".py",
   "mimetype": "text/x-python",
   "name": "python",
   "nbconvert_exporter": "python",
   "pygments_lexer": "ipython3",
   "version": "3.7.4"
  }
 },
 "nbformat": 4,
 "nbformat_minor": 2
}
