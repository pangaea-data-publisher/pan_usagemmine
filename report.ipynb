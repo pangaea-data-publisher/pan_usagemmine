{
 "cells": [
  {
   "cell_type": "code",
   "execution_count": 44,
   "metadata": {},
   "outputs": [],
   "source": [
    "import pandas as pd\n",
    "import json\n",
    "import requests\n",
    "import re\n",
    "import numpy as np\n",
    "from datetime import datetime\n",
    "import pytz\n",
    "from urllib.parse import urlparse,unquote\n",
    "from urllib.parse import parse_qs\n",
    "from bs4 import BeautifulSoup\n",
    "from requests.exceptions import HTTPError\n"
   ]
  },
  {
   "cell_type": "code",
   "execution_count": 45,
   "metadata": {},
   "outputs": [],
   "source": [
    "import os\n",
    "current_file = os.getcwd()\n",
    "myfile = os.path.join(current_file, 'doi.pangaea.de-access-ipanonymized.bz2')"
   ]
  },
  {
   "cell_type": "code",
   "execution_count": 46,
   "metadata": {},
   "outputs": [],
   "source": [
    "logData = pd.read_csv(myfile,\n",
    "    sep=r'\\s(?=(?:[^\"]*\"[^\"]*\")*[^\"]*$)(?![^\\[]*\\])',\n",
    "    engine='python',\n",
    "    na_values='-',\n",
    "    header=None,\n",
    "    usecols=[0,1,2, 3, 4, 5, 7,8],encoding=\"utf-8\",\n",
    "    names=['ip','website','session_id', 'time', 'user_info', 'status', 'referer','user_agent'])"
   ]
  },
  {
   "cell_type": "code",
   "execution_count": 47,
   "metadata": {},
   "outputs": [],
   "source": [
    "logData['session_id'] = logData['session_id'].str.split('>').str[1]"
   ]
  },
  {
   "cell_type": "code",
   "execution_count": 48,
   "metadata": {},
   "outputs": [],
   "source": [
    "logData['status'] = logData['status'].fillna(0) #convert non-finite values (NA or inf) to integer\n",
    "logData['status'] = logData['status'].astype(int)\n",
    "logData['session_id'] = logData['session_id'].fillna('-') #convert non-finite values (NA or inf) to integer"
   ]
  },
  {
   "cell_type": "code",
   "execution_count": 49,
   "metadata": {},
   "outputs": [],
   "source": [
    "logData['user_info']= logData['user_info'].apply(lambda x: re.sub(r'^\"|\"$', '', str(x)) )\n",
    "logData['user_agent']= logData['user_agent'].apply(lambda x: re.sub(r'^\"|\"$', '',str(x)) )\n",
    "logData['referer']= logData['referer'].apply(lambda x: re.sub(r'^\"|\"$', '',str(x)) )"
   ]
  },
  {
   "cell_type": "code",
   "execution_count": 50,
   "metadata": {},
   "outputs": [],
   "source": [
    "logData['request_type'] = logData['user_info'].str.split().str[0]\n",
    "logData['resource'] = logData['user_info'].str.split().str[1]\n",
    "logData['time']= logData['time'].str.split().str[0]\n",
    "logData['time']= logData['time'].str.split('[').str[1]"
   ]
  },
  {
   "cell_type": "code",
   "execution_count": 51,
   "metadata": {},
   "outputs": [
    {
     "data": {
      "text/plain": [
       "(3527530, 10)"
      ]
     },
     "execution_count": 51,
     "metadata": {},
     "output_type": "execute_result"
    }
   ],
   "source": [
    "logData.shape"
   ]
  },
  {
   "cell_type": "code",
   "execution_count": 52,
   "metadata": {},
   "outputs": [
    {
     "data": {
      "text/plain": [
       "(3509595, 10)"
      ]
     },
     "execution_count": 52,
     "metadata": {},
     "output_type": "execute_result"
    }
   ],
   "source": [
    "logData = logData[~logData.session_id.str.contains(';C')]\n",
    "logData.shape"
   ]
  },
  {
   "cell_type": "code",
   "execution_count": 53,
   "metadata": {},
   "outputs": [
    {
     "data": {
      "text/plain": [
       "(702717, 10)"
      ]
     },
     "execution_count": 53,
     "metadata": {},
     "output_type": "execute_result"
    }
   ],
   "source": [
    "logData = logData[((logData.user_info.str.contains('format=zip')) | (logData.user_info.str.contains('format=html'))| (logData.user_info.str.contains('format=textfile'))) ]\n",
    "logData.shape"
   ]
  },
  {
   "cell_type": "code",
   "execution_count": 54,
   "metadata": {},
   "outputs": [],
   "source": [
    "def time_format(x):\n",
    "    return datetime.strptime(x,'%d/%b/%Y:%H:%M:%S')"
   ]
  },
  {
   "cell_type": "code",
   "execution_count": 55,
   "metadata": {},
   "outputs": [],
   "source": [
    "logData['time'] = logData['time'].apply(time_format)"
   ]
  },
  {
   "cell_type": "code",
   "execution_count": 56,
   "metadata": {},
   "outputs": [],
   "source": [
    "logData = logData[(logData.request_type == 'GET') & ((logData.status == 200 ) | (logData.status == 304 ))]"
   ]
  },
  {
   "cell_type": "code",
   "execution_count": 57,
   "metadata": {},
   "outputs": [
    {
     "data": {
      "text/plain": [
       "(83762, 10)"
      ]
     },
     "execution_count": 57,
     "metadata": {},
     "output_type": "execute_result"
    }
   ],
   "source": [
    "logData = logData[~logData['resource'].str.match(\n",
    "    r'^/media|^/static|^/admin|^/robots.txt$|^/favicon.ico$')]\n",
    "logData = logData[~logData['user_agent'].str.match(\n",
    "    r'.*?bot|.*?spider|.*?crawler|.*?slurp', flags=re.I).fillna(False)]\n",
    "logData.shape"
   ]
  },
  {
   "cell_type": "code",
   "execution_count": 92,
   "metadata": {
    "collapsed": true
   },
   "outputs": [],
   "source": [
    "Data =logData.copy()"
   ]
  },
  {
   "cell_type": "code",
   "execution_count": 93,
   "metadata": {},
   "outputs": [
    {
     "data": {
      "text/plain": [
       "(24583, 10)"
      ]
     },
     "execution_count": 93,
     "metadata": {},
     "output_type": "execute_result"
    }
   ],
   "source": [
    "DataWO = Data[Data.session_id.str.contains('-')]\n",
    "DataWith = Data[~Data.session_id.str.contains('-')]\n",
    "DataWith.shape"
   ]
  },
  {
   "cell_type": "code",
   "execution_count": 94,
   "metadata": {},
   "outputs": [
    {
     "data": {
      "text/plain": [
       "(23120, 10)"
      ]
     },
     "execution_count": 94,
     "metadata": {},
     "output_type": "execute_result"
    }
   ],
   "source": [
    "# we remove the session with only log because ?\n",
    "DataWith = DataWith.groupby(['session_id','user_agent']).filter(lambda x: len(x) > 1)\n",
    "DataWith.shape"
   ]
  },
  {
   "cell_type": "code",
   "execution_count": 95,
   "metadata": {},
   "outputs": [
    {
     "data": {
      "text/plain": [
       "5"
      ]
     },
     "execution_count": 95,
     "metadata": {},
     "output_type": "execute_result"
    }
   ],
   "source": [
    "DataWith['remove'] = np.random.randint(1, 6, DataWith.shape[0])\n",
    "DataWith['remove'].value_counts().index.size"
   ]
  },
  {
   "cell_type": "code",
   "execution_count": 96,
   "metadata": {},
   "outputs": [
    {
     "data": {
      "text/plain": [
       "(22658, 15)"
      ]
     },
     "execution_count": 96,
     "metadata": {},
     "output_type": "execute_result"
    }
   ],
   "source": [
    "i = DataWith['remove'].value_counts().index.size \n",
    "while i != 1 :\n",
    "    DataWith = DataWith.sort_values(['time','session_id'])\n",
    "    DataWith['delta_session'] = DataWith.session_id.ne(DataWith.session_id.shift(1))\n",
    "    DataWith['delta_resource']=DataWith.resource.ne(DataWith.resource.shift(1))\n",
    "    DataWith['delta_time']=DataWith['time'].diff().dt.total_seconds()\n",
    "    DataWith['delta_user_agent']=DataWith.user_agent.ne(DataWith.user_agent.shift(1))\n",
    "    DataWith['remove'] = (DataWith.delta_time > 30) & (DataWith.delta_session == False)  & (DataWith.delta_resource == False)\n",
    "    i = DataWith['remove'].value_counts().index.size \n",
    "    DataWith = DataWith[~DataWith['remove']==True]\n",
    "DataWith.shape"
   ]
  },
  {
   "cell_type": "code",
   "execution_count": 63,
   "metadata": {},
   "outputs": [],
   "source": [
    "DataWith = DataWith.drop(['delta_user_agent','delta_time','delta_resource','delta_session','remove'], axis=1)"
   ]
  },
  {
   "cell_type": "code",
   "execution_count": 64,
   "metadata": {
    "scrolled": true
   },
   "outputs": [
    {
     "name": "stderr",
     "output_type": "stream",
     "text": [
      "/opt/anaconda3/lib/python3.7/site-packages/ipykernel_launcher.py:1: SettingWithCopyWarning: \n",
      "A value is trying to be set on a copy of a slice from a DataFrame.\n",
      "Try using .loc[row_indexer,col_indexer] = value instead\n",
      "\n",
      "See the caveats in the documentation: http://pandas.pydata.org/pandas-docs/stable/user_guide/indexing.html#returning-a-view-versus-a-copy\n",
      "  \"\"\"Entry point for launching an IPython kernel.\n"
     ]
    }
   ],
   "source": [
    "DataWO['remove'] = np.random.randint(1, 6, DataWO.shape[0])"
   ]
  },
  {
   "cell_type": "code",
   "execution_count": 65,
   "metadata": {},
   "outputs": [
    {
     "data": {
      "text/plain": [
       "Int64Index([2, 3, 4, 5, 1], dtype='int64')"
      ]
     },
     "execution_count": 65,
     "metadata": {},
     "output_type": "execute_result"
    }
   ],
   "source": [
    "DataWO['remove'].value_counts().index"
   ]
  },
  {
   "cell_type": "code",
   "execution_count": 66,
   "metadata": {},
   "outputs": [
    {
     "data": {
      "text/plain": [
       "(58400, 15)"
      ]
     },
     "execution_count": 66,
     "metadata": {},
     "output_type": "execute_result"
    }
   ],
   "source": [
    "i = DataWO['remove'].value_counts().index.size \n",
    "while i != 1 :\n",
    "    DataWO = DataWO.sort_values(['time','ip'])\n",
    "    DataWO['delta_ip'] = DataWO.ip.ne(DataWO.ip.shift(1))\n",
    "    DataWO['delta_resource']=DataWO.resource.ne(DataWO.resource.shift(1))\n",
    "    DataWO['delta_time']=DataWO['time'].diff().dt.total_seconds()\n",
    "    DataWO['delta_user_agent']=DataWO.user_agent.ne(DataWO.user_agent.shift(1))\n",
    "    DataWO['remove'] = (DataWO.delta_time > 30) & (DataWO.delta_ip == False)  & (DataWO.delta_resource == False)\n",
    "    i = DataWO['remove'].value_counts().index.size \n",
    "    DataWO = DataWO[~DataWO['remove']==True]\n",
    "DataWO.shape\n"
   ]
  },
  {
   "cell_type": "code",
   "execution_count": 67,
   "metadata": {},
   "outputs": [],
   "source": [
    "DataWO = DataWO.drop(['delta_user_agent','delta_time','delta_resource','delta_ip','remove'], axis=1)"
   ]
  },
  {
   "cell_type": "code",
   "execution_count": 68,
   "metadata": {},
   "outputs": [],
   "source": [
    "DataA = DataWith.append(DataWO)"
   ]
  },
  {
   "cell_type": "code",
   "execution_count": 69,
   "metadata": {},
   "outputs": [
    {
     "data": {
      "text/plain": [
       "ip                      object\n",
       "website                 object\n",
       "session_id              object\n",
       "time            datetime64[ns]\n",
       "user_info               object\n",
       "status                   int64\n",
       "referer                 object\n",
       "user_agent              object\n",
       "request_type            object\n",
       "resource                object\n",
       "dtype: object"
      ]
     },
     "execution_count": 69,
     "metadata": {},
     "output_type": "execute_result"
    }
   ],
   "source": [
    "DataA = DataA.sort_values(['time','ip'])\n",
    "DataA.dtypes"
   ]
  },
  {
   "cell_type": "code",
   "execution_count": 70,
   "metadata": {},
   "outputs": [
    {
     "data": {
      "text/html": [
       "<div>\n",
       "<style scoped>\n",
       "    .dataframe tbody tr th:only-of-type {\n",
       "        vertical-align: middle;\n",
       "    }\n",
       "\n",
       "    .dataframe tbody tr th {\n",
       "        vertical-align: top;\n",
       "    }\n",
       "\n",
       "    .dataframe thead th {\n",
       "        text-align: right;\n",
       "    }\n",
       "</style>\n",
       "<table border=\"1\" class=\"dataframe\">\n",
       "  <thead>\n",
       "    <tr style=\"text-align: right;\">\n",
       "      <th></th>\n",
       "      <th>resource</th>\n",
       "      <th>count</th>\n",
       "      <th>paper_id</th>\n",
       "    </tr>\n",
       "  </thead>\n",
       "  <tbody>\n",
       "    <tr>\n",
       "      <td>0</td>\n",
       "      <td>/10.1594/PANGAEA.908578?format=html</td>\n",
       "      <td>80</td>\n",
       "      <td>908578</td>\n",
       "    </tr>\n",
       "    <tr>\n",
       "      <td>1</td>\n",
       "      <td>/10.1594/PANGAEA.734969?format=textfile</td>\n",
       "      <td>78</td>\n",
       "      <td>734969</td>\n",
       "    </tr>\n",
       "    <tr>\n",
       "      <td>2</td>\n",
       "      <td>/10.1594/PANGAEA.774574?format=textfile&amp;charse...</td>\n",
       "      <td>48</td>\n",
       "      <td>774574</td>\n",
       "    </tr>\n",
       "    <tr>\n",
       "      <td>3</td>\n",
       "      <td>/10.1594/PANGAEA.898014?format=html</td>\n",
       "      <td>39</td>\n",
       "      <td>898014</td>\n",
       "    </tr>\n",
       "    <tr>\n",
       "      <td>4</td>\n",
       "      <td>/10.1594/PANGAEA.805734?format=html</td>\n",
       "      <td>39</td>\n",
       "      <td>805734</td>\n",
       "    </tr>\n",
       "    <tr>\n",
       "      <td>...</td>\n",
       "      <td>...</td>\n",
       "      <td>...</td>\n",
       "      <td>...</td>\n",
       "    </tr>\n",
       "    <tr>\n",
       "      <td>58659</td>\n",
       "      <td>/10.1594/PANGAEA.773661?format=html</td>\n",
       "      <td>1</td>\n",
       "      <td>773661</td>\n",
       "    </tr>\n",
       "    <tr>\n",
       "      <td>58660</td>\n",
       "      <td>/10.1594/PANGAEA.293983?format=textfile</td>\n",
       "      <td>1</td>\n",
       "      <td>293983</td>\n",
       "    </tr>\n",
       "    <tr>\n",
       "      <td>58661</td>\n",
       "      <td>/10.1594/PANGAEA.678153?format=textfile&amp;charse...</td>\n",
       "      <td>1</td>\n",
       "      <td>678153</td>\n",
       "    </tr>\n",
       "    <tr>\n",
       "      <td>58662</td>\n",
       "      <td>/10.1594/PANGAEA.753142?format=textfile</td>\n",
       "      <td>1</td>\n",
       "      <td>753142</td>\n",
       "    </tr>\n",
       "    <tr>\n",
       "      <td>58663</td>\n",
       "      <td>/10.1594/PANGAEA.804477?format=textfile</td>\n",
       "      <td>1</td>\n",
       "      <td>804477</td>\n",
       "    </tr>\n",
       "  </tbody>\n",
       "</table>\n",
       "<p>58661 rows × 3 columns</p>\n",
       "</div>"
      ],
      "text/plain": [
       "                                                resource  count paper_id\n",
       "0                    /10.1594/PANGAEA.908578?format=html     80   908578\n",
       "1                /10.1594/PANGAEA.734969?format=textfile     78   734969\n",
       "2      /10.1594/PANGAEA.774574?format=textfile&charse...     48   774574\n",
       "3                    /10.1594/PANGAEA.898014?format=html     39   898014\n",
       "4                    /10.1594/PANGAEA.805734?format=html     39   805734\n",
       "...                                                  ...    ...      ...\n",
       "58659                /10.1594/PANGAEA.773661?format=html      1   773661\n",
       "58660            /10.1594/PANGAEA.293983?format=textfile      1   293983\n",
       "58661  /10.1594/PANGAEA.678153?format=textfile&charse...      1   678153\n",
       "58662            /10.1594/PANGAEA.753142?format=textfile      1   753142\n",
       "58663            /10.1594/PANGAEA.804477?format=textfile      1   804477\n",
       "\n",
       "[58661 rows x 3 columns]"
      ]
     },
     "execution_count": 70,
     "metadata": {},
     "output_type": "execute_result"
    }
   ],
   "source": [
    "top = DataA['resource'].value_counts()\n",
    "df = pd.DataFrame({'resource':top.index, 'count':top.values})\n",
    "df = df[df.resource.str.contains('PANGAEA.')]\n",
    "df['paper_id'] = 't'\n",
    "df['paper_id'] = df['resource'].apply(lambda x: re.search('\\.\\d+\\?',x).group())\n",
    "df['paper_id']= df['paper_id'].apply(lambda x: re.sub(r'^.|\\W', '', str(x)) )\n",
    "df\n",
    "# df['test']\n",
    "# df.to_csv('fv')\n",
    "# \\.\\d+\\?"
   ]
  },
  {
   "cell_type": "code",
   "execution_count": 71,
   "metadata": {},
   "outputs": [],
   "source": [
    "def fetch_all(x): \n",
    "    url = 'http://ws.pangaea.de/es/pangaea/panmd/'+x\n",
    "    response = requests.get(url) \n",
    "    soup = BeautifulSoup(response.text)\n",
    "    meta = soup.find_all()\n",
    "    if len(meta) > 0:\n",
    "        return meta\n",
    "    else:\n",
    "        return 'no meta data'"
   ]
  },
  {
   "cell_type": "code",
   "execution_count": null,
   "metadata": {},
   "outputs": [],
   "source": [
    "df['all'] = df['paper_id'].apply(fetch_all)"
   ]
  },
  {
   "cell_type": "code",
   "execution_count": null,
   "metadata": {},
   "outputs": [],
   "source": [
    "df = df[~df['all'].apply(lambda x: x == 'no meta data')]\n",
    "df"
   ]
  },
  {
   "cell_type": "code",
   "execution_count": null,
   "metadata": {},
   "outputs": [],
   "source": [
    "# df.to_csv('result_all_json')"
   ]
  },
  {
   "cell_type": "code",
   "execution_count": 97,
   "metadata": {},
   "outputs": [
    {
     "data": {
      "text/plain": [
       "session_id                        resource                                             \n",
       "-                                 /10.1594/PANGAEA.101325?format=textfile                        ['/10.1594/PANGAEA.101325?format=textfile']\n",
       "                                  /10.1594/PANGAEA.101326?format=textfile                        ['/10.1594/PANGAEA.101326?format=textfile']\n",
       "                                  /10.1594/PANGAEA.101327?format=textfile                        ['/10.1594/PANGAEA.101327?format=textfile']\n",
       "                                  /10.1594/PANGAEA.101328?format=textfile                        ['/10.1594/PANGAEA.101328?format=textfile']\n",
       "                                  /10.1594/PANGAEA.101329?format=textfile                        ['/10.1594/PANGAEA.101329?format=textfile']\n",
       "                                                                                                                 ...                        \n",
       "ff3960fe11a8da1230bb237ba1d552fa  /10.1594/PANGAEA.757561?format=textfile&charset=UTF-8    ['/10.1594/PANGAEA.757561?format=textfile&char...\n",
       "                                  /10.1594/PANGAEA.757562?format=textfile&charset=UTF-8    ['/10.1594/PANGAEA.757562?format=textfile&char...\n",
       "                                  /10.1594/PANGAEA.757563?format=html                                ['/10.1594/PANGAEA.757563?format=html']\n",
       "ff646e843108264510f3b07326225390  /10.1594/PANGAEA.876545?format=textfile&charset=UTF-8    ['/10.1594/PANGAEA.876545?format=textfile&char...\n",
       "                                  /10.1594/PANGAEA.906211?format=html                                ['/10.1594/PANGAEA.906211?format=html']\n",
       "Name: resource, Length: 67228, dtype: object"
      ]
     },
     "execution_count": 97,
     "metadata": {},
     "output_type": "execute_result"
    }
   ],
   "source": [
    "udf = DataA.copy()\n",
    "# udf\n",
    "udfGroup = udf.groupby(['session_id','resource'])\n",
    "xx = udfGroup.resource.unique()\n",
    "key = xx.apply(lambda x: str(x))\n",
    "key\n",
    "# key"
   ]
  },
  {
   "cell_type": "code",
   "execution_count": 98,
   "metadata": {},
   "outputs": [
    {
     "data": {
      "text/plain": [
       "['/10.1594/PANGAEA.774574?format=textfile&charset=UTF-8']    21\n",
       "['/10.1594/PANGAEA.56040?format=textfile&charset=UTF-8']     18\n",
       "['/10.1594/PANGAEA.56040?format=html']                       17\n",
       "['/10.1594/PANGAEA.816201?format=html']                      17\n",
       "['/10.1594/PANGAEA.898014?format=html']                      14\n",
       "                                                             ..\n",
       "['/10.1594/PANGAEA.321181?format=textfile']                   1\n",
       "['/10.1594/PANGAEA.861810?format=textfile&charset=UTF-8']     1\n",
       "['/10.1594/PANGAEA.891575?format=textfile']                   1\n",
       "['/10.1594/PANGAEA.693920?format=zip']                        1\n",
       "['/10.1594/PANGAEA.476283?format=textfile']                   1\n",
       "Name: resource, Length: 58664, dtype: int64"
      ]
     },
     "execution_count": 98,
     "metadata": {},
     "output_type": "execute_result"
    }
   ],
   "source": [
    "to = key.value_counts()\n",
    "to\n",
    "# to.to_csv('sendResults')"
   ]
  },
  {
   "cell_type": "code",
   "execution_count": 100,
   "metadata": {},
   "outputs": [],
   "source": [
    "dfu = pd.DataFrame({'resource':to.index, 'count':to.values})"
   ]
  },
  {
   "cell_type": "code",
   "execution_count": 101,
   "metadata": {},
   "outputs": [],
   "source": [
    "dfu.to_csv('uniqueResults')"
   ]
  },
  {
   "cell_type": "code",
   "execution_count": null,
   "metadata": {},
   "outputs": [],
   "source": []
  }
 ],
 "metadata": {
  "kernelspec": {
   "display_name": "Python 3",
   "language": "python",
   "name": "python3"
  },
  "language_info": {
   "codemirror_mode": {
    "name": "ipython",
    "version": 3
   },
   "file_extension": ".py",
   "mimetype": "text/x-python",
   "name": "python",
   "nbconvert_exporter": "python",
   "pygments_lexer": "ipython3",
   "version": "3.7.4"
  }
 },
 "nbformat": 4,
 "nbformat_minor": 2
}
